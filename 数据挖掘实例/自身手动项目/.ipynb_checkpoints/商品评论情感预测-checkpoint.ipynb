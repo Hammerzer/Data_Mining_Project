{
 "cells": [
  {
   "cell_type": "markdown",
   "metadata": {},
   "source": [
    "- 1.商品信息部分\n",
    "\n",
    "字段处理：\n",
    "\n",
    "商品名称：分词统计，jieba\n",
    "\n",
    "所属类别：拆分后与商品类别列表关联，onehot编码"
   ]
  },
  {
   "cell_type": "code",
   "execution_count": 3,
   "metadata": {},
   "outputs": [],
   "source": [
    "# 分词统计:\n",
    "import jieba\n",
    "from jieba import analyse\n",
    "def analyse_text(text):\n",
    "    analyse.set_stopwords('') #此处加载停用词表\n",
    "    split_words = analyse.extract_tags(text)\n",
    "    return split_words\n",
    "\n",
    "# 独热编码\n",
    "def onehot_code(word_list):\n",
    "    return ','.join(word_list).str.get_dummies(sep=',')\n",
    "    "
   ]
  },
  {
   "cell_type": "markdown",
   "metadata": {},
   "source": [
    "- 2.商品类别列表\n",
    "\n",
    "与商品信息列表进行关联\n",
    "\n",
    "- 3.训练集\n",
    "\n",
    "数据id：检查唯一性\n",
    "\n",
    "用户id：聚合键，一些统计指标\n",
    "\n",
    "商品id：关联键，上述2个文件处理完之后关联到文件中\n",
    "\n",
    "评论时间戳： 按照时间戳对评论进行排序和赋权\n",
    "\n",
    "评论标题： 分词进行情感分析\n",
    "\n",
    "评论内容：nlp进行情感分析，词频统计\n",
    "\n",
    "完成之后进行交叉验证"
   ]
  },
  {
   "cell_type": "code",
   "execution_count": null,
   "metadata": {},
   "outputs": [],
   "source": [
    "# 唯一性检查\n",
    "train['数据ID'].unique() == len(train['数据ID'])\n",
    "\n",
    "#评论时间戳:\n",
    "\n",
    "\n",
    "# 评论内容：\n",
    "# 评论长度\n",
    "stopwords = \n",
    "def words_count(text):\n",
    "    sub_replace = re.compile('[^0-9a-z\\s]')\n",
    "    text = sub_replace.sub('',text.lower())\n",
    "    text = ' 'join(word for word in text if word not in stopwords)\n",
    "    return len(text)\n",
    "# 数据清洗，出去无用字符，此处需检查\n",
    "def standardize_text(df, text_field):\n",
    "    df[text_field] = df[text_field].str.replace(r\"http\\S+\", \"\")\n",
    "    df[text_field] = df[text_field].str.replace(r\"http\", \"\")\n",
    "    df[text_field] = df[text_field].str.replace(r\"@\\S+\", \"\")\n",
    "    df[text_field] = df[text_field].str.replace(r\"[^A-Za-z0-9(),!?@\\'\\`\\\"\\_\\n]\", \" \")\n",
    "    df[text_field] = df[text_field].str.replace(r\"@\", \"at\")\n",
    "    df[text_field] = df[text_field].str.lower()\n",
    "    return df"
   ]
  }
 ],
 "metadata": {
  "kernelspec": {
   "display_name": "Python 3",
   "language": "python",
   "name": "python3"
  },
  "language_info": {
   "codemirror_mode": {
    "name": "ipython",
    "version": 3
   },
   "file_extension": ".py",
   "mimetype": "text/x-python",
   "name": "python",
   "nbconvert_exporter": "python",
   "pygments_lexer": "ipython3",
   "version": "3.8.5"
  },
  "toc": {
   "base_numbering": 1,
   "nav_menu": {},
   "number_sections": true,
   "sideBar": true,
   "skip_h1_title": false,
   "title_cell": "Table of Contents",
   "title_sidebar": "Contents",
   "toc_cell": false,
   "toc_position": {},
   "toc_section_display": true,
   "toc_window_display": false
  }
 },
 "nbformat": 4,
 "nbformat_minor": 4
}
