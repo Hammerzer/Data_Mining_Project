{
 "cells": [
  {
   "cell_type": "code",
   "execution_count": 1,
   "metadata": {},
   "outputs": [],
   "source": [
    "# 导入基本包\n",
    "import numpy as np\n",
    "import pandas as pd\n",
    "import matplotlib.pyplot as plt\n",
    "# from ipywidgets import *\n",
    "# from mpl_toolkits import mplot3d #用于绘制3D图形\n",
    "\n",
    "# 显示所有过程结果\n",
    "from IPython.core.interactiveshell import InteractiveShell\n",
    "InteractiveShell.ast_node_interactivity = 'all'\n",
    "\n",
    "plt.rcParams['font.sans-serif']=['SimHei']  # 用来正常显示中文标签\n",
    "plt.rcParams['axes.unicode_minus']=False# 用来正常显示负号"
   ]
  },
  {
   "cell_type": "markdown",
   "metadata": {},
   "source": [
    "## （一）基本原理\n",
    "\n",
    "### 1、概率转换\n",
    "\n",
    "逻辑回归是一种分类算法，它是通过一个中间转换函数，将线性回归模型的y值映射成0-1的概率值p，然后通过概率值p进行分类。当p大于设定阈值时，分类为1,，p小于设定阈值时，分类为0.\n",
    "\n",
    "一般线性回归表达式为：\n",
    "   $$ y_{line}=\\theta_0x_0 +\\theta_1x_1+...+\\theta_nx_n,x_0 \\equiv 1 \\Rightarrow y_{line}=x_b\\theta  $$\n",
    "    其中，$\\theta=(\\theta_0,\\theta_1,\\theta_2...,\\theta_n)^T; x_b=(x_0,x_1,x_2,...,x_n)$\n",
    "    \n",
    "一般线性回归的y值取值范围为$(-\\infty,\\infty)$，但对于逻辑回归而言，其概率值取值范围是(0,1),因此需要引入一个中间函数，将y值映射到(0,1)，即sigmod函数：\n",
    "    $$ y_{line}=x_b\\theta \\Rightarrow p = \\sigma(x_b\\theta),其中p的取值范围为：(0,1)$$\n",
    "    $$ sigmod函数 = \\sigma(t) = \\frac{1}{1+e^{-t}} $$\n",
    "其函数图像如下图所示："
   ]
  },
  {
   "cell_type": "code",
   "execution_count": 8,
   "metadata": {},
   "outputs": [
    {
     "data": {
      "text/plain": [
       "[<matplotlib.lines.Line2D at 0x215afe59a00>]"
      ]
     },
     "execution_count": 8,
     "metadata": {},
     "output_type": "execute_result"
    },
    {
     "data": {
      "text/plain": [
       "<matplotlib.collections.PathCollection at 0x215afe701c0>"
      ]
     },
     "execution_count": 8,
     "metadata": {},
     "output_type": "execute_result"
    },
    {
     "data": {
      "text/plain": [
       "[<matplotlib.lines.Line2D at 0x215afe70790>]"
      ]
     },
     "execution_count": 8,
     "metadata": {},
     "output_type": "execute_result"
    },
    {
     "data": {
      "text/plain": [
       "[<matplotlib.lines.Line2D at 0x215afe70af0>]"
      ]
     },
     "execution_count": 8,
     "metadata": {},
     "output_type": "execute_result"
    },
    {
     "data": {
      "text/plain": [
       "Text(0.5, 0.5, '0.5')"
      ]
     },
     "execution_count": 8,
     "metadata": {},
     "output_type": "execute_result"
    },
    {
     "data": {
      "text/plain": [
       "Text(0.5, 0, 't')"
      ]
     },
     "execution_count": 8,
     "metadata": {},
     "output_type": "execute_result"
    },
    {
     "data": {
      "text/plain": [
       "Text(0, 0.5, 'p')"
      ]
     },
     "execution_count": 8,
     "metadata": {},
     "output_type": "execute_result"
    },
    {
     "data": {
      "image/png": "[encoded data removed]",
      "text/plain": [
       "<Figure size 432x288 with 1 Axes>"
      ]
     },
     "metadata": {
      "needs_background": "light"
     },
     "output_type": "display_data"
    }
   ],
   "source": [
    "# 逻辑回归 概率转换 sigmoid函数曲线  绘图代码\n",
    "x = np.linspace(-10,10,100)\n",
    "y = 1/(1 + np.exp(-x))\n",
    "\n",
    "plt.plot(x,y,color='steelblue')\n",
    "\n",
    "ax = plt.gca()\n",
    "#建立坐标轴\n",
    "ax.spines['right'].set_color('none')\n",
    "ax.spines['top'].set_color('none')\n",
    "#移动坐标轴\n",
    "ax.spines['left'].set_position(('data', 0))\n",
    "ax.spines['bottom'].set_position(('data', 0))\n",
    "#加上下边界\n",
    "plt.scatter(0,0.5,color='indianred')\n",
    "plt.plot(x, x*0 + 1, color='indianred', linestyle=':')\n",
    "plt.plot(x, x*0 + 0, color='indianred', linestyle=':')\n",
    "\n",
    "plt.text(0.5,0.5, r'0.5')\n",
    "\n",
    "plt.xlabel('t')\n",
    "plt.ylabel('p')\n",
    "\n",
    "plt.show()"
   ]
  },
  {
   "cell_type": "markdown",
   "metadata": {},
   "source": [
    "通过观察sigmod函数的图像，可以发现其值域为(0,1)之间，但t>0时，$\\theta(t) >0.5$；当t<0时，$\\theta$<0.5。根据p值对$y_{line}$进行分类。即：\n",
    "   $$ y_{line} = \\begin{cases}   1& p \\geq 0.5 \\\\\n",
    "       0& p < 0.5\n",
    "      \\end{cases}$$"
   ]
  },
  {
   "cell_type": "markdown",
   "metadata": {},
   "source": [
    "### 2、损失函数\n",
    "\n",
    "损失函数定义：\n",
    "$$ \\begin{cases} 如果真值 y=1，但是预测值\\hat{y}=0，即\\hat{p}越小，则损失函数cost应该越大 \\\\\n",
    "                 如果真值 y=0，但是预测值\\hat{y}=1，即\\hat{p}越大，则损失函数cost应该越小 \\end{cases} $$\n",
    "其函数表达式，如下：\n",
    "$$ cost= \\begin{cases} -log(\\hat{p}) & if y =1 \\\\\n",
    "                       -log(1-\\hat{p}) & if y = 0 \\end{cases} $$"
   ]
  },
  {
   "cell_type": "code",
   "execution_count": 9,
   "metadata": {},
   "outputs": [
    {
     "data": {
      "text/plain": [
       "<Figure size 432x504 with 0 Axes>"
      ]
     },
     "execution_count": 9,
     "metadata": {},
     "output_type": "execute_result"
    },
    {
     "data": {
      "text/plain": [
       "Text(0, 3.5, '$ -log(\\\\ \\\\widehat p\\\\ ), \\\\ \\\\ \\\\ if \\\\ y = 1 $')"
      ]
     },
     "execution_count": 9,
     "metadata": {},
     "output_type": "execute_result"
    },
    {
     "data": {
      "text/plain": [
       "Text(0.8, 1.5, '$ -log(\\\\ 1 - \\\\widehat p\\\\ ), \\\\ \\\\ \\\\ if \\\\ y = 0 $')"
      ]
     },
     "execution_count": 9,
     "metadata": {},
     "output_type": "execute_result"
    },
    {
     "data": {
      "text/plain": [
       "[<matplotlib.lines.Line2D at 0x215afcc8520>]"
      ]
     },
     "execution_count": 9,
     "metadata": {},
     "output_type": "execute_result"
    },
    {
     "data": {
      "text/plain": [
       "[<matplotlib.lines.Line2D at 0x215afcdd070>]"
      ]
     },
     "execution_count": 9,
     "metadata": {},
     "output_type": "execute_result"
    },
    {
     "data": {
      "text/plain": [
       "[<matplotlib.lines.Line2D at 0x215b1abc3d0>]"
      ]
     },
     "execution_count": 9,
     "metadata": {},
     "output_type": "execute_result"
    },
    {
     "data": {
      "text/plain": [
       "[<matplotlib.lines.Line2D at 0x215b1aa0550>]"
      ]
     },
     "execution_count": 9,
     "metadata": {},
     "output_type": "execute_result"
    },
    {
     "data": {
      "text/plain": [
       "([<matplotlib.axis.YTick at 0x215b1ab2cd0>,\n",
       "  <matplotlib.axis.YTick at 0x215b009c2b0>,\n",
       "  <matplotlib.axis.YTick at 0x215b1aa7ca0>,\n",
       "  <matplotlib.axis.YTick at 0x215b18d0700>,\n",
       "  <matplotlib.axis.YTick at 0x215b18d0280>,\n",
       "  <matplotlib.axis.YTick at 0x215b1a9baf0>,\n",
       "  <matplotlib.axis.YTick at 0x215b1aa0d30>,\n",
       "  <matplotlib.axis.YTick at 0x215b1a9b700>,\n",
       "  <matplotlib.axis.YTick at 0x215b18eaaf0>,\n",
       "  <matplotlib.axis.YTick at 0x215b18d4d90>,\n",
       "  <matplotlib.axis.YTick at 0x215b1ac1d30>],\n",
       " [Text(0, 0, ''),\n",
       "  Text(0, 0, ''),\n",
       "  Text(0, 0, ''),\n",
       "  Text(0, 0, ''),\n",
       "  Text(0, 0, ''),\n",
       "  Text(0, 0, ''),\n",
       "  Text(0, 0, ''),\n",
       "  Text(0, 0, ''),\n",
       "  Text(0, 0, ''),\n",
       "  Text(0, 0, ''),\n",
       "  Text(0, 0, '')])"
      ]
     },
     "execution_count": 9,
     "metadata": {},
     "output_type": "execute_result"
    },
    {
     "data": {
      "text/plain": [
       "([<matplotlib.axis.XTick at 0x215b18da1f0>,\n",
       "  <matplotlib.axis.XTick at 0x215b18dad90>,\n",
       "  <matplotlib.axis.XTick at 0x215b1aae370>],\n",
       " [Text(0, 0, ''), Text(0, 0, ''), Text(0, 0, '')])"
      ]
     },
     "execution_count": 9,
     "metadata": {},
     "output_type": "execute_result"
    },
    {
     "data": {
      "image/png": "[encoded data removed]",
      "text/plain": [
       "<Figure size 432x504 with 1 Axes>"
      ]
     },
     "metadata": {
      "needs_background": "light"
     },
     "output_type": "display_data"
    }
   ],
   "source": [
    "# 绘制损失函数图像\n",
    "plt.figure(figsize=(6,7))\n",
    "\n",
    "# 数据\n",
    "p1 = np.linspace(0.01, 1, 100, endpoint=False)\n",
    "cost1 = -np.log(p1)\n",
    "cost2 = -np.log(1-p1)\n",
    "\n",
    "# 绘制函数名字\n",
    "plt.text(0, 3.5, r'$ -log(\\ \\widehat p\\ ), \\ \\ \\ if \\ y = 1 $',fontsize=16, color='indianred')\n",
    "plt.text(0.8, 1.5, r'$ -log(\\ 1 - \\widehat p\\ ), \\ \\ \\ if \\ y = 0 $',fontsize=16, color='steelblue')\n",
    "\n",
    "# 绘制函数曲线\n",
    "plt.plot(p1,cost1,color='indianred')\n",
    "plt.plot(p1,cost2,color='steelblue')\n",
    "\n",
    "# 绘制渐近线\n",
    "y = np.linspace(-5.5, 5.5, 100, endpoint=False)\n",
    "plt.plot(y*0+1,y,color='indianred',linestyle=':')\n",
    "plt.plot(y*0,y,color='indianred',linestyle=':')\n",
    "\n",
    "# 改变x，y坐标轴标签\n",
    "yticks = [i for i in range(-5,6)]\n",
    "plt.yticks(yticks)\n",
    "xticks = [i for i in range(0,3)]\n",
    "plt.xticks(xticks)\n",
    "\n",
    "# 编辑坐标轴\n",
    "ax = plt.gca()\n",
    "ax.spines['right'].set_color('none')\n",
    "ax.spines['top'].set_color('none')\n",
    "ax.spines['bottom'].set_position(('data',0))\n",
    "\n",
    "plt.show()"
   ]
  },
  {
   "cell_type": "markdown",
   "metadata": {},
   "source": [
    "通过损失函数 的图像可知：\n",
    "\n",
    "当我们真值$y=1$时，如果我们的$\\hat{p}$更倾向于$\\hat{y}=0$，即：$\\hat{p} \\rightarrow 0$，表明我们预测越离谱，那么我们的损失函数$cost$就会趋向于$\\infty$，这样损失函数就会越大；相反，如果我们的$\\hat{p}$更倾向于$\\hat{y}=1$，即：$\\hat{p} \\rightarrow 1$，表明我们预测越靠谱，那么我们的损失函数$cost$就会趋向于$0$，损失函数就越小；\n",
    "\n",
    "当我们真值$y=0$时，如果我们的$\\hat{p}$更倾向于$\\hat{y}=1$，即：$\\hat{p} \\rightarrow 1$，表明我们预测越离谱，那么我们的损失函数$cost$就会趋向于$\\infty$，这样损失函数就会越大；相反，如果我们的$\\hat{p}$更倾向于$\\hat{y}=0$，即：$\\hat{p} \\rightarrow 0$，表明我们预测越靠谱，那么我们的损失函数$cost$就会趋向于$0$，损失函数就越小。\n",
    "\n",
    "这样我们就定义了一个预测越离谱，损失就越大；预测越靠谱，损失就越小的损失函数。\n",
    "\n",
    "进一步，损失函数可以写成：\n",
    "$$\n",
    "\\cos t=-y \\log (\\hat{p})-(1-y) \\log (1-\\hat{p})\n",
    "$$\n",
    "\n",
    "进一步考虑所有样本，我们的损失函数可以写成：\n",
    "$$\n",
    "\\begin{gathered}\n",
    "J(\\theta)=-\\frac{1}{m} \\sum_{i=1}^{m}\\left[y^{(i)} \\log \\left(\\hat{p}^{(i)}\\right)+\\left(1-y^{(i)}\\right) \\log \\left(1-\\hat{p}^{(i)}\\right)\\right] \\\\\n",
    "\\text { 其中: } \\hat{p}^{(i)}=\\sigma\\left(\\boldsymbol{X}_{b}^{(i)} \\theta\\right)=\\frac{1}{1+e^{-X_{b}^{(i)} \\theta}} \\\\\n",
    "\\Downarrow(\\theta)=-\\frac{1}{m} \\sum_{i=1}^{m}\\left[y^{(i)} \\log \\left(\\sigma\\left(\\boldsymbol{X}_{b}^{(i)} \\theta\\right)\\right)+\\left(1-y^{(i)}\\right) \\log \\left(1-\\sigma\\left(\\boldsymbol{X}_{b}^{(i)} \\theta\\right)\\right)\\right]\n",
    "\\end{gathered}\n",
    "$$\n",
    "\n",
    "$$\n",
    "X_{b}=\\left(\\begin{array}{c|cccc}\n",
    "x_{0}^{(1)} & x_{1}^{(1)} & x_{2}^{(1)} & \\cdots & x_{n}^{(1)} \\\\\n",
    "x_{0}^{(2)} & x_{1}^{(2)} & x_{2}^{(2)} & \\cdots & x_{n}^{(2)} \\\\\n",
    "x_{0}^{(3)} & x_{1}^{(3)} & x_{2}^{(3)} & \\cdots & x_{n}^{(3)} \\\\\n",
    "\\vdots & \\vdots & \\vdots & \\ddots & \\vdots \\\\\n",
    "{\\left[x_{0}^{(i)}\\right.} & x_{1}^{(i)} & x_{2}^{(i)} & \\cdots & \\left.x_{n}^{(i)}\\right] \\leftarrow \\boldsymbol{X}_{b}^{(i)} \\\\\n",
    "\\vdots & \\vdots & \\vdots & \\ddots & \\vdots \\\\\n",
    "x_{0}^{(m)} & x_{1}^{(m)} & x_{2}^{(m)} & \\cdots & x_{n}^{(m)}\n",
    "\\end{array}\\right)_{m \\times(n+1)} \\quad y=\\left(\\begin{array}{c}\n",
    "y^{(1)} \\\\\n",
    "y^{(2)} \\\\\n",
    "y^{(3)} \\\\\n",
    "\\vdots \\\\\n",
    "y^{(m)}\n",
    "\\end{array}\\right)_{m \\times 1}\n",
    "\\quad \\theta=\\left(\\begin{array}{c}\n",
    "\\theta_0 \\\\\n",
    "\\theta_1 \\\\\n",
    "\\theta_2 \\\\\n",
    "\\vdots \\\\\n",
    "\\theta_n\n",
    "\\end{array}\\right)_{m \\times 1}\n",
    "$$"
   ]
  },
  {
   "cell_type": "markdown",
   "metadata": {},
   "source": [
    "### 3、损失函数的梯度\n",
    "\n",
    "事实上，逻辑回归的损失函数没有公式解，只能通过梯度下降法进行求解。以下是求解梯度的过程：\n",
    "\n",
    "我们知道，$J(\\theta)$的梯度，实际上就是对$J(\\theta)$求关于每个$\\theta$的偏导数，进而由偏导数组成的向量就是$J(\\theta)$的梯度，如下：\n",
    "$$\n",
    "\\nabla J(\\theta)=\\left(\\frac{\\partial J(\\theta)}{\\partial \\theta_{0}}, \\frac{\\partial J(\\theta)}{\\partial \\theta_{1}}, \\frac{\\partial J(\\theta)}{\\partial \\theta_{2}}, \\ldots, \\frac{\\partial J(\\theta)}{\\partial \\theta_{n}}\\right)^{T}\n",
    "$$\n",
    "\n",
    "因此，我们只需要求出$J(\\theta)$关于某个$\\theta_j$的偏导数，其他$\\theta$的偏导数也就同理可求。求解过程如下：\n",
    "\n",
    "已知：\n",
    "$$\n",
    "J(\\theta)=-\\frac{1}{m} \\sum_{i=1}^{m}\\left[y^{(i)} \\log \\left(\\hat{p}^{(i)}\\right)+\\left(1-y^{(i)}\\right) \\log \\left(1-\\hat{p}^{(i)}\\right)\\right]\n",
    "$$\n",
    "其中: $\\hat{p}^{(i)}=\\sigma\\left(X_{b}^{(i)} \\theta\\right)=\\frac{1}{1+e^{-X_{b}^{(i)} \\theta}}$\n",
    "\n",
    "1、首先求前半部分：$J(\\theta)_1=y^{(i)} \\log( \\sigma( X_{b}^{(i)}\\theta ) )$关于$\\theta_j$的偏导数。根据链式求导法则：\n",
    "令：$u=\\log( \\sigma( X_{b}^{(i)}\\theta ) ), v=\\sigma( X_{b}^{(i)}\\theta, t=X_{b}^{(i)}\\theta$\n",
    "则$u=log(v), v=\\theta(t) = \\frac{1}{1+e^{-t}}$\n",
    "$$\n",
    "\\frac{\\partial J(\\theta)_{1}}{\\partial \\theta_{j}}=y^{(i)} \\frac{\\partial u}{\\partial v} \\frac{\\partial v}{\\partial t} \\frac{\\partial t}{\\partial \\theta_{j}} \n",
    "$$                                                              \n",
    "$$\n",
    "\\left\\{\\begin{array}{l}\n",
    "\\frac{\\partial v}{\\partial t}=\\frac{\\partial \\log (v)}{\\partial v}=\\frac{1}{v} \\\\\n",
    "\\frac{\\partial \\sigma(t)}{\\partial t}=\\partial\\left(\\frac{1}{1+e^{-t}}\\right) / \\partial t=-\\left(1+e^{-t}\\right)^{-2} e^{-t}(-1)=\\left(1+e^{-t}\\right)^{-2} e^{-t} \\\\\n",
    "\\frac{\\partial t}{\\partial \\theta_{j}}=x_{j}^{(i)}\n",
    "\\end{array}\\right.\n",
    "$$  \n",
    "因此:\n",
    "$$\n",
    "\\begin{aligned}\n",
    "\\frac{\\partial J(\\theta)_{1}}{\\partial \\theta_{j}} &=  y^{(i)} \\frac{\\partial u}{\\partial v} \\frac{\\partial v}{\\partial t} \\frac{\\partial t}{\\partial \\theta_{j}} \\\\ \n",
    "       &= y^{(i)} \\frac{1}{v} \\left(1+e^{-t}\\right)^{-2} e^{-t} x_{j}^{(i)} \\\\\n",
    "       &= y^{(i)} \\frac{1+e^(-t)}{1+e^{(-t)}-1} x_{j}^{(i)} \\\\\n",
    "       &= y^{(i)} (1-\\frac{1+e^{(-t)}}{1}) x_{j}^{(i)} \\\\\n",
    "       &= y^{(i)} (1-\\sigma(t)) x_{j}^{(i)} \\\\\n",
    "       &= y^{(i)} (1-\\sigma\\left(X_{b}^{(i)}\\theta \\right) x_{j}^{(i)}\n",
    "\\end{aligned}\n",
    "$$"
   ]
  },
  {
   "cell_type": "markdown",
   "metadata": {},
   "source": [
    "2、然后求后半部分：$J(\\theta)_2 = \\left(1-y^{(i)}\\right) \\log \\left(1-\\sigma\\left(X_{b}^{(i)}\\theta \\right) \\right)$关于$\\theta_j$的偏导数。根据链式求导法则：\n",
    "令：$u=\\log(1- \\sigma( X_{b}^{(i)}\\theta ) ), v=\\sigma( X_{b}^{(i)}\\theta, t=X_{b}^{(i)}\\theta$\n",
    "则$u=log(1-v), v=\\theta(t) = \\frac{1}{1+e^{-t}}$\n",
    "$$\n",
    "\\frac{\\partial J(\\theta)_{1}}{\\partial \\theta_{j}}=(1-y^{(i)}) \\frac{\\partial u}{\\partial v} \\frac{\\partial v}{\\partial t} \\frac{\\partial t}{\\partial \\theta_{j}} \n",
    "$$  \n",
    "\n",
    "$$\n",
    "\\left\\{\\begin{array}{l}\n",
    "\\frac{\\partial v}{\\partial t}=\\frac{\\partial \\log (v)}{\\partial v}=\\frac-{1}{1-v} \\\\\n",
    "\\frac{\\partial \\sigma(t)}{\\partial t}=\\partial\\left(\\frac{1}{1+e^{-t}}\\right) / \\partial t=-\\left(1+e^{-t}\\right)^{-2} e^{-t}(-1)=\\left(1+e^{-t}\\right)^{-2} e^{-t} \\\\\n",
    "\\frac{\\partial t}{\\partial \\theta_{j}}=x_{j}^{(i)}\n",
    "\\end{array}\\right.\n",
    "$$ \n",
    "\n",
    "因此:\n",
    "$$\n",
    "\\begin{aligned}\n",
    "\\frac{\\partial J(\\theta)_{1}}{\\partial \\theta_{j}} &=  (1-y^{(i)}) \\frac{\\partial u}{\\partial v} \\frac{\\partial v}{\\partial t} \\frac{\\partial t}{\\partial \\theta_{j}} \\\\ \n",
    "       &= (1-y^{(i)}) (\\frac-{1}{1-v}) \\left(1+e^{-t}\\right)^{-2} e^{-t} x_{j}^{(i)} \\\\\n",
    "       &= (1-y^{(i)}) (-\\frac{1}{1-\\frac{1+e^{-t}}{1}}) (1+e^{-t})^{-2} e^{-t} x_{j}^{(i)} \\\\\n",
    "       &= (1-y^{(i)}) (-\\frac{1+e^{(-t)}}{e^{-t}}) (1+e^{-t})^{-2} e^{-t} x_{j}^{(i)} \\\\\n",
    "       &= -(1-y^{(i)}) (1+e^{-t})^{-1} x_{j}^{(i)} \\\\\n",
    "       &= -(1-y^{(i)}) \\sigma\\left(X_{b}^{(i)}\\theta \\right) x_{j}^{(i)}\n",
    "\\end{aligned}\n",
    "$$                                                    "
   ]
  },
  {
   "cell_type": "markdown",
   "metadata": {},
   "source": [
    "综上：\n",
    "$$\n",
    "\\begin{aligned}\n",
    "\\frac{\\partial J(\\theta)}{\\partial \\theta_{j}}&=-\\frac{1}{m} \\sum_{i=1}^{m}\\left[y^{(i)}\\left(1-\\sigma\\left(X_{b}^{(i)} \\theta\\right)\\right) x_{j}^{(i)}-\\left(1-y^{(i)}\\right) \\sigma\\left(X_{b}^{(i)} \\theta\\right) x_{j}^{(i)}\\right]\n",
    "    &=y^{(i)} x_{j}^{(i)}-y^{(i)} \\sigma\\left(X_{b}^{(i)} \\theta\\right) x_{j}^{(i)}-\\sigma\\left(X_{b}^{(i)} \\theta\\right) x_{j}^{(i)}+y^{(i)} \\sigma\\left(X_{b}^{(i)} \\theta\\right) x_{j}^{(i)}\n",
    "    &=-\\frac{1}{m} \\sum_{i=1}^{m}\\left(y^{(i)}-\\sigma\\left(X_{b}^{(i)} \\theta\\right)\\right) x_{j}^{(i)}\n",
    "    &=-\\frac{1}{m} \\sum_{i=1}^{m}\\left(y^{(i)}-\\hat{p}^{(i)}\\right) x_{j}^{(i)}\n",
    "    &=\\frac{1}{m} \\sum_{i=1}^{m}\\left(\\hat{p}^{(i)}-y^{(i)} \\right) x_{j}^{(i)}\n",
    "\\end{aligned}\n",
    "$$\n",
    "\n",
    "因此：\n",
    "$$\n",
    "\\nabla J(\\theta)=\\left(\\begin{array}{l}\n",
    "\\frac{\\partial J(\\theta)}{\\partial \\theta_{0}} \\\\\n",
    "\\frac{\\partial J(\\theta)}{\\partial \\theta_{1}} \\\\\n",
    "\\frac{\\partial J(\\theta)}{\\partial \\theta_{2}} \\\\\n",
    "\\cdots \\\\\n",
    "\\frac{\\partial J(\\theta)}{\\partial \\theta_{n}}\n",
    "\\end{array}\\right)_{(n+1) \\times 1}=\\frac{1}{m}\\left(\\begin{array}{l}\n",
    "\\sum_{i=1}^{m}\\left(\\hat{p}^{(i)}-y^{(i)}\\right) x_{0}^{(i)} \\\\\n",
    "\\sum_{i=1}^{m}\\left(\\hat{p}^{(i)}-y^{(i)}\\right) x_{1}^{(i)} \\\\\n",
    "\\sum_{i=1}^{m}\\left(\\hat{p}^{(i)}-y^{(i)}\\right) x_{2}^{(i)} \\\\\n",
    "\\ldots \\\\\n",
    "\\sum_{i=1}^{m}\\left(\\hat{p}^{(i)}-x_{2}^{(i)}\\right) x_{n}^{(i)}\n",
    "\\end{array}\\right)_{(n+1) \\times 1}\n",
    "=\\frac{1}{m}\\left(\\begin{array}{c}\n",
    "\\sum_{i=1}^{m}\\left(\\sigma\\left(X_{b}^{(i)} \\theta\\right)-y^{(i)}\\right) x_{0}^{(i)} \\\\\n",
    "\\sum_{i=1}^{m}\\left(\\sigma\\left(X_{b}^{(i)} \\theta\\right)-y^{(i)}\\right) x_{1}^{(i)} \\\\\n",
    "\\sum_{i=1}^{m}\\left(\\sigma\\left(X_{b}^{(i)} \\theta\\right)-y^{(i)}\\right) x_{2}^{(i)} \\\\\n",
    "\\cdots \\\\\n",
    "\\sum_{i=1}^{m}\\left(\\sigma\\left(X_{b}^{(i)} \\theta\\right)-y^{(i)}\\right) x_{n}^{(i)}\n",
    "\\end{array}\\right)_{(n+1) \\times 1}\n",
    "$$\n",
    "\n",
    "类比线性回归，可得：\n",
    "$$\n",
    "\\nabla J(\\theta)=\\frac{1}{m} X_{b}^{T}\\left(\\sigma\\left(X_{b} \\theta\\right)-y\\right)\n",
    "$$"
   ]
  },
  {
   "cell_type": "markdown",
   "metadata": {},
   "source": [
    "## 二、封装\n",
    "\n",
    "### 1、封装代码"
   ]
  },
  {
   "cell_type": "code",
   "execution_count": 27,
   "metadata": {},
   "outputs": [],
   "source": [
    "import numpy as np\n",
    "\n",
    "class MY_LogisticRegression:\n",
    "    \n",
    "    def __init__(self):\n",
    "        '''初始化'''\n",
    "        self.intercept_ = None\n",
    "        self.coef_ = None\n",
    "        self._theta =None\n",
    "    \n",
    "    def _Sigmoid(self, t):\n",
    "        return 1. / (1. + np.exp(-t))\n",
    "    \n",
    "    def fit(self, X_train, y_train, eta=0.01, n_iters=1e4, epsilon=1e-8, method='f'):\n",
    "        '使用梯度下降法进行训练'\n",
    "        assert X_train.shape[0] == y_train.shape[0], 'X_train 和 y_train 的行数要一致'\n",
    "        \n",
    "        def Func_J(theta, X_b, y):\n",
    "            p_hat = self._Sigmoid(X_b.dot(theta))\n",
    "            try:\n",
    "                return - np.sum(y * np.log(p_hat) + (1 - y) * np.log(1 - p_hat)) / len(X_b)\n",
    "            except:\n",
    "                return float('inf')\n",
    "                \n",
    "        def grad(theta, X_b, y):\n",
    "            # for循环\n",
    "            if method == 'f':\n",
    "                grad_j = np.empty(len(theta))\n",
    "                grad_j[0] = np.sum(self._Sigmoid(X_b.dot(theta)) - y)\n",
    "                for i in range(1, len(theta)):\n",
    "                    grad_j[i] = (self._Sigmoid(X_b.dot(theta)) - y).dot(X_b[:,i])\n",
    "                return grad_j / len(X_b)\n",
    "            # 向量法\n",
    "            if method == 'm':\n",
    "                    return (X_b).T.dot(self._Sigmoid(X_b.dot(theta)) - y) / len(X_b)\n",
    "                \n",
    "        # 定义梯度下降迭代函数\n",
    "        def gradient_descent(X_b, y, initial_theta, eta, n_iters, epsilon):\n",
    "\n",
    "            theta = initial_theta\n",
    "            i_iter = 0\n",
    "\n",
    "            while i_iter < n_iters:\n",
    "                theta_old = theta\n",
    "                theta = theta - eta * grad(theta_old, X_b, y)\n",
    "\n",
    "                if abs(Func_J(theta, X_b, y) - Func_J(theta_old, X_b, y)) < epsilon:\n",
    "                    break\n",
    "\n",
    "                i_iter += 1\n",
    "\n",
    "            return theta\n",
    "        \n",
    "        x_0 = np.ones((len(X_train), 1))\n",
    "        \n",
    "        if len(X_train.shape) == 1:\n",
    "            X_train = X_train.reshape(-1,1)\n",
    "            \n",
    "        X_b = np.hstack([x_0, X_train])\n",
    "        initial_theta = np.zeros(X_b.shape[1])\n",
    "\n",
    "        self._theta = gradient_descent(X_b, y_train, initial_theta, eta, n_iters, epsilon)\n",
    "        self.intercept_ = self._theta[0]\n",
    "        self.coef_ = self._theta[1:]\n",
    "        return self\n",
    "\n",
    "    \n",
    "    def predict_proba(self, X_predict):\n",
    "        '''预测结果概率'''\n",
    "        assert self.intercept_ is not None and self.coef_ is not None, '请先进行训练'\n",
    "        assert X_predict.shape[1] == len(self.coef_), '特证个数必须与参数（非截距）个数相等'\n",
    "        \n",
    "        X_0 = np.ones(shape=(len(X_predict), 1))\n",
    "        X_b = np.hstack([X_0, X_predict])\n",
    "        \n",
    "        return self._Sigmoid(X_b.dot(self._theta)) # p_hat = Sigmoid(X_b.dot(𝜃))\n",
    "    \n",
    "    def predict(self, X_predict):\n",
    "        '''预测'''\n",
    "        assert self.intercept_ is not None and self.coef_ is not None, '请先进行训练'\n",
    "        assert X_predict.shape[1] == len(self.coef_), '特证个数必须与参数（非截距）个数相等'\n",
    "        \n",
    "        proba = self.predict_proba(X_predict)\n",
    "        \n",
    "        return np.array(proba >= 0.5, dtype = 'int')\n",
    "    \n",
    "    def my_accuracy_score(self, y_true, y_predict):\n",
    "        '''计算准确度'''\n",
    "        assert y_true.shape[0]== y_predict.shape[0], 'y_true与y_predict的行要相等'\n",
    "\n",
    "        return np.sum(y_true == y_predict)/len(y_true)\n",
    "    \n",
    "    def score(self, X_test, y_test):\n",
    "        '''根据测试数据集X_test和y_test确定当前模型的准确度'''\n",
    "        y_predict = self.predict(X_test)\n",
    "        return self.my_accuracy_score(y_test, y_predict)\n",
    "    \n",
    "    def __repr__(self):\n",
    "        return'MY_LogisticRegression()'"
   ]
  },
  {
   "cell_type": "markdown",
   "metadata": {},
   "source": [
    "### 2、封装测试"
   ]
  },
  {
   "cell_type": "code",
   "execution_count": 34,
   "metadata": {},
   "outputs": [
    {
     "data": {
      "text/plain": [
       "array([[5.1, 3.5],\n",
       "       [4.9, 3. ],\n",
       "       [4.7, 3.2],\n",
       "       [4.6, 3.1],\n",
       "       [5. , 3.6]])"
      ]
     },
     "execution_count": 34,
     "metadata": {},
     "output_type": "execute_result"
    },
    {
     "data": {
      "text/plain": [
       "array([0, 0, 0, 0, 0])"
      ]
     },
     "execution_count": 34,
     "metadata": {},
     "output_type": "execute_result"
    }
   ],
   "source": [
    "from sklearn import datasets\n",
    "\n",
    "iris = datasets.load_iris()\n",
    "\n",
    "x = iris.data\n",
    "y = iris.target\n",
    "\n",
    "x = x[y<2,:2]\n",
    "y = y[y<2]\n",
    "\n",
    "x[:5]\n",
    "y[:5]\n"
   ]
  },
  {
   "cell_type": "code",
   "execution_count": 13,
   "metadata": {
    "scrolled": true
   },
   "outputs": [
    {
     "data": {
      "text/plain": [
       "<matplotlib.collections.PathCollection at 0x215b29478b0>"
      ]
     },
     "execution_count": 13,
     "metadata": {},
     "output_type": "execute_result"
    },
    {
     "data": {
      "text/plain": [
       "<matplotlib.collections.PathCollection at 0x215b2947d00>"
      ]
     },
     "execution_count": 13,
     "metadata": {},
     "output_type": "execute_result"
    },
    {
     "data": {
      "image/png": "[encoded data removed]",
      "text/plain": [
       "<Figure size 432x288 with 1 Axes>"
      ]
     },
     "metadata": {
      "needs_background": "light"
     },
     "output_type": "display_data"
    }
   ],
   "source": [
    "# 绘图\n",
    "plt.scatter(x[y==1,0], x[y==1,1], color='steelblue')\n",
    "plt.scatter(x[y==0,0], x[y==0,1], color='indianred')\n",
    "plt.show()"
   ]
  },
  {
   "cell_type": "code",
   "execution_count": 36,
   "metadata": {},
   "outputs": [],
   "source": [
    "#  切分数据\n",
    "from sklearn.model_selection import train_test_split\n",
    "x_train, x_test, y_train, y_test = train_test_split(x, y, test_size=0.2, random_state=666)"
   ]
  },
  {
   "cell_type": "code",
   "execution_count": 37,
   "metadata": {},
   "outputs": [
    {
     "name": "stdout",
     "output_type": "stream",
     "text": [
      "2\n"
     ]
    },
    {
     "data": {
      "text/plain": [
       "MY_LogisticRegression()"
      ]
     },
     "execution_count": 37,
     "metadata": {},
     "output_type": "execute_result"
    },
    {
     "name": "stdout",
     "output_type": "stream",
     "text": [
      "2\n",
      "2\n"
     ]
    }
   ],
   "source": [
    "my_lr = MY_LogisticRegression()  # 实例化\n",
    "my_lr.fit(x_train, y_train, eta=0.01, n_iters=1e4, epsilon=1e-8, method='m')  # 训练\n",
    "y_proba = my_lr.predict_proba(x_test)  # 预测概率\n",
    "y_predict = my_lr.predict(x_test)  # 预测分类  输出：array([1, 1, 0, 0, 0, 0, 0, 1, 1, 1, 0, 0, 0, 0, 1, 1, 1, 0, 0, 0])"
   ]
  },
  {
   "cell_type": "code",
   "execution_count": 38,
   "metadata": {},
   "outputs": [
    {
     "data": {
      "text/plain": [
       "1.0"
      ]
     },
     "execution_count": 38,
     "metadata": {},
     "output_type": "execute_result"
    }
   ],
   "source": [
    "# 准确度\n",
    "my_lr.my_accuracy_score(y_test, y_predict)  # 输出：1.0"
   ]
  },
  {
   "cell_type": "markdown",
   "metadata": {},
   "source": [
    "## 三、决策边界\n",
    "\n",
    "### 1、逻辑回归的决策边界\n",
    "\n",
    "根据逻辑回归分类的基本原理：\n",
    "$$ y_{line} = \\begin{cases}   1& p \\geq 0.5 \\\\\n",
    "       0& p < 0.5\n",
    "      \\end{cases}\n",
    "$$\n",
    "其中：\n",
    "$$\n",
    "p = \\sigma(x_b \\theta) = \\frac{1}{1+e^{-x_b \\theta}} \n",
    "$$\n",
    "sigmod函数如下图："
   ]
  },
  {
   "cell_type": "code",
   "execution_count": 16,
   "metadata": {},
   "outputs": [
    {
     "data": {
      "text/plain": [
       "[<matplotlib.lines.Line2D at 0x215b2b0b190>]"
      ]
     },
     "execution_count": 16,
     "metadata": {},
     "output_type": "execute_result"
    },
    {
     "data": {
      "text/plain": [
       "<matplotlib.collections.PathCollection at 0x215b2b82a90>"
      ]
     },
     "execution_count": 16,
     "metadata": {},
     "output_type": "execute_result"
    },
    {
     "data": {
      "text/plain": [
       "[<matplotlib.lines.Line2D at 0x215b2b26cd0>]"
      ]
     },
     "execution_count": 16,
     "metadata": {},
     "output_type": "execute_result"
    },
    {
     "data": {
      "text/plain": [
       "[<matplotlib.lines.Line2D at 0x215b2b06220>]"
      ]
     },
     "execution_count": 16,
     "metadata": {},
     "output_type": "execute_result"
    },
    {
     "data": {
      "text/plain": [
       "Text(0.5, 0.5, '0.5')"
      ]
     },
     "execution_count": 16,
     "metadata": {},
     "output_type": "execute_result"
    },
    {
     "data": {
      "text/plain": [
       "Text(0.5, 0, 't')"
      ]
     },
     "execution_count": 16,
     "metadata": {},
     "output_type": "execute_result"
    },
    {
     "data": {
      "text/plain": [
       "Text(0, 0.5, 'p')"
      ]
     },
     "execution_count": 16,
     "metadata": {},
     "output_type": "execute_result"
    },
    {
     "data": {
      "image/png": "[encoded data removed]",
      "text/plain": [
       "<Figure size 432x288 with 1 Axes>"
      ]
     },
     "metadata": {
      "needs_background": "light"
     },
     "output_type": "display_data"
    }
   ],
   "source": [
    "x = np.linspace(-10,10,100)\n",
    "y = 1/(1 + np.exp(-x))\n",
    "\n",
    "plt.plot(x,y,color='steelblue')\n",
    "\n",
    "ax = plt.gca()\n",
    "#建立坐标轴\n",
    "ax.spines['right'].set_color('none')\n",
    "ax.spines['top'].set_color('none')\n",
    "#移动坐标轴\n",
    "ax.spines['left'].set_position(('data', 0))\n",
    "ax.spines['bottom'].set_position(('data', 0))\n",
    "#加上下边界\n",
    "plt.scatter(0,0.5,color='indianred')\n",
    "plt.plot(x, x*0 + 1, color='indianred', linestyle=':')\n",
    "plt.plot(x, x*0 + 0, color='indianred', linestyle=':')\n",
    "\n",
    "plt.text(0.5,0.5, r'0.5')\n",
    "\n",
    "plt.xlabel('t')\n",
    "plt.ylabel('p')\n",
    "\n",
    "plt.show()"
   ]
  },
  {
   "cell_type": "markdown",
   "metadata": {},
   "source": [
    "由图可知：\n",
    "\n",
    "$x_b \\theta > 0$时，$p>0.5 \\rightarrow y=1$；$x_b \\theta < 0$时，$p<0.5 \\rightarrow y=0$。因此，$x_b \\theta = 0$实际上 就是将$y$划分开的一根超维边界线，我们称之为决策边界。\n",
    "方便理解，我们将维度降低到二维：\n",
    "$$\n",
    "\\theta_{0}+\\theta_{1} x_{1}+\\theta_{2} x_{2}=0 \\rightarrow x_{2}=-\\frac{\\theta_{0}+\\theta_{1} x_{1}}{\\theta_{2}}\n",
    "$$\n",
    "\n",
    "如上，我们可以得到一条二维直线，该直线就是决策边界。\n",
    "\n",
    "以下以前述训练结果对其决策边界进行可视化。"
   ]
  },
  {
   "cell_type": "code",
   "execution_count": 39,
   "metadata": {},
   "outputs": [
    {
     "data": {
      "text/plain": [
       "[<matplotlib.lines.Line2D at 0x215b3dda160>]"
      ]
     },
     "execution_count": 39,
     "metadata": {},
     "output_type": "execute_result"
    },
    {
     "data": {
      "text/plain": [
       "<matplotlib.collections.PathCollection at 0x215b3dda3a0>"
      ]
     },
     "execution_count": 39,
     "metadata": {},
     "output_type": "execute_result"
    },
    {
     "data": {
      "text/plain": [
       "<matplotlib.collections.PathCollection at 0x215b3dda850>"
      ]
     },
     "execution_count": 39,
     "metadata": {},
     "output_type": "execute_result"
    },
    {
     "data": {
      "image/png": "[encoded data removed]",
      "text/plain": [
       "<Figure size 432x288 with 1 Axes>"
      ]
     },
     "metadata": {
      "needs_background": "light"
     },
     "output_type": "display_data"
    }
   ],
   "source": [
    "# 绘图\n",
    "x1 = np.linspace(4, 7)\n",
    "x2 = - (my_lr.intercept_ + my_lr.coef_[0] * x1)/my_lr.coef_[1]\n",
    "\n",
    "plt.plot(x1,x2,color='seagreen')\n",
    "plt.scatter(x[y==1,0], x[y==1,1], color='steelblue')\n",
    "plt.scatter(x[y==0,0], x[y==0,1], color='indianred')\n",
    "plt.show()"
   ]
  },
  {
   "cell_type": "markdown",
   "metadata": {},
   "source": [
    "那么对于不是直线的决策边界应该怎么绘制呢？我们可以将平面中的每个点都进行预测分类，然后将不同的类标记上不同的颜色，这样就可以通过无数个点描绘出决策边界。"
   ]
  },
  {
   "cell_type": "code",
   "execution_count": 45,
   "metadata": {},
   "outputs": [],
   "source": [
    "# 定义绘制决策边界的函数\n",
    "def plot_decision_boundary(model, axis):\n",
    "    \n",
    "    # 生成网格坐标\n",
    "    x0, x1 = np.meshgrid(\n",
    "        np.linspace(axis[0], axis[1], int((axis[1]-axis[0])*100)).reshape(-1, 1),\n",
    "        np.linspace(axis[2], axis[3], int((axis[3]-axis[2])*100)).reshape(-1, 1),\n",
    "    )\n",
    "    \n",
    "    X_new = np.c_[x0.ravel(), x1.ravel()]  # np.c_ 横向合并矩阵；ravel() 矩阵降维；array是列向量\n",
    "\n",
    "    y_predict = model.predict(X_new)\n",
    "    \n",
    "    # 将y还原平面坐标矩阵\n",
    "    zz = y_predict.reshape(x0.shape)\n",
    "\n",
    "    # 导入颜色映射\n",
    "    from matplotlib.colors import ListedColormap\n",
    "    custom_cmap = ListedColormap(['#EF9A9A','#FFF59D','#90CAF9'])\n",
    "    plt.contourf(x0, x1, zz, linewidth=5, cmap=custom_cmap)  # plt.contourf 绘制三维等高线"
   ]
  },
  {
   "cell_type": "code",
   "execution_count": 46,
   "metadata": {},
   "outputs": [
    {
     "name": "stdout",
     "output_type": "stream",
     "text": [
      "2\n",
      "2\n"
     ]
    },
    {
     "name": "stderr",
     "output_type": "stream",
     "text": [
      "<ipython-input-45-78f04e33b15d>:20: UserWarning: The following kwargs were not used by contour: 'linewidth'\n",
      "  plt.contourf(x0, x1, zz, linewidth=5, cmap=custom_cmap)  # plt.contourf 绘制三维等高线\n"
     ]
    },
    {
     "data": {
      "text/plain": [
       "<matplotlib.collections.PathCollection at 0x215b3d4fbb0>"
      ]
     },
     "execution_count": 46,
     "metadata": {},
     "output_type": "execute_result"
    },
    {
     "data": {
      "text/plain": [
       "<matplotlib.collections.PathCollection at 0x215b3d4fb80>"
      ]
     },
     "execution_count": 46,
     "metadata": {},
     "output_type": "execute_result"
    },
    {
     "data": {
      "image/png": "[encoded data removed]",
      "text/plain": [
       "<Figure size 432x288 with 1 Axes>"
      ]
     },
     "metadata": {
      "needs_background": "light"
     },
     "output_type": "display_data"
    }
   ],
   "source": [
    "plot_decision_boundary(my_lr, axis=[4, 7.5, 1.5, 4.5])\n",
    "plt.scatter(x[y==0,0], x[y==0,1])\n",
    "plt.scatter(x[y==1,0], x[y==1,1])\n",
    "plt.show()"
   ]
  },
  {
   "cell_type": "markdown",
   "metadata": {},
   "source": [
    "### 3、KNN的决策边界"
   ]
  },
  {
   "cell_type": "code",
   "execution_count": 47,
   "metadata": {},
   "outputs": [
    {
     "data": {
      "text/plain": [
       "KNeighborsClassifier()"
      ]
     },
     "execution_count": 47,
     "metadata": {},
     "output_type": "execute_result"
    },
    {
     "data": {
      "text/plain": [
       "1.0"
      ]
     },
     "execution_count": 47,
     "metadata": {},
     "output_type": "execute_result"
    }
   ],
   "source": [
    "from sklearn.neighbors import KNeighborsClassifier \n",
    "my_knn = KNeighborsClassifier()\n",
    "my_knn.fit(x_train, y_train)\n",
    "my_knn.score(x_test, y_test)  # 输出：1.0"
   ]
  },
  {
   "cell_type": "code",
   "execution_count": 48,
   "metadata": {},
   "outputs": [
    {
     "name": "stderr",
     "output_type": "stream",
     "text": [
      "<ipython-input-45-78f04e33b15d>:20: UserWarning: The following kwargs were not used by contour: 'linewidth'\n",
      "  plt.contourf(x0, x1, zz, linewidth=5, cmap=custom_cmap)  # plt.contourf 绘制三维等高线\n"
     ]
    },
    {
     "data": {
      "text/plain": [
       "<matplotlib.collections.PathCollection at 0x215b42983a0>"
      ]
     },
     "execution_count": 48,
     "metadata": {},
     "output_type": "execute_result"
    },
    {
     "data": {
      "text/plain": [
       "<matplotlib.collections.PathCollection at 0x215b4298310>"
      ]
     },
     "execution_count": 48,
     "metadata": {},
     "output_type": "execute_result"
    },
    {
     "data": {
      "image/png": "[encoded data removed]",
      "text/plain": [
       "<Figure size 432x288 with 1 Axes>"
      ]
     },
     "metadata": {
      "needs_background": "light"
     },
     "output_type": "display_data"
    }
   ],
   "source": [
    "plot_decision_boundary(my_knn, axis=[4, 7.5, 1.5, 4.5])\n",
    "plt.scatter(x[y==0,0], x[y==0,1])\n",
    "plt.scatter(x[y==1,0], x[y==1,1])\n",
    "plt.show()"
   ]
  },
  {
   "cell_type": "code",
   "execution_count": 49,
   "metadata": {},
   "outputs": [
    {
     "data": {
      "text/plain": [
       "KNeighborsClassifier()"
      ]
     },
     "execution_count": 49,
     "metadata": {},
     "output_type": "execute_result"
    }
   ],
   "source": [
    "# 训练多分类 n_neighbors=default\n",
    "from sklearn.neighbors import KNeighborsClassifier \n",
    "my_knn_all = KNeighborsClassifier()\n",
    "my_knn_all.fit(iris.data[:,:2], iris.target)"
   ]
  },
  {
   "cell_type": "code",
   "execution_count": 50,
   "metadata": {},
   "outputs": [
    {
     "name": "stderr",
     "output_type": "stream",
     "text": [
      "<ipython-input-45-78f04e33b15d>:20: UserWarning: The following kwargs were not used by contour: 'linewidth'\n",
      "  plt.contourf(x0, x1, zz, linewidth=5, cmap=custom_cmap)  # plt.contourf 绘制三维等高线\n"
     ]
    },
    {
     "data": {
      "text/plain": [
       "<matplotlib.collections.PathCollection at 0x215b4110fd0>"
      ]
     },
     "execution_count": 50,
     "metadata": {},
     "output_type": "execute_result"
    },
    {
     "data": {
      "text/plain": [
       "<matplotlib.collections.PathCollection at 0x215b411e190>"
      ]
     },
     "execution_count": 50,
     "metadata": {},
     "output_type": "execute_result"
    },
    {
     "data": {
      "text/plain": [
       "<matplotlib.collections.PathCollection at 0x215b40ecb20>"
      ]
     },
     "execution_count": 50,
     "metadata": {},
     "output_type": "execute_result"
    },
    {
     "data": {
      "image/png": "[encoded data removed]",
      "text/plain": [
       "<Figure size 432x288 with 1 Axes>"
      ]
     },
     "metadata": {
      "needs_background": "light"
     },
     "output_type": "display_data"
    }
   ],
   "source": [
    "# 多分类的决策边界\n",
    "plot_decision_boundary(my_knn_all, axis=[4.0, 8.0, 1.5, 4.5])\n",
    "plt.scatter(iris.data[iris.target==0,0], iris.data[iris.target==0,1])\n",
    "plt.scatter(iris.data[iris.target==1,0], iris.data[iris.target==1,1])\n",
    "plt.scatter(iris.data[iris.target==2,0], iris.data[iris.target==2,1])\n",
    "plt.show()"
   ]
  },
  {
   "cell_type": "markdown",
   "metadata": {},
   "source": [
    "从上图中我们可以发现，决策边界比较弯曲复杂，这可能就是过拟合在决策边界上的表现。因为我们使用近邻k参数为默认5，这样使得模型复杂度较高（k越小，模型越复杂）。"
   ]
  },
  {
   "cell_type": "code",
   "execution_count": 51,
   "metadata": {},
   "outputs": [
    {
     "data": {
      "text/plain": [
       "KNeighborsClassifier(n_neighbors=50)"
      ]
     },
     "execution_count": 51,
     "metadata": {},
     "output_type": "execute_result"
    }
   ],
   "source": [
    "# 训练多分类 n_neighbors=50\n",
    "from sklearn.neighbors import KNeighborsClassifier \n",
    "my_knn_all = KNeighborsClassifier(n_neighbors=50)\n",
    "my_knn_all.fit(iris.data[:,:2], iris.target)"
   ]
  },
  {
   "cell_type": "code",
   "execution_count": 52,
   "metadata": {},
   "outputs": [
    {
     "name": "stderr",
     "output_type": "stream",
     "text": [
      "<ipython-input-45-78f04e33b15d>:20: UserWarning: The following kwargs were not used by contour: 'linewidth'\n",
      "  plt.contourf(x0, x1, zz, linewidth=5, cmap=custom_cmap)  # plt.contourf 绘制三维等高线\n"
     ]
    },
    {
     "data": {
      "text/plain": [
       "<matplotlib.collections.PathCollection at 0x215b4190eb0>"
      ]
     },
     "execution_count": 52,
     "metadata": {},
     "output_type": "execute_result"
    },
    {
     "data": {
      "text/plain": [
       "<matplotlib.collections.PathCollection at 0x215b4190ee0>"
      ]
     },
     "execution_count": 52,
     "metadata": {},
     "output_type": "execute_result"
    },
    {
     "data": {
      "text/plain": [
       "<matplotlib.collections.PathCollection at 0x215b41b3a90>"
      ]
     },
     "execution_count": 52,
     "metadata": {},
     "output_type": "execute_result"
    },
    {
     "data": {
      "image/png": "[encoded data removed]",
      "text/plain": [
       "<Figure size 432x288 with 1 Axes>"
      ]
     },
     "metadata": {
      "needs_background": "light"
     },
     "output_type": "display_data"
    }
   ],
   "source": [
    "# 多分类的决策边界\n",
    "plot_decision_boundary(my_knn_all, axis=[4.0, 8.0, 1.5, 4.5])\n",
    "plt.scatter(iris.data[iris.target==0,0], iris.data[iris.target==0,1])\n",
    "plt.scatter(iris.data[iris.target==1,0], iris.data[iris.target==1,1])\n",
    "plt.scatter(iris.data[iris.target==2,0], iris.data[iris.target==2,1])\n",
    "plt.show()"
   ]
  },
  {
   "cell_type": "markdown",
   "metadata": {},
   "source": [
    "上图是将近邻k参数提高到50后的决策边界，决策边界变得“简单很多”。"
   ]
  },
  {
   "attachments": {
    "image.png": {
     "image/png": "[encoded data removed]"
    }
   },
   "cell_type": "markdown",
   "metadata": {},
   "source": [
    "## 四、添加多项式特征的逻辑回归\n",
    "\n",
    "前文阐述的逻辑回归，其决策边界一直是一条直线。但是在实际情况中，决策边界可能并不是简单的直线，而可能是较为复杂的曲线，如下图：\n",
    "![image.png](attachment:image.png)\n",
    "因此我们将多项式特征引进逻辑回归模型中，以期望能够得到更为复杂的决策边界。"
   ]
  },
  {
   "cell_type": "code",
   "execution_count": 53,
   "metadata": {},
   "outputs": [],
   "source": [
    "# 生成模拟数据\n",
    "np.random.seed(666)\n",
    "x = np.random.normal(0, 1, size=(200, 2))\n",
    "y = np.array(x[:,0] ** 2 + x[:,1] ** 2 < 1.5, dtype='int')"
   ]
  },
  {
   "cell_type": "code",
   "execution_count": 54,
   "metadata": {},
   "outputs": [
    {
     "data": {
      "text/plain": [
       "<matplotlib.collections.PathCollection at 0x215b420c640>"
      ]
     },
     "execution_count": 54,
     "metadata": {},
     "output_type": "execute_result"
    },
    {
     "data": {
      "text/plain": [
       "<matplotlib.collections.PathCollection at 0x215b420cac0>"
      ]
     },
     "execution_count": 54,
     "metadata": {},
     "output_type": "execute_result"
    },
    {
     "data": {
      "image/png": "[encoded data removed]",
      "text/plain": [
       "<Figure size 432x288 with 1 Axes>"
      ]
     },
     "metadata": {
      "needs_background": "light"
     },
     "output_type": "display_data"
    }
   ],
   "source": [
    "plt.scatter(x[y==0][:,0], x[y==0][:,1])\n",
    "plt.scatter(x[y==1][:,0], x[y==1][:,1])\n",
    "plt.show()"
   ]
  },
  {
   "cell_type": "code",
   "execution_count": 55,
   "metadata": {},
   "outputs": [
    {
     "name": "stdout",
     "output_type": "stream",
     "text": [
      "2\n"
     ]
    },
    {
     "data": {
      "text/plain": [
       "MY_LogisticRegression()"
      ]
     },
     "execution_count": 55,
     "metadata": {},
     "output_type": "execute_result"
    },
    {
     "name": "stdout",
     "output_type": "stream",
     "text": [
      "2\n",
      "2\n"
     ]
    },
    {
     "data": {
      "text/plain": [
       "0.615"
      ]
     },
     "execution_count": 55,
     "metadata": {},
     "output_type": "execute_result"
    }
   ],
   "source": [
    "my_lr = MY_LogisticRegression()\n",
    "my_lr.fit(x, y, eta=0.001, n_iters=1e4, epsilon=1e-8, method='m')\n",
    "\n",
    "my_lr.score(x, y)  # 0.615"
   ]
  },
  {
   "cell_type": "code",
   "execution_count": 57,
   "metadata": {},
   "outputs": [
    {
     "name": "stdout",
     "output_type": "stream",
     "text": [
      "2\n",
      "2\n"
     ]
    },
    {
     "name": "stderr",
     "output_type": "stream",
     "text": [
      "<ipython-input-45-78f04e33b15d>:20: UserWarning: The following kwargs were not used by contour: 'linewidth'\n",
      "  plt.contourf(x0, x1, zz, linewidth=5, cmap=custom_cmap)  # plt.contourf 绘制三维等高线\n"
     ]
    },
    {
     "data": {
      "text/plain": [
       "<matplotlib.collections.PathCollection at 0x215b53f9a30>"
      ]
     },
     "execution_count": 57,
     "metadata": {},
     "output_type": "execute_result"
    },
    {
     "data": {
      "text/plain": [
       "<matplotlib.collections.PathCollection at 0x215b53f9a60>"
      ]
     },
     "execution_count": 57,
     "metadata": {},
     "output_type": "execute_result"
    },
    {
     "data": {
      "image/png": "[encoded data removed]",
      "text/plain": [
       "<Figure size 432x288 with 1 Axes>"
      ]
     },
     "metadata": {
      "needs_background": "light"
     },
     "output_type": "display_data"
    }
   ],
   "source": [
    "# 绘制决策边界\n",
    "plot_decision_boundary(my_lr, axis=[-3.5, 3.5, -3.5, 3.5])\n",
    "plt.scatter(x[y==0,0], x[y==0,1])\n",
    "plt.scatter(x[y==1,0], x[y==1,1])\n",
    "plt.show()"
   ]
  },
  {
   "cell_type": "code",
   "execution_count": 58,
   "metadata": {},
   "outputs": [],
   "source": [
    "from sklearn.pipeline import Pipeline  # 导入管道\n",
    "from sklearn.preprocessing import PolynomialFeatures  # 导入多项式回归\n",
    "from sklearn.preprocessing import StandardScaler  # 导入标准化包\n",
    "\n",
    "def Polynomial_LR(degree):\n",
    "    return Pipeline([\n",
    "        ('poly', PolynomialFeatures(degree=degree)),\n",
    "        ('std_scalar', StandardScaler()),\n",
    "        ('lr', MY_LogisticRegression())\n",
    "    ])"
   ]
  },
  {
   "cell_type": "code",
   "execution_count": 59,
   "metadata": {},
   "outputs": [
    {
     "name": "stdout",
     "output_type": "stream",
     "text": [
      "6\n"
     ]
    },
    {
     "data": {
      "text/plain": [
       "Pipeline(steps=[('poly', PolynomialFeatures()),\n",
       "                ('std_scalar', StandardScaler()),\n",
       "                ('lr', MY_LogisticRegression())])"
      ]
     },
     "execution_count": 59,
     "metadata": {},
     "output_type": "execute_result"
    },
    {
     "name": "stdout",
     "output_type": "stream",
     "text": [
      "6\n",
      "6\n"
     ]
    },
    {
     "data": {
      "text/plain": [
       "0.95"
      ]
     },
     "execution_count": 59,
     "metadata": {},
     "output_type": "execute_result"
    }
   ],
   "source": [
    "poly_lr_2 = Polynomial_LR(degree=2)\n",
    "poly_lr_2.fit(x, y)\n",
    "poly_lr_2.score(x, y)  # 输出：0.95"
   ]
  },
  {
   "cell_type": "code",
   "execution_count": 60,
   "metadata": {},
   "outputs": [
    {
     "name": "stdout",
     "output_type": "stream",
     "text": [
      "6\n",
      "6\n"
     ]
    },
    {
     "name": "stderr",
     "output_type": "stream",
     "text": [
      "<ipython-input-45-78f04e33b15d>:20: UserWarning: The following kwargs were not used by contour: 'linewidth'\n",
      "  plt.contourf(x0, x1, zz, linewidth=5, cmap=custom_cmap)  # plt.contourf 绘制三维等高线\n"
     ]
    },
    {
     "data": {
      "text/plain": [
       "<matplotlib.collections.PathCollection at 0x215b4249ee0>"
      ]
     },
     "execution_count": 60,
     "metadata": {},
     "output_type": "execute_result"
    },
    {
     "data": {
      "text/plain": [
       "<matplotlib.collections.PathCollection at 0x215b4249fa0>"
      ]
     },
     "execution_count": 60,
     "metadata": {},
     "output_type": "execute_result"
    },
    {
     "data": {
      "image/png": "[encoded data removed]",
      "text/plain": [
       "<Figure size 432x288 with 1 Axes>"
      ]
     },
     "metadata": {
      "needs_background": "light"
     },
     "output_type": "display_data"
    }
   ],
   "source": [
    "plot_decision_boundary(poly_lr_2, axis=[-3.5, 3.5, -3.5, 3.5])\n",
    "plt.scatter(x[y==0,0], x[y==0,1])\n",
    "plt.scatter(x[y==1,0], x[y==1,1])\n",
    "plt.show()"
   ]
  },
  {
   "cell_type": "code",
   "execution_count": 61,
   "metadata": {},
   "outputs": [
    {
     "name": "stdout",
     "output_type": "stream",
     "text": [
      "231\n"
     ]
    },
    {
     "data": {
      "text/plain": [
       "Pipeline(steps=[('poly', PolynomialFeatures(degree=20)),\n",
       "                ('std_scalar', StandardScaler()),\n",
       "                ('lr', MY_LogisticRegression())])"
      ]
     },
     "execution_count": 61,
     "metadata": {},
     "output_type": "execute_result"
    },
    {
     "name": "stdout",
     "output_type": "stream",
     "text": [
      "231\n",
      "231\n"
     ]
    },
    {
     "data": {
      "text/plain": [
       "0.955"
      ]
     },
     "execution_count": 61,
     "metadata": {},
     "output_type": "execute_result"
    },
    {
     "name": "stdout",
     "output_type": "stream",
     "text": [
      "231\n",
      "231\n"
     ]
    },
    {
     "name": "stderr",
     "output_type": "stream",
     "text": [
      "<ipython-input-45-78f04e33b15d>:20: UserWarning: The following kwargs were not used by contour: 'linewidth'\n",
      "  plt.contourf(x0, x1, zz, linewidth=5, cmap=custom_cmap)  # plt.contourf 绘制三维等高线\n"
     ]
    },
    {
     "data": {
      "text/plain": [
       "<matplotlib.collections.PathCollection at 0x215b3d07160>"
      ]
     },
     "execution_count": 61,
     "metadata": {},
     "output_type": "execute_result"
    },
    {
     "data": {
      "text/plain": [
       "<matplotlib.collections.PathCollection at 0x215b3d07610>"
      ]
     },
     "execution_count": 61,
     "metadata": {},
     "output_type": "execute_result"
    },
    {
     "data": {
      "image/png": "[encoded data removed]",
      "text/plain": [
       "<Figure size 432x288 with 1 Axes>"
      ]
     },
     "metadata": {
      "needs_background": "light"
     },
     "output_type": "display_data"
    }
   ],
   "source": [
    "poly_lr_20 = Polynomial_LR(degree=20)\n",
    "poly_lr_20.fit(x, y)\n",
    "poly_lr_20.score(x, y)  # 输出：0.955\n",
    "\n",
    "# 绘制决策边界\n",
    "plot_decision_boundary(poly_lr_20, axis=[-4.0, 4.0, -4.0, 4.0])\n",
    "plt.scatter(x[y==0,0], x[y==0,1])\n",
    "plt.scatter(x[y==1,0], x[y==1,1])\n",
    "plt.show()"
   ]
  },
  {
   "cell_type": "markdown",
   "metadata": {},
   "source": [
    "如上图所示，当我们将多项式最多次幂增加到20时，决策边界变得较为复杂，因此可能存在过拟合的风险，可以采用正则化来降低过拟合风险。"
   ]
  },
  {
   "cell_type": "markdown",
   "metadata": {},
   "source": [
    "## 五、scikit - learn 中的逻辑回归及正则化\n",
    "\n",
    "前述我们通过引入多项式特征，来较好地拟合非线性数据。多项式特征的引入，使得模型变得较为复杂，决策边界也变得较为复杂弯曲。因此多项式特征的引入可能导致过拟合的风险。降低过拟合风险的方法之一就是为模型添加正则化项。一般添加正则项的方式为：\n",
    "$$  \n",
    "\\begin{cases}   \n",
    "    J(\\theta)+\\alpha L_1& (L1正则项) \\\\\n",
    "    J(\\theta)+\\alpha L_2& (L2正则项) \n",
    "\\end{cases}\n",
    "$$\n",
    "此处引入一种新的正则化方法：\n",
    "$$  \n",
    "\\begin{cases}   \n",
    "    C \\cdot J(\\theta)+ L_1& (L1正则项) \\\\\n",
    "    C \\cdot J(\\theta)+ L_2& (L2正则项) \n",
    "\\end{cases}\n",
    "$$\n",
    "scikit - learn 中对于逻辑回归采用的正则化方式也是上述第 2 种。"
   ]
  },
  {
   "cell_type": "code",
   "execution_count": 62,
   "metadata": {},
   "outputs": [
    {
     "data": {
      "text/plain": [
       "<matplotlib.collections.PathCollection at 0x215b3ca44f0>"
      ]
     },
     "execution_count": 62,
     "metadata": {},
     "output_type": "execute_result"
    },
    {
     "data": {
      "text/plain": [
       "<matplotlib.collections.PathCollection at 0x215b3ca4f70>"
      ]
     },
     "execution_count": 62,
     "metadata": {},
     "output_type": "execute_result"
    },
    {
     "data": {
      "image/png": "[encoded data removed]",
      "text/plain": [
       "<Figure size 432x288 with 1 Axes>"
      ]
     },
     "metadata": {
      "needs_background": "light"
     },
     "output_type": "display_data"
    }
   ],
   "source": [
    "# 生成测试数据\n",
    "np.random.seed(666)\n",
    "\n",
    "x = np.random.normal(0, 1, size=(200, 2))\n",
    "y = np.array(x[:,0]**2 + x[:,1] < 1.5, dtype = 'int')\n",
    "\n",
    "# 添加随机噪声\n",
    "for _ in range(20):\n",
    "    y[np.random.randint(200)] = 1\n",
    "    \n",
    "plt.scatter(x[y==0, 0], x[y==0, 1])\n",
    "plt.scatter(x[y==1, 0], x[y==1, 1])\n",
    "plt.show()"
   ]
  },
  {
   "cell_type": "code",
   "execution_count": 63,
   "metadata": {},
   "outputs": [],
   "source": [
    "# 切分样本\n",
    "from sklearn.model_selection import train_test_split\n",
    "x_train, x_test, y_train, y_test = train_test_split(x, y, random_state=666)"
   ]
  },
  {
   "cell_type": "markdown",
   "metadata": {},
   "source": [
    "### 1、不加入多项式"
   ]
  },
  {
   "cell_type": "code",
   "execution_count": 64,
   "metadata": {},
   "outputs": [
    {
     "data": {
      "text/plain": [
       "LogisticRegression()"
      ]
     },
     "execution_count": 64,
     "metadata": {},
     "output_type": "execute_result"
    },
    {
     "data": {
      "text/plain": [
       "0.7933333333333333"
      ]
     },
     "execution_count": 64,
     "metadata": {},
     "output_type": "execute_result"
    },
    {
     "data": {
      "text/plain": [
       "0.86"
      ]
     },
     "execution_count": 64,
     "metadata": {},
     "output_type": "execute_result"
    }
   ],
   "source": [
    "# 不添加多项式\n",
    "from sklearn.linear_model import LogisticRegression\n",
    "sk_lr = LogisticRegression()\n",
    "sk_lr.fit(x_train, y_train)\n",
    "sk_lr.score(x_train, y_train)  # 输出：0.86\n",
    "sk_lr.score(x_test, y_test)  # 输出：0.7933333333333333"
   ]
  },
  {
   "cell_type": "code",
   "execution_count": 65,
   "metadata": {},
   "outputs": [
    {
     "name": "stderr",
     "output_type": "stream",
     "text": [
      "<ipython-input-45-78f04e33b15d>:20: UserWarning: The following kwargs were not used by contour: 'linewidth'\n",
      "  plt.contourf(x0, x1, zz, linewidth=5, cmap=custom_cmap)  # plt.contourf 绘制三维等高线\n"
     ]
    },
    {
     "data": {
      "text/plain": [
       "<matplotlib.collections.PathCollection at 0x215b3c25a60>"
      ]
     },
     "execution_count": 65,
     "metadata": {},
     "output_type": "execute_result"
    },
    {
     "data": {
      "text/plain": [
       "<matplotlib.collections.PathCollection at 0x215b3c25940>"
      ]
     },
     "execution_count": 65,
     "metadata": {},
     "output_type": "execute_result"
    },
    {
     "data": {
      "image/png": "[encoded data removed]",
      "text/plain": [
       "<Figure size 432x288 with 1 Axes>"
      ]
     },
     "metadata": {
      "needs_background": "light"
     },
     "output_type": "display_data"
    }
   ],
   "source": [
    "# 绘制决策边界\n",
    "plot_decision_boundary(sk_lr, axis=[-3.5, 3.5, -3.5, 3.5])\n",
    "plt.scatter(x[y==0, 0], x[y==0, 1])\n",
    "plt.scatter(x[y==1, 0], x[y==1, 1])\n",
    "plt.show()"
   ]
  },
  {
   "cell_type": "markdown",
   "metadata": {},
   "source": [
    "### 2、加入最高2次幂多项式"
   ]
  },
  {
   "cell_type": "code",
   "execution_count": 66,
   "metadata": {},
   "outputs": [],
   "source": [
    "# 添加多项式（2次幂）\n",
    "from sklearn.pipeline import Pipeline  # 导入管道\n",
    "from sklearn.preprocessing import PolynomialFeatures  # 导入多项式回归\n",
    "from sklearn.preprocessing import StandardScaler  # 导入标准化包\n",
    "\n",
    "def Polynomial_LR(degree, solver='liblinear'):\n",
    "    return Pipeline([\n",
    "        ('poly', PolynomialFeatures(degree=degree)),\n",
    "        ('std_scalar', StandardScaler()),\n",
    "        ('lr', LogisticRegression(solver=solver))\n",
    "    ])"
   ]
  },
  {
   "cell_type": "code",
   "execution_count": 67,
   "metadata": {},
   "outputs": [
    {
     "data": {
      "text/plain": [
       "Pipeline(steps=[('poly', PolynomialFeatures()),\n",
       "                ('std_scalar', StandardScaler()),\n",
       "                ('lr', LogisticRegression(solver='liblinear'))])"
      ]
     },
     "execution_count": 67,
     "metadata": {},
     "output_type": "execute_result"
    },
    {
     "data": {
      "text/plain": [
       "0.9133333333333333"
      ]
     },
     "execution_count": 67,
     "metadata": {},
     "output_type": "execute_result"
    },
    {
     "data": {
      "text/plain": [
       "0.94"
      ]
     },
     "execution_count": 67,
     "metadata": {},
     "output_type": "execute_result"
    }
   ],
   "source": [
    "poly_lr_2 = Polynomial_LR(degree=2)\n",
    "poly_lr_2.fit(x_train, y_train)\n",
    "poly_lr_2.score(x_train, y_train)  # 输出：0.9133333333333333\n",
    "poly_lr_2.score(x_test, y_test)  # 输出：0.94"
   ]
  },
  {
   "cell_type": "code",
   "execution_count": 68,
   "metadata": {},
   "outputs": [
    {
     "name": "stderr",
     "output_type": "stream",
     "text": [
      "<ipython-input-45-78f04e33b15d>:20: UserWarning: The following kwargs were not used by contour: 'linewidth'\n",
      "  plt.contourf(x0, x1, zz, linewidth=5, cmap=custom_cmap)  # plt.contourf 绘制三维等高线\n"
     ]
    },
    {
     "data": {
      "text/plain": [
       "<matplotlib.collections.PathCollection at 0x215b3c393d0>"
      ]
     },
     "execution_count": 68,
     "metadata": {},
     "output_type": "execute_result"
    },
    {
     "data": {
      "text/plain": [
       "<matplotlib.collections.PathCollection at 0x215b3c34730>"
      ]
     },
     "execution_count": 68,
     "metadata": {},
     "output_type": "execute_result"
    },
    {
     "data": {
      "image/png": "[encoded data removed]",
      "text/plain": [
       "<Figure size 432x288 with 1 Axes>"
      ]
     },
     "metadata": {
      "needs_background": "light"
     },
     "output_type": "display_data"
    }
   ],
   "source": [
    "# 绘制决策边界\n",
    "plot_decision_boundary(poly_lr_2, axis=[-4, 4, -4, 4])\n",
    "plt.scatter(x[y==0, 0], x[y==0, 1])\n",
    "plt.scatter(x[y==1, 0], x[y==1, 1])\n",
    "plt.show()"
   ]
  },
  {
   "cell_type": "markdown",
   "metadata": {},
   "source": [
    "### 3、添加最高 20 次幂的多项式"
   ]
  },
  {
   "cell_type": "code",
   "execution_count": 69,
   "metadata": {},
   "outputs": [
    {
     "data": {
      "text/plain": [
       "Pipeline(steps=[('poly', PolynomialFeatures(degree=20)),\n",
       "                ('std_scalar', StandardScaler()),\n",
       "                ('lr', LogisticRegression(solver='liblinear'))])"
      ]
     },
     "execution_count": 69,
     "metadata": {},
     "output_type": "execute_result"
    },
    {
     "data": {
      "text/plain": [
       "0.94"
      ]
     },
     "execution_count": 69,
     "metadata": {},
     "output_type": "execute_result"
    },
    {
     "data": {
      "text/plain": [
       "0.92"
      ]
     },
     "execution_count": 69,
     "metadata": {},
     "output_type": "execute_result"
    },
    {
     "name": "stderr",
     "output_type": "stream",
     "text": [
      "<ipython-input-45-78f04e33b15d>:20: UserWarning: The following kwargs were not used by contour: 'linewidth'\n",
      "  plt.contourf(x0, x1, zz, linewidth=5, cmap=custom_cmap)  # plt.contourf 绘制三维等高线\n"
     ]
    },
    {
     "data": {
      "text/plain": [
       "<matplotlib.collections.PathCollection at 0x215b2b11550>"
      ]
     },
     "execution_count": 69,
     "metadata": {},
     "output_type": "execute_result"
    },
    {
     "data": {
      "text/plain": [
       "<matplotlib.collections.PathCollection at 0x215b2b11a30>"
      ]
     },
     "execution_count": 69,
     "metadata": {},
     "output_type": "execute_result"
    },
    {
     "data": {
      "image/png": "[encoded data removed]",
      "text/plain": [
       "<Figure size 432x288 with 1 Axes>"
      ]
     },
     "metadata": {
      "needs_background": "light"
     },
     "output_type": "display_data"
    }
   ],
   "source": [
    "# 训练与评分\n",
    "poly_lr_20 = Polynomial_LR(degree=20)\n",
    "poly_lr_20.fit(x_train, y_train)\n",
    "poly_lr_20.score(x_train, y_train)  # 输出：0.94\n",
    "poly_lr_20.score(x_test, y_test)  # 输出：0.92\n",
    "\n",
    "\n",
    "# 绘制决策边界\n",
    "plot_decision_boundary(poly_lr_20, axis=[-4, 4, -4, 4])\n",
    "plt.scatter(x[y==0, 0], x[y==0, 1])\n",
    "plt.scatter(x[y==1, 0], x[y==1, 1])\n",
    "plt.show()"
   ]
  },
  {
   "cell_type": "markdown",
   "metadata": {},
   "source": [
    "### 4、添加 L2 正则化项"
   ]
  },
  {
   "cell_type": "code",
   "execution_count": 70,
   "metadata": {},
   "outputs": [
    {
     "data": {
      "text/plain": [
       "Pipeline(steps=[('poly', PolynomialFeatures(degree=20)),\n",
       "                ('std_scalar', StandardScaler()),\n",
       "                ('lr', LogisticRegression(C=0.1, solver='liblinear'))])"
      ]
     },
     "execution_count": 70,
     "metadata": {},
     "output_type": "execute_result"
    },
    {
     "data": {
      "text/plain": [
       "0.8533333333333334"
      ]
     },
     "execution_count": 70,
     "metadata": {},
     "output_type": "execute_result"
    },
    {
     "data": {
      "text/plain": [
       "0.92"
      ]
     },
     "execution_count": 70,
     "metadata": {},
     "output_type": "execute_result"
    },
    {
     "name": "stderr",
     "output_type": "stream",
     "text": [
      "<ipython-input-45-78f04e33b15d>:20: UserWarning: The following kwargs were not used by contour: 'linewidth'\n",
      "  plt.contourf(x0, x1, zz, linewidth=5, cmap=custom_cmap)  # plt.contourf 绘制三维等高线\n"
     ]
    },
    {
     "data": {
      "text/plain": [
       "<matplotlib.collections.PathCollection at 0x215b2ab1040>"
      ]
     },
     "execution_count": 70,
     "metadata": {},
     "output_type": "execute_result"
    },
    {
     "data": {
      "text/plain": [
       "<matplotlib.collections.PathCollection at 0x215b2ab1160>"
      ]
     },
     "execution_count": 70,
     "metadata": {},
     "output_type": "execute_result"
    },
    {
     "data": {
      "image/png": "[encoded data removed]",
      "text/plain": [
       "<Figure size 432x288 with 1 Axes>"
      ]
     },
     "metadata": {
      "needs_background": "light"
     },
     "output_type": "display_data"
    }
   ],
   "source": [
    "# 默认 L2\n",
    "def Polynomial_LR(degree, C, solver='liblinear'):\n",
    "    return Pipeline([\n",
    "        ('poly', PolynomialFeatures(degree=degree)),\n",
    "        ('std_scalar', StandardScaler()),\n",
    "        ('lr', LogisticRegression(C=C, solver=solver))\n",
    "    ])\n",
    "# 训练与评分\n",
    "C_lr_20 = Polynomial_LR(degree=20, C=0.1)\n",
    "C_lr_20.fit(x_train, y_train)\n",
    "C_lr_20.score(x_train, y_train)  # 输出：0.8533333333333334\n",
    "C_lr_20.score(x_test, y_test)  # 输出：0.92\n",
    "\n",
    "\n",
    "# 绘制决策边界\n",
    "plot_decision_boundary(C_lr_20, axis=[-4, 4, -4, 4])\n",
    "plt.scatter(x[y==0, 0], x[y==0, 1])\n",
    "plt.scatter(x[y==1, 0], x[y==1, 1])\n",
    "plt.show()"
   ]
  },
  {
   "cell_type": "markdown",
   "metadata": {},
   "source": [
    "### 5、使用 L1 正则化项"
   ]
  },
  {
   "cell_type": "code",
   "execution_count": 71,
   "metadata": {},
   "outputs": [
    {
     "data": {
      "text/plain": [
       "Pipeline(steps=[('poly', PolynomialFeatures(degree=20)),\n",
       "                ('std_scalar', StandardScaler()),\n",
       "                ('lr',\n",
       "                 LogisticRegression(C=0.1, penalty='l1', solver='liblinear'))])"
      ]
     },
     "execution_count": 71,
     "metadata": {},
     "output_type": "execute_result"
    },
    {
     "data": {
      "text/plain": [
       "0.8266666666666667"
      ]
     },
     "execution_count": 71,
     "metadata": {},
     "output_type": "execute_result"
    },
    {
     "data": {
      "text/plain": [
       "0.9"
      ]
     },
     "execution_count": 71,
     "metadata": {},
     "output_type": "execute_result"
    },
    {
     "name": "stderr",
     "output_type": "stream",
     "text": [
      "<ipython-input-45-78f04e33b15d>:20: UserWarning: The following kwargs were not used by contour: 'linewidth'\n",
      "  plt.contourf(x0, x1, zz, linewidth=5, cmap=custom_cmap)  # plt.contourf 绘制三维等高线\n"
     ]
    },
    {
     "data": {
      "text/plain": [
       "<matplotlib.collections.PathCollection at 0x215b29c37c0>"
      ]
     },
     "execution_count": 71,
     "metadata": {},
     "output_type": "execute_result"
    },
    {
     "data": {
      "text/plain": [
       "<matplotlib.collections.PathCollection at 0x215b29c3550>"
      ]
     },
     "execution_count": 71,
     "metadata": {},
     "output_type": "execute_result"
    },
    {
     "data": {
      "image/png": "[encoded data removed]",
      "text/plain": [
       "<Figure size 432x288 with 1 Axes>"
      ]
     },
     "metadata": {
      "needs_background": "light"
     },
     "output_type": "display_data"
    }
   ],
   "source": [
    "# sklearn 种逻辑回归默认使用的是L2正则化项\n",
    "def Polynomial_LR(degree, C, penalty='l2', solver='liblinear'):\n",
    "    return Pipeline([\n",
    "        ('poly', PolynomialFeatures(degree=degree)),\n",
    "        ('std_scalar', StandardScaler()),\n",
    "        ('lr', LogisticRegression(C=C, penalty=penalty, solver=solver))\n",
    "    ])\n",
    "# 训练与评分\n",
    "C_lr_20_L1 = Polynomial_LR(degree=20, C=0.1, penalty='l1')\n",
    "C_lr_20_L1.fit(x_train, y_train)\n",
    "C_lr_20_L1.score(x_train, y_train)  # 输出：0.8266666666666667\n",
    "C_lr_20_L1.score(x_test, y_test)  # 输出：0.9\n",
    "\n",
    "\n",
    "# 绘制决策边界\n",
    "plot_decision_boundary(C_lr_20_L1, axis=[-4, 4, -4, 4])\n",
    "plt.scatter(x[y==0, 0], x[y==0, 1])\n",
    "plt.scatter(x[y==1, 0], x[y==1, 1])\n",
    "plt.show()"
   ]
  },
  {
   "cell_type": "markdown",
   "metadata": {},
   "source": [
    "## 六、逻辑回归解决多分类问题（OvR、OvO）"
   ]
  },
  {
   "cell_type": "markdown",
   "metadata": {},
   "source": [
    "### 1、基本原理\n",
    "根据逻辑回归的基本原理我们可以看出，逻辑回归只能解决二分类问题。但是我们通过一定的方法改造，还是能够实现利用逻辑回归处理多分类问题。主要的改造方法有以下两种"
   ]
  },
  {
   "attachments": {
    "image.png": {
     "image/png": "[encoded data removed]"
    }
   },
   "cell_type": "markdown",
   "metadata": {},
   "source": [
    "(1)、OvR (One vs Rest)\n",
    "![image.png](attachment:image.png)\n",
    "假如现在有 n（图示 n=4）个类别，我们每次将其中1个类别选出，剩余的n-1个类别统一看作一个类别，然后进行二分类任务，从而训练出n个二分类模型。对于新的样本点，我们只需要将其放入n个二分类模型中进行n次分类，选择得分最高的类别作为该新样本点的类别即可。"
   ]
  },
  {
   "attachments": {
    "image.png": {
     "image/png": "[encoded data removed]"
    }
   },
   "cell_type": "markdown",
   "metadata": {},
   "source": [
    "(2)、OvO (One vs One)\n",
    "![image.png](attachment:image.png)\n",
    "假如现在有 n（图示 n=4）个类别，与 OvR 不同，我们每次选出2个类别，然后进行二分类任务，训练出 $C(n,2)=\\frac{n!}{2!(n-2)!}$（图示组合数为：6） 个二分类模型。对于新的样本点，我们只需要将其放入$C(n,2)$个二分类模型中进行$C(n,2)$次分类，选择得分最高的类别作为该新样本点的类别即可。\n",
    "\n",
    "事实上，OvO 相对于 OvR 来说，分类结果更加准确，这是因为前者并没有将类别进行合并。"
   ]
  },
  {
   "cell_type": "markdown",
   "metadata": {},
   "source": [
    "### 2、实例演示1（鸢尾花数据 - 两个特征x）\n",
    "\n",
    "事实上，scikit - learn 中的 LogisticRegression 已经封装好了解决多分类问题的功能，我们只需要传递相关参数进去就可以了。"
   ]
  },
  {
   "cell_type": "code",
   "execution_count": 72,
   "metadata": {},
   "outputs": [
    {
     "data": {
      "text/plain": [
       "array([[5.1, 3.5],\n",
       "       [4.9, 3. ],\n",
       "       [4.7, 3.2],\n",
       "       [4.6, 3.1],\n",
       "       [5. , 3.6]])"
      ]
     },
     "execution_count": 72,
     "metadata": {},
     "output_type": "execute_result"
    },
    {
     "data": {
      "text/plain": [
       "array([0, 1, 2])"
      ]
     },
     "execution_count": 72,
     "metadata": {},
     "output_type": "execute_result"
    }
   ],
   "source": [
    "# 导入鸢尾花数据集（其中两个特征）\n",
    "from sklearn import datasets\n",
    "\n",
    "iris = datasets.load_iris()\n",
    "\n",
    "x = iris.data[:,:2]\n",
    "y = iris.target\n",
    "\n",
    "x[:5]\n",
    "pd.Series(y).unique()\n",
    "# 切分数据\n",
    "x_train, x_test, y_train, y_test = train_test_split(x, y, random_state=666)"
   ]
  },
  {
   "cell_type": "code",
   "execution_count": 73,
   "metadata": {},
   "outputs": [
    {
     "data": {
      "text/plain": [
       "LogisticRegression(multi_class='ovr', solver='liblinear')"
      ]
     },
     "execution_count": 73,
     "metadata": {},
     "output_type": "execute_result"
    },
    {
     "data": {
      "text/plain": [
       "0.7232142857142857"
      ]
     },
     "execution_count": 73,
     "metadata": {},
     "output_type": "execute_result"
    },
    {
     "data": {
      "text/plain": [
       "0.6578947368421053"
      ]
     },
     "execution_count": 73,
     "metadata": {},
     "output_type": "execute_result"
    },
    {
     "name": "stderr",
     "output_type": "stream",
     "text": [
      "<ipython-input-45-78f04e33b15d>:20: UserWarning: The following kwargs were not used by contour: 'linewidth'\n",
      "  plt.contourf(x0, x1, zz, linewidth=5, cmap=custom_cmap)  # plt.contourf 绘制三维等高线\n"
     ]
    },
    {
     "data": {
      "text/plain": [
       "<matplotlib.collections.PathCollection at 0x215b2af6190>"
      ]
     },
     "execution_count": 73,
     "metadata": {},
     "output_type": "execute_result"
    },
    {
     "data": {
      "text/plain": [
       "<matplotlib.collections.PathCollection at 0x215b2af6730>"
      ]
     },
     "execution_count": 73,
     "metadata": {},
     "output_type": "execute_result"
    },
    {
     "data": {
      "text/plain": [
       "<matplotlib.collections.PathCollection at 0x215b29ebb20>"
      ]
     },
     "execution_count": 73,
     "metadata": {},
     "output_type": "execute_result"
    },
    {
     "data": {
      "image/png": "[encoded data removed]",
      "text/plain": [
       "<Figure size 432x288 with 1 Axes>"
      ]
     },
     "metadata": {
      "needs_background": "light"
     },
     "output_type": "display_data"
    }
   ],
   "source": [
    "# 1、OvR\n",
    "# 训练与评分\n",
    "from sklearn.linear_model import LogisticRegression\n",
    "ovr_lr = LogisticRegression(multi_class='ovr', solver='liblinear')\n",
    "ovr_lr.fit(x_train, y_train)\n",
    "ovr_lr.score(x_train, y_train)  # 输出：0.7232142857142857\n",
    "ovr_lr.score(x_test, y_test)  # 输出：0.6578947368421053\n",
    "# 绘制决策边界\n",
    "plot_decision_boundary(ovr_lr, [4, 8, 1, 5])\n",
    "plt.scatter(x[y==0,0], x[y==0,1])\n",
    "plt.scatter(x[y==1,0], x[y==1,1])\n",
    "plt.scatter(x[y==2,0], x[y==2,1])"
   ]
  },
  {
   "cell_type": "code",
   "execution_count": 74,
   "metadata": {
    "scrolled": true
   },
   "outputs": [
    {
     "data": {
      "text/plain": [
       "LogisticRegression(multi_class='multinomial', solver='newton-cg')"
      ]
     },
     "execution_count": 74,
     "metadata": {},
     "output_type": "execute_result"
    },
    {
     "data": {
      "text/plain": [
       "0.8214285714285714"
      ]
     },
     "execution_count": 74,
     "metadata": {},
     "output_type": "execute_result"
    },
    {
     "data": {
      "text/plain": [
       "0.7894736842105263"
      ]
     },
     "execution_count": 74,
     "metadata": {},
     "output_type": "execute_result"
    },
    {
     "name": "stderr",
     "output_type": "stream",
     "text": [
      "<ipython-input-45-78f04e33b15d>:20: UserWarning: The following kwargs were not used by contour: 'linewidth'\n",
      "  plt.contourf(x0, x1, zz, linewidth=5, cmap=custom_cmap)  # plt.contourf 绘制三维等高线\n"
     ]
    },
    {
     "data": {
      "text/plain": [
       "<matplotlib.collections.PathCollection at 0x215b2a2bfa0>"
      ]
     },
     "execution_count": 74,
     "metadata": {},
     "output_type": "execute_result"
    },
    {
     "data": {
      "text/plain": [
       "<matplotlib.collections.PathCollection at 0x215b2a2b7c0>"
      ]
     },
     "execution_count": 74,
     "metadata": {},
     "output_type": "execute_result"
    },
    {
     "data": {
      "text/plain": [
       "<matplotlib.collections.PathCollection at 0x215b2a2ba00>"
      ]
     },
     "execution_count": 74,
     "metadata": {},
     "output_type": "execute_result"
    },
    {
     "data": {
      "image/png": "[encoded data removed]",
      "text/plain": [
       "<Figure size 432x288 with 1 Axes>"
      ]
     },
     "metadata": {
      "needs_background": "light"
     },
     "output_type": "display_data"
    }
   ],
   "source": [
    "# 2、OvO\n",
    "# 训练与评分\n",
    "from sklearn.linear_model import LogisticRegression\n",
    "ovo_lr = LogisticRegression(multi_class='multinomial', solver='newton-cg')\n",
    "ovo_lr.fit(x_train, y_train)\n",
    "ovo_lr.score(x_train, y_train)  # 输出：0.8214285714285714\n",
    "ovo_lr.score(x_test, y_test)  # 输出：0.7894736842105263\n",
    "# 绘制决策边界\n",
    "plot_decision_boundary(ovo_lr, [4, 8, 1, 5])\n",
    "plt.scatter(x[y==0,0], x[y==0,1])\n",
    "plt.scatter(x[y==1,0], x[y==1,1])\n",
    "plt.scatter(x[y==2,0], x[y==2,1])"
   ]
  },
  {
   "cell_type": "markdown",
   "metadata": {},
   "source": [
    "### 3、实例演示2（鸢尾花数据 - 全部特征x）"
   ]
  },
  {
   "cell_type": "code",
   "execution_count": 75,
   "metadata": {},
   "outputs": [
    {
     "data": {
      "text/plain": [
       "array([[5.1, 3.5, 1.4, 0.2],\n",
       "       [4.9, 3. , 1.4, 0.2],\n",
       "       [4.7, 3.2, 1.3, 0.2],\n",
       "       [4.6, 3.1, 1.5, 0.2],\n",
       "       [5. , 3.6, 1.4, 0.2]])"
      ]
     },
     "execution_count": 75,
     "metadata": {},
     "output_type": "execute_result"
    },
    {
     "data": {
      "text/plain": [
       "array([0, 1, 2])"
      ]
     },
     "execution_count": 75,
     "metadata": {},
     "output_type": "execute_result"
    }
   ],
   "source": [
    "\n",
    "# 导入鸢尾花数据集（所有特征）\n",
    "from sklearn import datasets\n",
    "\n",
    "iris = datasets.load_iris()\n",
    "\n",
    "x = iris.data\n",
    "y = iris.target\n",
    "\n",
    "x[:5]\n",
    "pd.Series(y).unique()\n",
    "# 切分数据\n",
    "x_train, x_test, y_train, y_test = train_test_split(x, y, random_state=666)"
   ]
  },
  {
   "cell_type": "code",
   "execution_count": 77,
   "metadata": {},
   "outputs": [
    {
     "data": {
      "text/plain": [
       "LogisticRegression(multi_class='ovr', solver='liblinear')"
      ]
     },
     "execution_count": 77,
     "metadata": {},
     "output_type": "execute_result"
    },
    {
     "data": {
      "text/plain": [
       "0.9464285714285714"
      ]
     },
     "execution_count": 77,
     "metadata": {},
     "output_type": "execute_result"
    },
    {
     "data": {
      "text/plain": [
       "0.9473684210526315"
      ]
     },
     "execution_count": 77,
     "metadata": {},
     "output_type": "execute_result"
    }
   ],
   "source": [
    "# 1、OvR\n",
    "# OvR训练与评分\n",
    "from sklearn.linear_model import LogisticRegression\n",
    "ovr_lr = LogisticRegression(multi_class='ovr', solver='liblinear')\n",
    "ovr_lr.fit(x_train, y_train)\n",
    "ovr_lr.score(x_train, y_train)  # 输出：0.9464285714285714\n",
    "ovr_lr.score(x_test, y_test)  # 输出：0.9473684210526315"
   ]
  },
  {
   "cell_type": "code",
   "execution_count": 78,
   "metadata": {},
   "outputs": [
    {
     "data": {
      "text/plain": [
       "LogisticRegression(multi_class='multinomial', solver='newton-cg')"
      ]
     },
     "execution_count": 78,
     "metadata": {},
     "output_type": "execute_result"
    },
    {
     "data": {
      "text/plain": [
       "0.9732142857142857"
      ]
     },
     "execution_count": 78,
     "metadata": {},
     "output_type": "execute_result"
    },
    {
     "data": {
      "text/plain": [
       "1.0"
      ]
     },
     "execution_count": 78,
     "metadata": {},
     "output_type": "execute_result"
    }
   ],
   "source": [
    "# 2、OvO\n",
    "# 训练与评分\n",
    "from sklearn.linear_model import LogisticRegression\n",
    "ovo_lr = LogisticRegression(multi_class='multinomial', solver='newton-cg')\n",
    "ovo_lr.fit(x_train, y_train)\n",
    "ovo_lr.score(x_train, y_train)  # 输出：0.9732142857142857\n",
    "ovo_lr.score(x_test, y_test)  # 输出：1.0"
   ]
  },
  {
   "cell_type": "markdown",
   "metadata": {},
   "source": [
    "### 4、scikit - learn 中的 OvR 与 OvO 类\n",
    "scikit - learn 中单独封装了用来实现 OvR 和 OvO 的两个类，能够配合其他的二分类器（不仅仅是逻辑回归）实现多分类任务。"
   ]
  },
  {
   "cell_type": "markdown",
   "metadata": {},
   "source": [
    "1、OneVsRestClassifier"
   ]
  },
  {
   "cell_type": "code",
   "execution_count": 81,
   "metadata": {},
   "outputs": [
    {
     "data": {
      "text/plain": [
       "OneVsRestClassifier(estimator=LogisticRegression(solver='liblinear'))"
      ]
     },
     "execution_count": 81,
     "metadata": {},
     "output_type": "execute_result"
    },
    {
     "data": {
      "text/plain": [
       "0.9464285714285714"
      ]
     },
     "execution_count": 81,
     "metadata": {},
     "output_type": "execute_result"
    },
    {
     "data": {
      "text/plain": [
       "0.9473684210526315"
      ]
     },
     "execution_count": 81,
     "metadata": {},
     "output_type": "execute_result"
    }
   ],
   "source": [
    "from sklearn.multiclass import OneVsRestClassifier\n",
    "from sklearn.linear_model import LogisticRegression\n",
    "\n",
    "lr = LogisticRegression(solver='liblinear')\n",
    "ovr_class = OneVsRestClassifier(lr)\n",
    "\n",
    "ovr_class.fit(x_train, y_train)\n",
    "ovr_class.score(x_train, y_train)  # 输出：0.9464285714285714\n",
    "ovr_class.score(x_test, y_test)  # 输出：0.9473684210526315"
   ]
  },
  {
   "cell_type": "markdown",
   "metadata": {},
   "source": [
    "2、OneVsOneClassifier"
   ]
  },
  {
   "cell_type": "code",
   "execution_count": 82,
   "metadata": {},
   "outputs": [
    {
     "data": {
      "text/plain": [
       "OneVsOneClassifier(estimator=LogisticRegression(solver='newton-cg'))"
      ]
     },
     "execution_count": 82,
     "metadata": {},
     "output_type": "execute_result"
    },
    {
     "data": {
      "text/plain": [
       "0.9642857142857143"
      ]
     },
     "execution_count": 82,
     "metadata": {},
     "output_type": "execute_result"
    },
    {
     "data": {
      "text/plain": [
       "1.0"
      ]
     },
     "execution_count": 82,
     "metadata": {},
     "output_type": "execute_result"
    }
   ],
   "source": [
    "from sklearn.multiclass import OneVsOneClassifier\n",
    "from sklearn.linear_model import LogisticRegression\n",
    "\n",
    "lr = LogisticRegression(solver='newton-cg')\n",
    "ovo_class = OneVsOneClassifier(lr)\n",
    "\n",
    "ovo_class.fit(x_train, y_train)\n",
    "ovo_class.score(x_train, y_train)  # 输出：0.9642857142857143\n",
    "ovo_class.score(x_test, y_test)  # 输出：1.0"
   ]
  },
  {
   "cell_type": "code",
   "execution_count": null,
   "metadata": {},
   "outputs": [],
   "source": []
  }
 ],
 "metadata": {
  "kernelspec": {
   "display_name": "Python 3",
   "language": "python",
   "name": "python3"
  },
  "language_info": {
   "codemirror_mode": {
    "name": "ipython",
    "version": 3
   },
   "file_extension": ".py",
   "mimetype": "text/x-python",
   "name": "python",
   "nbconvert_exporter": "python",
   "pygments_lexer": "ipython3",
   "version": "3.8.5"
  }
 },
 "nbformat": 4,
 "nbformat_minor": 4
}
