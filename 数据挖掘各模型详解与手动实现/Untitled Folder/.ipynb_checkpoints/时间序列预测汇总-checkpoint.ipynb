{
 "cells": [
  {
   "cell_type": "markdown",
   "metadata": {},
   "source": [
    "### 时序问题本质上是回归问题\n",
    "\n",
    "## 传统时序建模\n",
    "\n",
    "arima 模型是 arma 模型的升级版；arma 模型只能针对平稳数据进行建模，而 arima 模型需要先对数据进行差分，差分平稳后在进行建模。这两个模型能处理的问题还是比较简单，究其原因主要是以下两点：\n",
    "\n",
    "- arma/arima 模型归根到底还是简单的线性模型，能表征的问题复杂程度有限；\n",
    "\n",
    "- arma 全名是自回归滑动平均模型，它只能支持对单变量历史数据的回归，处理不了多变量的情况。"
   ]
  },
  {
   "cell_type": "markdown",
   "metadata": {},
   "source": [
    "### 原理篇：\n",
    "#### 基本的金融时间序列知识 \n",
    "重点介绍基本的金融时间序列知识和 arma 模型:\n",
    "https://zhuanlan.zhihu.com/p/38320827\n",
    "\n",
    "更为高阶的 arch 和 garch 模型:\n",
    "https://zhuanlan.zhihu.com/p/21962996"
   ]
  },
  {
   "cell_type": "markdown",
   "metadata": {},
   "source": [
    "- arma模型实践"
   ]
  },
  {
   "cell_type": "code",
   "execution_count": 2,
   "metadata": {},
   "outputs": [],
   "source": [
    "import pandas as pd\n",
    "import numpy as np\n",
    "from scipy import  stats\n",
    "import matplotlib.pyplot as plt\n",
    "import tushare as ts\n",
    "import datetime\n",
    "from statsmodels.graphics.api import qqplot\n",
    "from statsmodels.tsa.stattools import adfuller\n",
    "from statsmodels.graphics.tsaplots import plot_acf, plot_pacf\n",
    "from statsmodels.tsa.arima_model import ARMA"
   ]
  },
  {
   "cell_type": "code",
   "execution_count": 16,
   "metadata": {},
   "outputs": [],
   "source": [
    "# pro = ts.pro_api('3001fe98f65a158f337ac7b0aa45c911c57973159023bd4bcbed2fd9')\n",
    "# ALL_DATA=pro.cn_gdp()\n",
    "\n",
    "gdp_data = pd.read_csv('C:/Users/Lenovo/Downloads/gdp.csv',encoding='gbk')\n",
    "gdp_data['year'] = gdp_data['季度'].apply(lambda x:str(x)[:4])\n",
    "gdp_data['实际GDP'] = gdp_data['实际GDP'].apply(lambda x:float(x.replace(',','')))"
   ]
  },
  {
   "cell_type": "code",
   "execution_count": 24,
   "metadata": {},
   "outputs": [],
   "source": [
    "gdp_data_year = gdp_data.groupby(['year'],as_index=False).sum()[['year','实际GDP']]\n",
    "gdp_data_year = gdp_data_year.rename(columns={'实际GDP':'GDP'})\n",
    "gdp_data_year"
   ]
  },
  {
   "cell_type": "code",
   "execution_count": 30,
   "metadata": {
    "collapsed": true
   },
   "outputs": [
    {
     "data": {
      "text/html": [
       "<div>\n",
       "<style scoped>\n",
       "    .dataframe tbody tr th:only-of-type {\n",
       "        vertical-align: middle;\n",
       "    }\n",
       "\n",
       "    .dataframe tbody tr th {\n",
       "        vertical-align: top;\n",
       "    }\n",
       "\n",
       "    .dataframe thead th {\n",
       "        text-align: right;\n",
       "    }\n",
       "</style>\n",
       "<table border=\"1\" class=\"dataframe\">\n",
       "  <thead>\n",
       "    <tr style=\"text-align: right;\">\n",
       "      <th></th>\n",
       "      <th>year</th>\n",
       "      <th>GDP</th>\n",
       "    </tr>\n",
       "  </thead>\n",
       "  <tbody>\n",
       "    <tr>\n",
       "      <th>0</th>\n",
       "      <td>1948</td>\n",
       "      <td>8079.9</td>\n",
       "    </tr>\n",
       "    <tr>\n",
       "      <th>1</th>\n",
       "      <td>1949</td>\n",
       "      <td>8035.8</td>\n",
       "    </tr>\n",
       "    <tr>\n",
       "      <th>2</th>\n",
       "      <td>1950</td>\n",
       "      <td>8736.0</td>\n",
       "    </tr>\n",
       "    <tr>\n",
       "      <th>3</th>\n",
       "      <td>1951</td>\n",
       "      <td>9439.9</td>\n",
       "    </tr>\n",
       "    <tr>\n",
       "      <th>4</th>\n",
       "      <td>1952</td>\n",
       "      <td>9824.5</td>\n",
       "    </tr>\n",
       "    <tr>\n",
       "      <th>...</th>\n",
       "      <td>...</td>\n",
       "      <td>...</td>\n",
       "    </tr>\n",
       "    <tr>\n",
       "      <th>62</th>\n",
       "      <td>2010</td>\n",
       "      <td>59135.2</td>\n",
       "    </tr>\n",
       "    <tr>\n",
       "      <th>63</th>\n",
       "      <td>2011</td>\n",
       "      <td>60082.3</td>\n",
       "    </tr>\n",
       "    <tr>\n",
       "      <th>64</th>\n",
       "      <td>2012</td>\n",
       "      <td>61476.7</td>\n",
       "    </tr>\n",
       "    <tr>\n",
       "      <th>65</th>\n",
       "      <td>2013</td>\n",
       "      <td>62841.1</td>\n",
       "    </tr>\n",
       "    <tr>\n",
       "      <th>66</th>\n",
       "      <td>2014</td>\n",
       "      <td>64342.4</td>\n",
       "    </tr>\n",
       "  </tbody>\n",
       "</table>\n",
       "<p>67 rows × 2 columns</p>\n",
       "</div>"
      ],
      "text/plain": [
       "    year      GDP\n",
       "0   1948   8079.9\n",
       "1   1949   8035.8\n",
       "2   1950   8736.0\n",
       "3   1951   9439.9\n",
       "4   1952   9824.5\n",
       "..   ...      ...\n",
       "62  2010  59135.2\n",
       "63  2011  60082.3\n",
       "64  2012  61476.7\n",
       "65  2013  62841.1\n",
       "66  2014  64342.4\n",
       "\n",
       "[67 rows x 2 columns]"
      ]
     },
     "execution_count": 30,
     "metadata": {},
     "output_type": "execute_result"
    }
   ],
   "source": [
    "gdp_data_year = gdp_data_year.set_index('year')\n",
    "gdp_series = gdp_data_year['GDP']\n",
    "gdp_series"
   ]
  },
  {
   "cell_type": "code",
   "execution_count": 34,
   "metadata": {},
   "outputs": [
    {
     "data": {
      "text/plain": [
       "(1.8404645366781154,\n",
       " 0.9984259839819806,\n",
       " 1,\n",
       " 65,\n",
       " {'1%': -3.5352168748293127,\n",
       "  '5%': -2.9071540828402367,\n",
       "  '10%': -2.5911025443786984},\n",
       " 872.4317205460368)"
      ]
     },
     "execution_count": 34,
     "metadata": {},
     "output_type": "execute_result"
    }
   ],
   "source": [
    "dftest = adfuller(gdp_series, autolag='AIC')\n",
    "dftest"
   ]
  },
  {
   "cell_type": "code",
   "execution_count": null,
   "metadata": {},
   "outputs": [],
   "source": [
    "def test_stationarity(timeseries):\n",
    "    \n",
    "    #滑动均值和方差\n",
    "    rolmean = timeseries.rolling(4).mean()\n",
    "    rolstd = timeseries.rolling(4).std()\n",
    "\n",
    "    #绘制滑动统计量\n",
    "    plt.figure(figsize=(24, 8))   \n",
    "    orig = plt.plot(timeseries, color='blue',label='Original')\n",
    "    mean = plt.plot(rolmean, color='red', label='Rolling Mean')\n",
    "    std = plt.plot(rolstd, color='black', label = 'Rolling Std')\n",
    "    \n",
    "    plt.legend(loc='best')\n",
    "    plt.title('Rolling Mean & Standard Deviation')\n",
    "    plt.show(block=False)\n",
    "    \n",
    "    #adf检验，若t值小于Critical Value，则平稳（也可以参考p值）\n",
    "    print('Results of Dickey-Fuller Test:')\n",
    "    dftest = adfuller(timeseries, autolag='AIC')\n",
    "    dfoutput = pd.Series(dftest[0:4], index=['Test Statistic','p-value','#Lags Used',\n",
    "                                             'Number of Observations Used'])\n",
    "    for key,value in dftest[4].items():\n",
    "        dfoutput['Critical Value (%s)'%key] = value\n",
    "    print(dfoutput)"
   ]
  }
 ],
 "metadata": {
  "kernelspec": {
   "display_name": "Python 3",
   "language": "python",
   "name": "python3"
  },
  "language_info": {
   "codemirror_mode": {
    "name": "ipython",
    "version": 3
   },
   "file_extension": ".py",
   "mimetype": "text/x-python",
   "name": "python",
   "nbconvert_exporter": "python",
   "pygments_lexer": "ipython3",
   "version": "3.8.5"
  }
 },
 "nbformat": 4,
 "nbformat_minor": 4
}
