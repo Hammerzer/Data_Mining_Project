{
 "cells": [
  {
   "cell_type": "code",
   "execution_count": 4,
   "metadata": {},
   "outputs": [
    {
     "data": {
      "application/javascript": [
       "\n",
       "        if (window._pyforest_update_imports_cell) { window._pyforest_update_imports_cell('import pandas as pd'); }\n",
       "    "
      ],
      "text/plain": [
       "<IPython.core.display.Javascript object>"
      ]
     },
     "metadata": {},
     "output_type": "display_data"
    },
    {
     "name": "stdout",
     "output_type": "stream",
     "text": [
      "       satisfaction_level  last_evaluation  number_project  \\\n",
      "14999                 NaN             0.52               2   \n",
      "15000                 NaN        999999.00               2   \n",
      "\n",
      "       average_monthly_hours  time_spend_company  Work_accident  left  \\\n",
      "14999                    158                   3              0     1   \n",
      "15000                    158                   3              0     1   \n",
      "\n",
      "       promotion_last_5years department salary  \n",
      "14999                      0    support    low  \n",
      "15000                      0       sale    low  \n"
     ]
    }
   ],
   "source": [
    "#数据清洗\n",
    "\n",
    "df=pd.read_csv(r'D:\\b站学习\\数据分析-BV1Ui4y1o7wh\\书籍+随堂源码+说明\\sample_code\\data\\HR.csv')\n",
    "#Satisfaction Level\n",
    "sl_s=df[\"satisfaction_level\"]\n",
    "sl_null=sl_s.isnull()#是否为空值\n",
    "print(df[df[\"satisfaction_level\"].isnull()])\n",
    "le_s = df[\"last_evaluation\"]\n",
    "le_null=le_s[le_s.isnull()]\n",
    "sl_s=sl_s.dropna()#丢弃空值\n",
    "sl_s=sl_s.fillna(1)#将空值填充成1\n",
    "q_low=le_s.quantile(q=0.25)#下四分位数\n",
    "q_high=le_s.quantile(q=0.75)#上四分位数\n",
    "k=1.5\n",
    "q_interval=q_high-q_low\n",
    "#异常值过滤\n",
    "le_s=le_s[le_s<q_high+k*q_interval][le_s>q_low-k*q_interval]"
   ]
  },
  {
   "cell_type": "code",
   "execution_count": 5,
   "metadata": {},
   "outputs": [
    {
     "data": {
      "text/plain": [
       "0        0.53\n",
       "1        0.86\n",
       "2        0.88\n",
       "3        0.87\n",
       "4        0.52\n",
       "         ... \n",
       "14996    0.53\n",
       "14997    0.96\n",
       "14998    0.52\n",
       "14999    0.52\n",
       "15001    0.40\n",
       "Name: last_evaluation, Length: 15001, dtype: float64"
      ]
     },
     "execution_count": 5,
     "metadata": {},
     "output_type": "execute_result"
    }
   ],
   "source": [
    "le_s"
   ]
  },
  {
   "cell_type": "code",
   "execution_count": 71,
   "metadata": {},
   "outputs": [],
   "source": [
    "df.to_csv(r'D:\\b站学习\\数据分析-BV1Ui4y1o7wh\\书籍+随堂源码+说明\\sample_code\\data\\HR_clean.csv')"
   ]
  },
  {
   "cell_type": "code",
   "execution_count": 2,
   "metadata": {},
   "outputs": [
    {
     "ename": "NameError",
     "evalue": "name 'qqplot' is not defined",
     "output_type": "error",
     "traceback": [
      "\u001b[1;31m---------------------------------------------------------------------------\u001b[0m",
      "\u001b[1;31mNameError\u001b[0m                                 Traceback (most recent call last)",
      "\u001b[1;32m<ipython-input-2-f06969220267>\u001b[0m in \u001b[0;36m<module>\u001b[1;34m\u001b[0m\n\u001b[1;32m----> 1\u001b[1;33m \u001b[0mplt\u001b[0m\u001b[1;33m.\u001b[0m\u001b[0mshow\u001b[0m\u001b[1;33m(\u001b[0m\u001b[0mqqplot\u001b[0m\u001b[1;33m(\u001b[0m\u001b[0mss\u001b[0m\u001b[1;33m.\u001b[0m\u001b[0mnorm\u001b[0m\u001b[1;33m.\u001b[0m\u001b[0mrvs\u001b[0m\u001b[1;33m(\u001b[0m\u001b[0msize\u001b[0m\u001b[1;33m=\u001b[0m\u001b[1;36m100\u001b[0m\u001b[1;33m)\u001b[0m\u001b[1;33m)\u001b[0m\u001b[1;33m)\u001b[0m\u001b[1;33m\u001b[0m\u001b[1;33m\u001b[0m\u001b[0m\n\u001b[0m",
      "\u001b[1;31mNameError\u001b[0m: name 'qqplot' is not defined"
     ]
    }
   ],
   "source": [
    "from matplotlib import pyplot as plt\n",
    "plt.show(qqplot(ss.norm.rvs(size=100)))"
   ]
  },
  {
   "cell_type": "code",
   "execution_count": 4,
   "metadata": {},
   "outputs": [],
   "source": [
    "import numpy as np\n",
    "import scipy.stats as ss\n",
    "norm_dist = ss.norm.rvs(size=20) #生成一个数量为20的正态分布\n"
   ]
  },
  {
   "cell_type": "code",
   "execution_count": 5,
   "metadata": {},
   "outputs": [
    {
     "data": {
      "text/plain": [
       "array([-0.87609637, -0.69280741,  0.13970885, -0.45111277,  1.0099405 ,\n",
       "        0.56687527,  0.06856553, -1.32131116, -0.47550723, -0.61168477,\n",
       "        0.00939407,  0.93823937,  0.87084447, -1.73188923, -0.22906311,\n",
       "        0.08322628, -0.50068667,  0.0019763 , -0.43042255,  1.45826081])"
      ]
     },
     "execution_count": 5,
     "metadata": {},
     "output_type": "execute_result"
    }
   ],
   "source": [
    "norm_dist"
   ]
  },
  {
   "cell_type": "code",
   "execution_count": 6,
   "metadata": {},
   "outputs": [
    {
     "data": {
      "text/plain": [
       "NormaltestResult(statistic=0.04031757141121949, pvalue=0.9800430441249482)"
      ]
     },
     "execution_count": 6,
     "metadata": {},
     "output_type": "execute_result"
    }
   ],
   "source": [
    "ss.normaltest(norm_dist) #检验该分布是否为正态分布"
   ]
  },
  {
   "cell_type": "code",
   "execution_count": 7,
   "metadata": {},
   "outputs": [
    {
     "data": {
      "text/plain": [
       "(126.08080808080808,\n",
       " 2.9521414005078985e-29,\n",
       " 1,\n",
       " array([[55., 55.],\n",
       "        [45., 45.]]))"
      ]
     },
     "execution_count": 7,
     "metadata": {},
     "output_type": "execute_result"
    }
   ],
   "source": [
    "ss.chi2_contingency([[15,95],[85,5]]) #创建一个案例"
   ]
  },
  {
   "cell_type": "code",
   "execution_count": 8,
   "metadata": {},
   "outputs": [
    {
     "data": {
      "text/plain": [
       "Ttest_indResult(statistic=-0.39182566656972284, pvalue=0.6981534047127198)"
      ]
     },
     "execution_count": 8,
     "metadata": {},
     "output_type": "execute_result"
    }
   ],
   "source": [
    "ss.ttest_ind(ss.norm.rvs(size=10),ss.norm.rvs(size=20)) #两个数组的t检验，均值差别"
   ]
  },
  {
   "cell_type": "code",
   "execution_count": 10,
   "metadata": {},
   "outputs": [
    {
     "data": {
      "text/plain": [
       "F_onewayResult(statistic=17.619417475728156, pvalue=0.0002687153079821641)"
      ]
     },
     "execution_count": 10,
     "metadata": {},
     "output_type": "execute_result"
    }
   ],
   "source": [
    "ss.f_oneway([49,50,39,40,43],[28,32,30,26,34],[38,40,45,42,48]) #F检验"
   ]
  },
  {
   "cell_type": "code",
   "execution_count": 12,
   "metadata": {},
   "outputs": [],
   "source": [
    "from statsmodels.graphics.api import qqplot\n",
    "from matplotlib import pyplot as plt"
   ]
  },
  {
   "cell_type": "code",
   "execution_count": 13,
   "metadata": {},
   "outputs": [
    {
     "data": {
      "image/png": "[encoded data removed]",
      "text/plain": [
       "<Figure size 432x288 with 1 Axes>"
      ]
     },
     "metadata": {
      "needs_background": "light"
     },
     "output_type": "display_data"
    }
   ],
   "source": [
    " plt.show(qqplot(ss.norm.rvs(size=100))) #qqplot是将该组数据的四分之三分位点数和正态分布的做对比"
   ]
  },
  {
   "cell_type": "code",
   "execution_count": 14,
   "metadata": {},
   "outputs": [],
   "source": [
    "import pandas as pd "
   ]
  },
  {
   "cell_type": "code",
   "execution_count": 15,
   "metadata": {},
   "outputs": [
    {
     "data": {
      "text/plain": [
       "0.9333729600465923"
      ]
     },
     "execution_count": 15,
     "metadata": {},
     "output_type": "execute_result"
    }
   ],
   "source": [
    "s1 = pd.Series([0.1,0.2,1.1,2.4,1.3,0.3,0.5])\n",
    "s2 = pd.Series([0.5,0.4,1.2,2.5,1.1,0.7,0.1])\n",
    "s1.corr(s2) #计算两者相关系数"
   ]
  },
  {
   "cell_type": "code",
   "execution_count": 16,
   "metadata": {},
   "outputs": [
    {
     "data": {
      "text/plain": [
       "0.7142857142857144"
      ]
     },
     "execution_count": 16,
     "metadata": {},
     "output_type": "execute_result"
    }
   ],
   "source": [
    "s1.corr(s2, method='spearman') #指定计算方法"
   ]
  },
  {
   "cell_type": "code",
   "execution_count": 17,
   "metadata": {},
   "outputs": [],
   "source": [
    "df = pd.DataFrame(np.array([s1,s2]).T)"
   ]
  },
  {
   "cell_type": "code",
   "execution_count": 19,
   "metadata": {},
   "outputs": [
    {
     "data": {
      "text/html": [
       "<div>\n",
       "<style scoped>\n",
       "    .dataframe tbody tr th:only-of-type {\n",
       "        vertical-align: middle;\n",
       "    }\n",
       "\n",
       "    .dataframe tbody tr th {\n",
       "        vertical-align: top;\n",
       "    }\n",
       "\n",
       "    .dataframe thead th {\n",
       "        text-align: right;\n",
       "    }\n",
       "</style>\n",
       "<table border=\"1\" class=\"dataframe\">\n",
       "  <thead>\n",
       "    <tr style=\"text-align: right;\">\n",
       "      <th></th>\n",
       "      <th>0</th>\n",
       "      <th>1</th>\n",
       "    </tr>\n",
       "  </thead>\n",
       "  <tbody>\n",
       "    <tr>\n",
       "      <th>0</th>\n",
       "      <td>0.1</td>\n",
       "      <td>0.5</td>\n",
       "    </tr>\n",
       "    <tr>\n",
       "      <th>1</th>\n",
       "      <td>0.2</td>\n",
       "      <td>0.4</td>\n",
       "    </tr>\n",
       "    <tr>\n",
       "      <th>2</th>\n",
       "      <td>1.1</td>\n",
       "      <td>1.2</td>\n",
       "    </tr>\n",
       "    <tr>\n",
       "      <th>3</th>\n",
       "      <td>2.4</td>\n",
       "      <td>2.5</td>\n",
       "    </tr>\n",
       "    <tr>\n",
       "      <th>4</th>\n",
       "      <td>1.3</td>\n",
       "      <td>1.1</td>\n",
       "    </tr>\n",
       "    <tr>\n",
       "      <th>5</th>\n",
       "      <td>0.3</td>\n",
       "      <td>0.7</td>\n",
       "    </tr>\n",
       "    <tr>\n",
       "      <th>6</th>\n",
       "      <td>0.5</td>\n",
       "      <td>0.1</td>\n",
       "    </tr>\n",
       "  </tbody>\n",
       "</table>\n",
       "</div>"
      ],
      "text/plain": [
       "     0    1\n",
       "0  0.1  0.5\n",
       "1  0.2  0.4\n",
       "2  1.1  1.2\n",
       "3  2.4  2.5\n",
       "4  1.3  1.1\n",
       "5  0.3  0.7\n",
       "6  0.5  0.1"
      ]
     },
     "execution_count": 19,
     "metadata": {},
     "output_type": "execute_result"
    }
   ],
   "source": [
    "df"
   ]
  },
  {
   "cell_type": "code",
   "execution_count": 18,
   "metadata": {},
   "outputs": [
    {
     "data": {
      "text/html": [
       "<div>\n",
       "<style scoped>\n",
       "    .dataframe tbody tr th:only-of-type {\n",
       "        vertical-align: middle;\n",
       "    }\n",
       "\n",
       "    .dataframe tbody tr th {\n",
       "        vertical-align: top;\n",
       "    }\n",
       "\n",
       "    .dataframe thead th {\n",
       "        text-align: right;\n",
       "    }\n",
       "</style>\n",
       "<table border=\"1\" class=\"dataframe\">\n",
       "  <thead>\n",
       "    <tr style=\"text-align: right;\">\n",
       "      <th></th>\n",
       "      <th>0</th>\n",
       "      <th>1</th>\n",
       "    </tr>\n",
       "  </thead>\n",
       "  <tbody>\n",
       "    <tr>\n",
       "      <th>0</th>\n",
       "      <td>1.000000</td>\n",
       "      <td>0.933373</td>\n",
       "    </tr>\n",
       "    <tr>\n",
       "      <th>1</th>\n",
       "      <td>0.933373</td>\n",
       "      <td>1.000000</td>\n",
       "    </tr>\n",
       "  </tbody>\n",
       "</table>\n",
       "</div>"
      ],
      "text/plain": [
       "          0         1\n",
       "0  1.000000  0.933373\n",
       "1  0.933373  1.000000"
      ]
     },
     "execution_count": 18,
     "metadata": {},
     "output_type": "execute_result"
    }
   ],
   "source": [
    "df.corr()"
   ]
  },
  {
   "cell_type": "code",
   "execution_count": 22,
   "metadata": {},
   "outputs": [],
   "source": [
    "x = np.arange(10).astype(np.float).reshape((10,1))\n",
    "y = x*3+4+np.random.random((10,1))"
   ]
  },
  {
   "cell_type": "code",
   "execution_count": 23,
   "metadata": {},
   "outputs": [],
   "source": [
    "from sklearn.linear_model import LinearRegression\n",
    "reg = LinearRegression()\n",
    "res = reg.fit(x,y)\n",
    "y_pred = reg.predict(x)"
   ]
  },
  {
   "cell_type": "code",
   "execution_count": 25,
   "metadata": {},
   "outputs": [
    {
     "name": "stdout",
     "output_type": "stream",
     "text": [
      "[[3.01063537]] [4.46719951]\n"
     ]
    }
   ],
   "source": [
    "print(reg.coef_,\n",
    "reg.intercept_)"
   ]
  },
  {
   "cell_type": "code",
   "execution_count": 29,
   "metadata": {},
   "outputs": [],
   "source": [
    "#PCA变换\n",
    "\n",
    "data = np.array([np.array([2.5,0.5,2.2,1.9,3.1,2.3,2,1,1.5,1.1]),\n",
    "                np.array([2.4,0.7,2.9,2.2,3,2.7,1.6,1.1,1.6,0.9])]).T"
   ]
  },
  {
   "cell_type": "code",
   "execution_count": 30,
   "metadata": {},
   "outputs": [
    {
     "data": {
      "text/plain": [
       "array([[2.5, 2.4],\n",
       "       [0.5, 0.7],\n",
       "       [2.2, 2.9],\n",
       "       [1.9, 2.2],\n",
       "       [3.1, 3. ],\n",
       "       [2.3, 2.7],\n",
       "       [2. , 1.6],\n",
       "       [1. , 1.1],\n",
       "       [1.5, 1.6],\n",
       "       [1.1, 0.9]])"
      ]
     },
     "execution_count": 30,
     "metadata": {},
     "output_type": "execute_result"
    }
   ],
   "source": [
    "data"
   ]
  },
  {
   "cell_type": "code",
   "execution_count": 31,
   "metadata": {},
   "outputs": [
    {
     "data": {
      "text/plain": [
       "array([0.96318131])"
      ]
     },
     "execution_count": 31,
     "metadata": {},
     "output_type": "execute_result"
    }
   ],
   "source": [
    "from sklearn.decomposition import PCA\n",
    "lower_dim = PCA(n_components=1)\n",
    "lower_dim.fit(data)\n",
    "lower_dim.explained_variance_ratio_"
   ]
  },
  {
   "cell_type": "code",
   "execution_count": 33,
   "metadata": {},
   "outputs": [
    {
     "data": {
      "text/plain": [
       "array([[-0.82797019],\n",
       "       [ 1.77758033],\n",
       "       [-0.99219749],\n",
       "       [-0.27421042],\n",
       "       [-1.67580142],\n",
       "       [-0.9129491 ],\n",
       "       [ 0.09910944],\n",
       "       [ 1.14457216],\n",
       "       [ 0.43804614],\n",
       "       [ 1.22382056]])"
      ]
     },
     "execution_count": 33,
     "metadata": {},
     "output_type": "execute_result"
    }
   ],
   "source": [
    "lower_dim.fit_transform(data)"
   ]
  },
  {
   "cell_type": "code",
   "execution_count": 38,
   "metadata": {},
   "outputs": [],
   "source": [
    "#手写PCA方法\n",
    "import numpy as np\n",
    "from scipy import linalg\n",
    "def myPCA(data,n_components=100000):\n",
    "    mean_val = np.mean(data)\n",
    "    mid = data-mean_val\n",
    "    cov_mat = np.cov(mid,rowvar=False) #按列求协方差矩阵\n",
    "    eig_vals, eig_vects = linalg.eig(np.mat(cov_mat)) #求特征值和特征向量\n",
    "    eig_val_index = np.argsort(eig_vals) #获取排序后的数值在原数组的位置\n",
    "    eig_val_index = eig_val_index[::-1] #按照数值从大到小将索引位置排序，并按照所需维度进行取值\n",
    "    eig_vects = eig_vects[:,eig_val_index]\n",
    "    lower_dim_mat = np.dot(mid,eig_vects) #矩阵相乘\n",
    "    return lower_dim,eig_vals"
   ]
  },
  {
   "cell_type": "code",
   "execution_count": 39,
   "metadata": {},
   "outputs": [
    {
     "name": "stdout",
     "output_type": "stream",
     "text": [
      "(PCA(n_components=1), array([0.0490834 +0.j, 1.28402771+0.j]))\n"
     ]
    }
   ],
   "source": [
    "data = np.array([np.array([2.5,0.5,2.2,1.9,3.1,2.3,2,1,1.5,1.1]),\n",
    "                np.array([2.4,0.7,2.9,2.2,3,2.7,1.6,1.1,1.6,0.9])]).T\n",
    "print(myPCA(data,n_components=1))"
   ]
  },
  {
   "cell_type": "code",
   "execution_count": 49,
   "metadata": {},
   "outputs": [],
   "source": [
    "#交叉分析方法与实现\n",
    "import pandas as pd \n",
    "import numpy as np\n",
    "import scipy.stats as ss\n",
    "import matplotlib.pyplot as plt\n",
    "import seaborn as sns"
   ]
  },
  {
   "cell_type": "code",
   "execution_count": 72,
   "metadata": {},
   "outputs": [],
   "source": [
    "df = pd.read_csv(r'D:\\b站学习\\数据分析-BV1Ui4y1o7wh\\书籍+随堂源码+说明\\sample_code\\data\\HR_clean.csv')\n",
    "dp_indices = df.groupby('department').indices #取各分类值及其在原数据中的索引，以dict的形式展现"
   ]
  },
  {
   "cell_type": "code",
   "execution_count": 73,
   "metadata": {},
   "outputs": [
    {
     "data": {
      "text/plain": [
       "0.2891069046174478"
      ]
     },
     "execution_count": 73,
     "metadata": {},
     "output_type": "execute_result"
    }
   ],
   "source": [
    "#检验销售和技术部门之间的离职是否存在统计意义上的相关关系\n",
    "sale_values = df['left'].iloc[dp_indices['sales']].values\n",
    "technical_values = df['left'].iloc[dp_indices['technical']].values\n",
    "ss.ttest_ind(sale_values,technical_values)[1]"
   ]
  },
  {
   "cell_type": "code",
   "execution_count": 65,
   "metadata": {},
   "outputs": [
    {
     "data": {
      "text/plain": [
       "<AxesSubplot:>"
      ]
     },
     "execution_count": 65,
     "metadata": {},
     "output_type": "execute_result"
    },
    {
     "data": {
      "image/png": "[encoded data removed]",
      "text/plain": [
       "<Figure size 432x288 with 2 Axes>"
      ]
     },
     "metadata": {
      "needs_background": "light"
     },
     "output_type": "display_data"
    }
   ],
   "source": [
    "#检验每两个部门之间的相关关系\n",
    "dp_keys = list(dp_indices.keys())\n",
    "dp_mat = np.zeros([len(dp_keys),len(dp_keys)]) #生成一个方阵,需要传入一个数组\n",
    "for i in range(len(dp_keys)):\n",
    "    for j in range(len(dp_keys)):\n",
    "        p_value = ss.ttest_ind(df['left'].iloc[dp_indices[dp_keys[j]]].values, \n",
    "                             df['left'].iloc[dp_indices[dp_keys[i]]].values )[1]\n",
    "        if p_value < 0.05 :\n",
    "            dp_mat[i][j] = -1\n",
    "        else:\n",
    "            dp_mat[i][j] = p_value\n",
    "sns.heatmap(dp_mat,xticklabels=dp_keys,yticklabels=dp_keys) #以热力图呈现"
   ]
  },
  {
   "cell_type": "code",
   "execution_count": 75,
   "metadata": {},
   "outputs": [
    {
     "name": "stderr",
     "output_type": "stream",
     "text": [
      "<ipython-input-75-e91f184f048e>:3: UserWarning: Boolean Series key will be reindexed to match DataFrame index.\n",
      "  df=df[df[\"last_evaluation\"]<=1][df[\"salary\"]!=\"nme\"][df[\"department\"]!=\"sale\"]\n"
     ]
    },
    {
     "data": {
      "text/html": [
       "<div>\n",
       "<style scoped>\n",
       "    .dataframe tbody tr th:only-of-type {\n",
       "        vertical-align: middle;\n",
       "    }\n",
       "\n",
       "    .dataframe tbody tr th {\n",
       "        vertical-align: top;\n",
       "    }\n",
       "\n",
       "    .dataframe thead th {\n",
       "        text-align: right;\n",
       "    }\n",
       "</style>\n",
       "<table border=\"1\" class=\"dataframe\">\n",
       "  <thead>\n",
       "    <tr style=\"text-align: right;\">\n",
       "      <th></th>\n",
       "      <th>Work_accident</th>\n",
       "      <th>0</th>\n",
       "      <th>1</th>\n",
       "    </tr>\n",
       "    <tr>\n",
       "      <th>promotion_last_5years</th>\n",
       "      <th>salary</th>\n",
       "      <th></th>\n",
       "      <th></th>\n",
       "    </tr>\n",
       "  </thead>\n",
       "  <tbody>\n",
       "    <tr>\n",
       "      <th rowspan=\"3\" valign=\"top\">0</th>\n",
       "      <th>high</th>\n",
       "      <td>0.082996</td>\n",
       "      <td>0.000000</td>\n",
       "    </tr>\n",
       "    <tr>\n",
       "      <th>low</th>\n",
       "      <td>0.331728</td>\n",
       "      <td>0.090020</td>\n",
       "    </tr>\n",
       "    <tr>\n",
       "      <th>medium</th>\n",
       "      <td>0.230683</td>\n",
       "      <td>0.081655</td>\n",
       "    </tr>\n",
       "    <tr>\n",
       "      <th rowspan=\"3\" valign=\"top\">1</th>\n",
       "      <th>high</th>\n",
       "      <td>0.000000</td>\n",
       "      <td>0.000000</td>\n",
       "    </tr>\n",
       "    <tr>\n",
       "      <th>low</th>\n",
       "      <td>0.229167</td>\n",
       "      <td>0.166667</td>\n",
       "    </tr>\n",
       "    <tr>\n",
       "      <th>medium</th>\n",
       "      <td>0.028986</td>\n",
       "      <td>0.023256</td>\n",
       "    </tr>\n",
       "  </tbody>\n",
       "</table>\n",
       "</div>"
      ],
      "text/plain": [
       "Work_accident                        0         1\n",
       "promotion_last_5years salary                    \n",
       "0                     high    0.082996  0.000000\n",
       "                      low     0.331728  0.090020\n",
       "                      medium  0.230683  0.081655\n",
       "1                     high    0.000000  0.000000\n",
       "                      low     0.229167  0.166667\n",
       "                      medium  0.028986  0.023256"
      ]
     },
     "execution_count": 75,
     "metadata": {},
     "output_type": "execute_result"
    }
   ],
   "source": [
    "#透视表方法（交叉分析）\n",
    "df=df.dropna(how=\"any\",axis=0)\n",
    "df=df[df[\"last_evaluation\"]<=1][df[\"salary\"]!=\"nme\"][df[\"department\"]!=\"sale\"]\n",
    "piv_tb = pd.pivot_table(df,values='left',index=['promotion_last_5years','salary'],columns=['Work_accident'],aggfunc=np.mean)\n",
    "piv_tb"
   ]
  },
  {
   "cell_type": "code",
   "execution_count": 77,
   "metadata": {},
   "outputs": [
    {
     "data": {
      "image/png": "[encoded data removed]",
      "text/plain": [
       "<Figure size 432x288 with 2 Axes>"
      ]
     },
     "metadata": {
      "needs_background": "light"
     },
     "output_type": "display_data"
    }
   ],
   "source": [
    "sns.set_context(font_scale=2)\n",
    "sns.heatmap(piv_tb,vmin=0,vmax=1,cmap=sns.color_palette('Reds',n_colors=256))\n",
    "plt.show()"
   ]
  },
  {
   "cell_type": "code",
   "execution_count": 78,
   "metadata": {},
   "outputs": [
    {
     "data": {
      "image/png": "[encoded data removed]",
      "text/plain": [
       "<Figure size 432x288 with 1 Axes>"
      ]
     },
     "metadata": {
      "needs_background": "light"
     },
     "output_type": "display_data"
    }
   ],
   "source": [
    "#分组分析\n",
    "sns.barplot(x='salary',y='left',hue='department',data=df)\n",
    "plt.show()"
   ]
  },
  {
   "cell_type": "code",
   "execution_count": 82,
   "metadata": {},
   "outputs": [
    {
     "data": {
      "image/png": "[encoded data removed]",
      "text/plain": [
       "<Figure size 432x288 with 2 Axes>"
      ]
     },
     "metadata": {
      "needs_background": "light"
     },
     "output_type": "display_data"
    }
   ],
   "source": [
    "#相关分析\n",
    "sns.heatmap(df.corr(),vmin=-1,vmax=1,cmap=sns.color_palette('RdBu',n_colors=128))\n",
    "plt.show()"
   ]
  },
  {
   "cell_type": "code",
   "execution_count": 87,
   "metadata": {},
   "outputs": [],
   "source": [
    "import math\n",
    "s1 = pd.Series([\"X1\", \"X1\", \"X2\", \"X2\", \"X2\", \"X2\"])\n",
    "s2 = pd.Series([\"Y1\", \"Y1\", \"Y1\", \"Y2\", \"Y2\", \"Y2\"])\n",
    "#熵\n",
    "def getEntropy(s):\n",
    "    if not isinstance(s, pd.core.series.Series):\n",
    "        s = pd.Series(s)\n",
    "    prt_ary = np.array(s.groupby(by=s).count().values / float(len(s)))\n",
    "    return -(np.log2(prt_ary) * prt_ary).sum()\n",
    "#条件熵\n",
    "def getCondEntropy(a1, a2):\n",
    "    assert (len(a1) == len(a2))\n",
    "    d = dict()\n",
    "    for i in list(range(len(a1))):\n",
    "        d[a1[i]] = d.get(a1[i], []) + [a2[i]]\n",
    "    return sum([getEntropy(d[k]) * len(d[k]) / float(len(a1)) for k in d])\n",
    "#熵增益\n",
    "def getEntropyGain(a1, a2):\n",
    "    return getEntropy(a2) - getCondEntropy(a1, a2)\n",
    "#熵增益率\n",
    "def getEntropyGainRatio(a1, a2):\n",
    "    return getEntropyGain(a1, a2) / getEntropy(a2)\n",
    "#相关度\n",
    "def getDiscreteRelation(a1, a2):\n",
    "    return getEntropyGain(a1, a2) / math.sqrt(getEntropy(a1) * getEntropy(a2))"
   ]
  },
  {
   "cell_type": "code",
   "execution_count": 88,
   "metadata": {},
   "outputs": [
    {
     "name": "stdout",
     "output_type": "stream",
     "text": [
      "0.5408520829727552\n",
      "0.4591479170272448\n",
      "0.4591479170272448\n",
      "0.4591479170272448\n",
      "0.4591479170272448\n",
      "0.5\n",
      "0.4791387674918639\n",
      "0.4791387674918639\n"
     ]
    }
   ],
   "source": [
    "print(getCondEntropy(s1, s2))\n",
    "print(getCondEntropy(s2, s1))\n",
    "print(getEntropyGain(s1, s2))\n",
    "print(getEntropyGain(s2, s1))\n",
    "print(getEntropyGainRatio(s1, s2))\n",
    "print(getEntropyGainRatio(s2, s1))\n",
    "print(getDiscreteRelation(s1, s2))\n",
    "print(getDiscreteRelation(s2, s1))"
   ]
  },
  {
   "cell_type": "code",
   "execution_count": 90,
   "metadata": {},
   "outputs": [
    {
     "name": "stdout",
     "output_type": "stream",
     "text": [
      "Ratio: [9.99866787e-01 1.33024459e-04 1.13657614e-07 6.28756145e-08\n",
      " 6.61812561e-09 3.23077364e-09 1.23541360e-09]\n"
     ]
    }
   ],
   "source": [
    "#因子分析\n",
    "from sklearn.decomposition import PCA\n",
    "my_pca = PCA(n_components=7) #因为除去离散变量后共7个变量\n",
    "my_pca.fit_transform(df.drop(labels=['salary','department','left'],axis=1))\n",
    "print('Ratio:',my_pca.explained_variance_ratio_)\n"
   ]
  },
  {
   "cell_type": "code",
   "execution_count": 92,
   "metadata": {},
   "outputs": [
    {
     "data": {
      "image/png": "[encoded data removed]",
      "text/plain": [
       "<Figure size 432x288 with 2 Axes>"
      ]
     },
     "metadata": {
      "needs_background": "light"
     },
     "output_type": "display_data"
    }
   ],
   "source": [
    "lower_mat = my_pca.fit_transform(df.drop(labels=['salary','department','left'],axis=1)) #PCA实际将原数据转为一个正交矩阵\n",
    "sns.heatmap(pd.DataFrame(lower_mat).corr(),vmin=-1,vmax=1) \n",
    "plt.show()"
   ]
  },
  {
   "cell_type": "code",
   "execution_count": 7,
   "metadata": {},
   "outputs": [],
   "source": [
    "#特征工程\n",
    "import pandas as pd\n",
    "import numpy as np\n",
    "from sklearn.preprocessing import MinMaxScaler,StandardScaler,Normalizer\n",
    "from sklearn.preprocessing import LabelEncoder,OneHotEncoder\n",
    "from sklearn.discriminant_analysis import LinearDiscriminantAnalysis"
   ]
  },
  {
   "cell_type": "code",
   "execution_count": 3,
   "metadata": {},
   "outputs": [
    {
     "data": {
      "application/javascript": [
       "\n",
       "        if (window._pyforest_update_imports_cell) { window._pyforest_update_imports_cell('import pandas as pd'); }\n",
       "    "
      ],
      "text/plain": [
       "<IPython.core.display.Javascript object>"
      ]
     },
     "metadata": {},
     "output_type": "display_data"
    }
   ],
   "source": [
    "df = pd.read_csv(r'D:\\b站学习\\数据分析-BV1Ui4y1o7wh\\书籍+随堂源码+说明\\sample_code\\data\\HR.csv')"
   ]
  },
  {
   "cell_type": "code",
   "execution_count": 4,
   "metadata": {},
   "outputs": [],
   "source": [
    "#清洗数据\n",
    "df = df.dropna(subset=['satisfaction_level','last_evaluation'])\n",
    "df = df[df['satisfaction_level']<=1][df['salary']!='nme']"
   ]
  },
  {
   "cell_type": "code",
   "execution_count": 5,
   "metadata": {},
   "outputs": [],
   "source": [
    "#得到标注\n",
    "label = df['left']\n",
    "df = df.drop(['left'],axis=1)"
   ]
  },
  {
   "cell_type": "code",
   "execution_count": 104,
   "metadata": {},
   "outputs": [],
   "source": [
    "#特征选择\n",
    "#由于特征较少，先不处理"
   ]
  },
  {
   "cell_type": "code",
   "execution_count": 8,
   "metadata": {},
   "outputs": [],
   "source": [
    "#特征处理\n",
    "#技巧-DataFrame列为列表或字符串时的One-Hot编码\n",
    "# d = pd.DataFrame([['2',['Yellow','Blue']],['3',['Blue','Red']]],columns=['NUM','Color'])\n",
    "# d['New_Color'] = d['Color'].apply(lambda x: ','.join(x))\n",
    "# d.New_Color.str.split(',',expand=True).stack().str.get_dummies().sum(level=0)\n",
    "#两种标准化处理方法 \n",
    "df['satisfaction_level'] = StandardScaler().fit_transform(df['satisfaction_level'].values.reshape(-1,1))\n",
    "df['last_evaluation'] = StandardScaler().fit_transform(df['last_evaluation'].values.reshape(-1,1))\n",
    "df['number_project'] = StandardScaler().fit_transform(df['number_project'].values.reshape(-1,1))\n",
    "df['average_monthly_hours'] = StandardScaler().fit_transform(df['average_monthly_hours'].values.reshape(-1,1))\n",
    "df['Work_accident'] = StandardScaler().fit_transform(df['Work_accident'].values.reshape(-1,1))"
   ]
  },
  {
   "cell_type": "code",
   "execution_count": 9,
   "metadata": {},
   "outputs": [],
   "source": [
    "department = pd.get_dummies(df['department'])\n",
    "salary = pd.get_dummies(df['salary'])"
   ]
  },
  {
   "cell_type": "code",
   "execution_count": 10,
   "metadata": {},
   "outputs": [
    {
     "data": {
      "text/html": [
       "<div>\n",
       "<style scoped>\n",
       "    .dataframe tbody tr th:only-of-type {\n",
       "        vertical-align: middle;\n",
       "    }\n",
       "\n",
       "    .dataframe tbody tr th {\n",
       "        vertical-align: top;\n",
       "    }\n",
       "\n",
       "    .dataframe thead th {\n",
       "        text-align: right;\n",
       "    }\n",
       "</style>\n",
       "<table border=\"1\" class=\"dataframe\">\n",
       "  <thead>\n",
       "    <tr style=\"text-align: right;\">\n",
       "      <th></th>\n",
       "      <th>satisfaction_level</th>\n",
       "      <th>last_evaluation</th>\n",
       "      <th>number_project</th>\n",
       "      <th>average_monthly_hours</th>\n",
       "      <th>time_spend_company</th>\n",
       "      <th>Work_accident</th>\n",
       "      <th>promotion_last_5years</th>\n",
       "      <th>department</th>\n",
       "      <th>salary</th>\n",
       "      <th>IT</th>\n",
       "      <th>...</th>\n",
       "      <th>hr</th>\n",
       "      <th>management</th>\n",
       "      <th>marketing</th>\n",
       "      <th>product_mng</th>\n",
       "      <th>sales</th>\n",
       "      <th>support</th>\n",
       "      <th>technical</th>\n",
       "      <th>high</th>\n",
       "      <th>low</th>\n",
       "      <th>medium</th>\n",
       "    </tr>\n",
       "  </thead>\n",
       "  <tbody>\n",
       "    <tr>\n",
       "      <th>0</th>\n",
       "      <td>-0.936495</td>\n",
       "      <td>-1.087275</td>\n",
       "      <td>-1.462863</td>\n",
       "      <td>-0.882040</td>\n",
       "      <td>3</td>\n",
       "      <td>-0.411165</td>\n",
       "      <td>0</td>\n",
       "      <td>sales</td>\n",
       "      <td>low</td>\n",
       "      <td>0</td>\n",
       "      <td>...</td>\n",
       "      <td>0</td>\n",
       "      <td>0</td>\n",
       "      <td>0</td>\n",
       "      <td>0</td>\n",
       "      <td>1</td>\n",
       "      <td>0</td>\n",
       "      <td>0</td>\n",
       "      <td>0</td>\n",
       "      <td>1</td>\n",
       "      <td>0</td>\n",
       "    </tr>\n",
       "    <tr>\n",
       "      <th>1</th>\n",
       "      <td>0.752814</td>\n",
       "      <td>0.840707</td>\n",
       "      <td>0.971113</td>\n",
       "      <td>1.220423</td>\n",
       "      <td>6</td>\n",
       "      <td>-0.411165</td>\n",
       "      <td>0</td>\n",
       "      <td>sales</td>\n",
       "      <td>medium</td>\n",
       "      <td>0</td>\n",
       "      <td>...</td>\n",
       "      <td>0</td>\n",
       "      <td>0</td>\n",
       "      <td>0</td>\n",
       "      <td>0</td>\n",
       "      <td>1</td>\n",
       "      <td>0</td>\n",
       "      <td>0</td>\n",
       "      <td>0</td>\n",
       "      <td>0</td>\n",
       "      <td>1</td>\n",
       "    </tr>\n",
       "    <tr>\n",
       "      <th>2</th>\n",
       "      <td>-2.022479</td>\n",
       "      <td>0.957554</td>\n",
       "      <td>2.593763</td>\n",
       "      <td>1.420657</td>\n",
       "      <td>4</td>\n",
       "      <td>-0.411165</td>\n",
       "      <td>0</td>\n",
       "      <td>sales</td>\n",
       "      <td>medium</td>\n",
       "      <td>0</td>\n",
       "      <td>...</td>\n",
       "      <td>0</td>\n",
       "      <td>0</td>\n",
       "      <td>0</td>\n",
       "      <td>0</td>\n",
       "      <td>1</td>\n",
       "      <td>0</td>\n",
       "      <td>0</td>\n",
       "      <td>0</td>\n",
       "      <td>0</td>\n",
       "      <td>1</td>\n",
       "    </tr>\n",
       "    <tr>\n",
       "      <th>3</th>\n",
       "      <td>0.431041</td>\n",
       "      <td>0.899131</td>\n",
       "      <td>0.971113</td>\n",
       "      <td>0.439508</td>\n",
       "      <td>5</td>\n",
       "      <td>-0.411165</td>\n",
       "      <td>0</td>\n",
       "      <td>sales</td>\n",
       "      <td>low</td>\n",
       "      <td>0</td>\n",
       "      <td>...</td>\n",
       "      <td>0</td>\n",
       "      <td>0</td>\n",
       "      <td>0</td>\n",
       "      <td>0</td>\n",
       "      <td>1</td>\n",
       "      <td>0</td>\n",
       "      <td>0</td>\n",
       "      <td>0</td>\n",
       "      <td>1</td>\n",
       "      <td>0</td>\n",
       "    </tr>\n",
       "    <tr>\n",
       "      <th>4</th>\n",
       "      <td>-0.976716</td>\n",
       "      <td>-1.145699</td>\n",
       "      <td>-1.462863</td>\n",
       "      <td>-0.841993</td>\n",
       "      <td>3</td>\n",
       "      <td>-0.411165</td>\n",
       "      <td>0</td>\n",
       "      <td>sales</td>\n",
       "      <td>low</td>\n",
       "      <td>0</td>\n",
       "      <td>...</td>\n",
       "      <td>0</td>\n",
       "      <td>0</td>\n",
       "      <td>0</td>\n",
       "      <td>0</td>\n",
       "      <td>1</td>\n",
       "      <td>0</td>\n",
       "      <td>0</td>\n",
       "      <td>0</td>\n",
       "      <td>1</td>\n",
       "      <td>0</td>\n",
       "    </tr>\n",
       "    <tr>\n",
       "      <th>...</th>\n",
       "      <td>...</td>\n",
       "      <td>...</td>\n",
       "      <td>...</td>\n",
       "      <td>...</td>\n",
       "      <td>...</td>\n",
       "      <td>...</td>\n",
       "      <td>...</td>\n",
       "      <td>...</td>\n",
       "      <td>...</td>\n",
       "      <td>...</td>\n",
       "      <td>...</td>\n",
       "      <td>...</td>\n",
       "      <td>...</td>\n",
       "      <td>...</td>\n",
       "      <td>...</td>\n",
       "      <td>...</td>\n",
       "      <td>...</td>\n",
       "      <td>...</td>\n",
       "      <td>...</td>\n",
       "      <td>...</td>\n",
       "      <td>...</td>\n",
       "    </tr>\n",
       "    <tr>\n",
       "      <th>14994</th>\n",
       "      <td>-0.856051</td>\n",
       "      <td>-0.853580</td>\n",
       "      <td>-1.462863</td>\n",
       "      <td>-1.002181</td>\n",
       "      <td>3</td>\n",
       "      <td>-0.411165</td>\n",
       "      <td>0</td>\n",
       "      <td>support</td>\n",
       "      <td>low</td>\n",
       "      <td>0</td>\n",
       "      <td>...</td>\n",
       "      <td>0</td>\n",
       "      <td>0</td>\n",
       "      <td>0</td>\n",
       "      <td>0</td>\n",
       "      <td>0</td>\n",
       "      <td>1</td>\n",
       "      <td>0</td>\n",
       "      <td>0</td>\n",
       "      <td>1</td>\n",
       "      <td>0</td>\n",
       "    </tr>\n",
       "    <tr>\n",
       "      <th>14995</th>\n",
       "      <td>-0.976716</td>\n",
       "      <td>-1.379394</td>\n",
       "      <td>-1.462863</td>\n",
       "      <td>-0.821970</td>\n",
       "      <td>3</td>\n",
       "      <td>-0.411165</td>\n",
       "      <td>0</td>\n",
       "      <td>support</td>\n",
       "      <td>low</td>\n",
       "      <td>0</td>\n",
       "      <td>...</td>\n",
       "      <td>0</td>\n",
       "      <td>0</td>\n",
       "      <td>0</td>\n",
       "      <td>0</td>\n",
       "      <td>0</td>\n",
       "      <td>1</td>\n",
       "      <td>0</td>\n",
       "      <td>0</td>\n",
       "      <td>1</td>\n",
       "      <td>0</td>\n",
       "    </tr>\n",
       "    <tr>\n",
       "      <th>14996</th>\n",
       "      <td>-0.976716</td>\n",
       "      <td>-1.087275</td>\n",
       "      <td>-1.462863</td>\n",
       "      <td>-1.162368</td>\n",
       "      <td>3</td>\n",
       "      <td>-0.411165</td>\n",
       "      <td>0</td>\n",
       "      <td>support</td>\n",
       "      <td>low</td>\n",
       "      <td>0</td>\n",
       "      <td>...</td>\n",
       "      <td>0</td>\n",
       "      <td>0</td>\n",
       "      <td>0</td>\n",
       "      <td>0</td>\n",
       "      <td>0</td>\n",
       "      <td>1</td>\n",
       "      <td>0</td>\n",
       "      <td>0</td>\n",
       "      <td>1</td>\n",
       "      <td>0</td>\n",
       "    </tr>\n",
       "    <tr>\n",
       "      <th>14997</th>\n",
       "      <td>-2.022479</td>\n",
       "      <td>1.424944</td>\n",
       "      <td>1.782438</td>\n",
       "      <td>1.580845</td>\n",
       "      <td>4</td>\n",
       "      <td>-0.411165</td>\n",
       "      <td>0</td>\n",
       "      <td>support</td>\n",
       "      <td>low</td>\n",
       "      <td>0</td>\n",
       "      <td>...</td>\n",
       "      <td>0</td>\n",
       "      <td>0</td>\n",
       "      <td>0</td>\n",
       "      <td>0</td>\n",
       "      <td>0</td>\n",
       "      <td>1</td>\n",
       "      <td>0</td>\n",
       "      <td>0</td>\n",
       "      <td>1</td>\n",
       "      <td>0</td>\n",
       "    </tr>\n",
       "    <tr>\n",
       "      <th>14998</th>\n",
       "      <td>-0.976716</td>\n",
       "      <td>-1.145699</td>\n",
       "      <td>-1.462863</td>\n",
       "      <td>-0.862016</td>\n",
       "      <td>3</td>\n",
       "      <td>-0.411165</td>\n",
       "      <td>0</td>\n",
       "      <td>support</td>\n",
       "      <td>low</td>\n",
       "      <td>0</td>\n",
       "      <td>...</td>\n",
       "      <td>0</td>\n",
       "      <td>0</td>\n",
       "      <td>0</td>\n",
       "      <td>0</td>\n",
       "      <td>0</td>\n",
       "      <td>1</td>\n",
       "      <td>0</td>\n",
       "      <td>0</td>\n",
       "      <td>1</td>\n",
       "      <td>0</td>\n",
       "    </tr>\n",
       "  </tbody>\n",
       "</table>\n",
       "<p>14999 rows × 22 columns</p>\n",
       "</div>"
      ],
      "text/plain": [
       "       satisfaction_level  last_evaluation  number_project  \\\n",
       "0               -0.936495        -1.087275       -1.462863   \n",
       "1                0.752814         0.840707        0.971113   \n",
       "2               -2.022479         0.957554        2.593763   \n",
       "3                0.431041         0.899131        0.971113   \n",
       "4               -0.976716        -1.145699       -1.462863   \n",
       "...                   ...              ...             ...   \n",
       "14994           -0.856051        -0.853580       -1.462863   \n",
       "14995           -0.976716        -1.379394       -1.462863   \n",
       "14996           -0.976716        -1.087275       -1.462863   \n",
       "14997           -2.022479         1.424944        1.782438   \n",
       "14998           -0.976716        -1.145699       -1.462863   \n",
       "\n",
       "       average_monthly_hours  time_spend_company  Work_accident  \\\n",
       "0                  -0.882040                   3      -0.411165   \n",
       "1                   1.220423                   6      -0.411165   \n",
       "2                   1.420657                   4      -0.411165   \n",
       "3                   0.439508                   5      -0.411165   \n",
       "4                  -0.841993                   3      -0.411165   \n",
       "...                      ...                 ...            ...   \n",
       "14994              -1.002181                   3      -0.411165   \n",
       "14995              -0.821970                   3      -0.411165   \n",
       "14996              -1.162368                   3      -0.411165   \n",
       "14997               1.580845                   4      -0.411165   \n",
       "14998              -0.862016                   3      -0.411165   \n",
       "\n",
       "       promotion_last_5years department  salary  IT  ...  hr  management  \\\n",
       "0                          0      sales     low   0  ...   0           0   \n",
       "1                          0      sales  medium   0  ...   0           0   \n",
       "2                          0      sales  medium   0  ...   0           0   \n",
       "3                          0      sales     low   0  ...   0           0   \n",
       "4                          0      sales     low   0  ...   0           0   \n",
       "...                      ...        ...     ...  ..  ...  ..         ...   \n",
       "14994                      0    support     low   0  ...   0           0   \n",
       "14995                      0    support     low   0  ...   0           0   \n",
       "14996                      0    support     low   0  ...   0           0   \n",
       "14997                      0    support     low   0  ...   0           0   \n",
       "14998                      0    support     low   0  ...   0           0   \n",
       "\n",
       "       marketing  product_mng  sales  support  technical  high  low  medium  \n",
       "0              0            0      1        0          0     0    1       0  \n",
       "1              0            0      1        0          0     0    0       1  \n",
       "2              0            0      1        0          0     0    0       1  \n",
       "3              0            0      1        0          0     0    1       0  \n",
       "4              0            0      1        0          0     0    1       0  \n",
       "...          ...          ...    ...      ...        ...   ...  ...     ...  \n",
       "14994          0            0      0        1          0     0    1       0  \n",
       "14995          0            0      0        1          0     0    1       0  \n",
       "14996          0            0      0        1          0     0    1       0  \n",
       "14997          0            0      0        1          0     0    1       0  \n",
       "14998          0            0      0        1          0     0    1       0  \n",
       "\n",
       "[14999 rows x 22 columns]"
      ]
     },
     "execution_count": 10,
     "metadata": {},
     "output_type": "execute_result"
    }
   ],
   "source": [
    "df_new = df.join(department).join(salary)\n",
    "df_new"
   ]
  },
  {
   "cell_type": "code",
   "execution_count": 11,
   "metadata": {},
   "outputs": [],
   "source": [
    "df_new = df_new.drop(['department','salary'],axis=1)"
   ]
  },
  {
   "cell_type": "code",
   "execution_count": 12,
   "metadata": {},
   "outputs": [],
   "source": [
    "df_all = df_new.join(label)"
   ]
  },
  {
   "cell_type": "code",
   "execution_count": 185,
   "metadata": {},
   "outputs": [
    {
     "name": "stdout",
     "output_type": "stream",
     "text": [
      "<class 'pandas.core.frame.DataFrame'>\n",
      "Int64Index: 14999 entries, 0 to 14998\n",
      "Data columns (total 21 columns):\n",
      " #   Column                 Non-Null Count  Dtype  \n",
      "---  ------                 --------------  -----  \n",
      " 0   satisfaction_level     14999 non-null  float64\n",
      " 1   last_evaluation        14999 non-null  float64\n",
      " 2   number_project         14999 non-null  float64\n",
      " 3   average_monthly_hours  14999 non-null  float64\n",
      " 4   time_spend_company     14999 non-null  int64  \n",
      " 5   Work_accident          14999 non-null  float64\n",
      " 6   promotion_last_5years  14999 non-null  int64  \n",
      " 7   IT                     14999 non-null  uint8  \n",
      " 8   RandD                  14999 non-null  uint8  \n",
      " 9   accounting             14999 non-null  uint8  \n",
      " 10  hr                     14999 non-null  uint8  \n",
      " 11  management             14999 non-null  uint8  \n",
      " 12  marketing              14999 non-null  uint8  \n",
      " 13  product_mng            14999 non-null  uint8  \n",
      " 14  sales                  14999 non-null  uint8  \n",
      " 15  support                14999 non-null  uint8  \n",
      " 16  technical              14999 non-null  uint8  \n",
      " 17  high                   14999 non-null  uint8  \n",
      " 18  low                    14999 non-null  uint8  \n",
      " 19  medium                 14999 non-null  uint8  \n",
      " 20  left                   14999 non-null  int64  \n",
      "dtypes: float64(5), int64(3), uint8(13)\n",
      "memory usage: 1.8 MB\n"
     ]
    }
   ],
   "source": [
    "df_all.info()"
   ]
  },
  {
   "cell_type": "code",
   "execution_count": 13,
   "metadata": {},
   "outputs": [
    {
     "name": "stdout",
     "output_type": "stream",
     "text": [
      "(8999, 3000, 3000)\n"
     ]
    }
   ],
   "source": [
    "#切分训练集、验证集和测试集，比例为0.6：0.2：0.2\n",
    "from sklearn.model_selection import train_test_split\n",
    "\n",
    "feature_v = df_new.values\n",
    "label_v = label.values\n",
    "X_tt,X_valid,Y_tt,Y_valid = train_test_split(feature_v,label_v,test_size=0.2) #先取验证集\n",
    "X_train,X_test,Y_train,Y_test = train_test_split(X_tt,Y_tt,test_size=0.25) #再拆分训练集和测试集\n",
    "print((len(X_train),len(X_valid),len(X_test)))"
   ]
  },
  {
   "cell_type": "code",
   "execution_count": 199,
   "metadata": {},
   "outputs": [
    {
     "name": "stdout",
     "output_type": "stream",
     "text": [
      "Train:\n",
      "ACC: 0.9716635181686855\n",
      "RECAL: 0.961155850307911\n",
      "FL: 0.9408764201252029\n",
      "Valid:\n",
      "ACC: 0.954\n",
      "RECAL: 0.9355742296918768\n",
      "FL: 0.9063772048846676\n",
      "Test:\n",
      "ACC: 0.9566666666666667\n",
      "RECAL: 0.9316353887399463\n",
      "FL: 0.9144736842105262\n"
     ]
    }
   ],
   "source": [
    "#KNN算法\n",
    "from sklearn.neighbors import NearestNeighbors,KNeighborsClassifier\n",
    "from sklearn.metrics import accuracy_score,recall_score,f1_score\n",
    "knn_clf = KNeighborsClassifier(n_neighbors=3)\n",
    "knn_clf.fit(X_train,Y_train)\n",
    "Y_pred = knn_clf.predict(X_train)\n",
    "print('Train:')\n",
    "print('ACC:',accuracy_score(Y_train,Y_pred))\n",
    "print('RECAL:',recall_score(Y_train,Y_pred))\n",
    "print('FL:',f1_score(Y_train,Y_pred))\n",
    "\n",
    "Y_pred = knn_clf.predict(X_valid)\n",
    "print('Valid:')\n",
    "print('ACC:',accuracy_score(Y_valid,Y_pred))\n",
    "print('RECAL:',recall_score(Y_valid,Y_pred))\n",
    "print('FL:',f1_score(Y_valid,Y_pred))\n",
    "\n",
    "Y_pred = knn_clf.predict(X_test)\n",
    "print('Test:')\n",
    "print('ACC:',accuracy_score(Y_test,Y_pred))\n",
    "print('RECAL:',recall_score(Y_test,Y_pred))\n",
    "print('FL:',f1_score(Y_test,Y_pred))"
   ]
  },
  {
   "cell_type": "code",
   "execution_count": 214,
   "metadata": {},
   "outputs": [
    {
     "name": "stdout",
     "output_type": "stream",
     "text": [
      "Train:\n",
      "ACC: 0.7750861206800755\n",
      "RECAL: 0.36807200378967314\n",
      "FL: 0.43432084963666856\n",
      "Valid:\n",
      "ACC: 0.7716666666666666\n",
      "RECAL: 0.35154061624649857\n",
      "FL: 0.42291491154170174\n",
      "Test:\n",
      "ACC: 0.7683333333333333\n",
      "RECAL: 0.37131367292225204\n",
      "FL: 0.4435548438751001\n"
     ]
    }
   ],
   "source": [
    "#朴素贝叶斯\n",
    "from sklearn.metrics import accuracy_score,recall_score,f1_score\n",
    "from sklearn.naive_bayes import GaussianNB,BernoulliNB   \n",
    "clf = BernoulliNB ()\n",
    "clf.fit(X_train,Y_train)\n",
    "Y_pred = clf.predict(X_train)\n",
    "print('Train:')\n",
    "print('ACC:',accuracy_score(Y_train,Y_pred))\n",
    "print('RECAL:',recall_score(Y_train,Y_pred))\n",
    "print('FL:',f1_score(Y_train,Y_pred))\n",
    "\n",
    "Y_pred = clf.predict(X_valid)\n",
    "print('Valid:')\n",
    "print('ACC:',accuracy_score(Y_valid,Y_pred))\n",
    "print('RECAL:',recall_score(Y_valid,Y_pred))\n",
    "print('FL:',f1_score(Y_valid,Y_pred))\n",
    "\n",
    "Y_pred = clf.predict(X_test)\n",
    "print('Test:')\n",
    "print('ACC:',accuracy_score(Y_test,Y_pred))\n",
    "print('RECAL:',recall_score(Y_test,Y_pred))\n",
    "print('FL:',f1_score(Y_test,Y_pred))"
   ]
  },
  {
   "cell_type": "code",
   "execution_count": 210,
   "metadata": {},
   "outputs": [
    {
     "name": "stdout",
     "output_type": "stream",
     "text": [
      "Train:\n",
      "ACC: 1.0\n",
      "RECAL: 1.0\n",
      "FL: 1.0\n",
      "Valid:\n",
      "ACC: 0.9746666666666667\n",
      "RECAL: 0.9649859943977591\n",
      "FL: 0.9477303988995873\n",
      "Test:\n",
      "ACC: 0.974\n",
      "RECAL: 0.9651474530831099\n",
      "FL: 0.9486166007905138\n"
     ]
    }
   ],
   "source": [
    "#决策树，并可视化\n",
    "from sklearn.metrics import accuracy_score,recall_score,f1_score\n",
    "from sklearn.tree import DecisionTreeClassifier ,export_graphviz\n",
    "from six import StringIO\n",
    "import pydotplus \n",
    "import os\n",
    "os.environ['PATH'] += os.pathsep + 'E:/Graphviz/bin/'\n",
    "\n",
    "f_names = df_new.columns.values\n",
    "clf = DecisionTreeClassifier() #默认Gini\n",
    "clf.fit(X_train,Y_train)\n",
    "Y_pred = clf.predict(X_train)\n",
    "print('Train:')\n",
    "print('ACC:',accuracy_score(Y_train,Y_pred))\n",
    "print('RECAL:',recall_score(Y_train,Y_pred))\n",
    "print('FL:',f1_score(Y_train,Y_pred))\n",
    "dot_data = export_graphviz(clf,out_file=None,feature_names=f_names,class_names=['NL','L'],\n",
    "                            filled=True,rounded=True,special_characters=True)\n",
    "graph = pydotplus.graph_from_dot_data(dot_data)\n",
    "graph.write_pdf('dt_tree.pdf')\n",
    "Y_pred = clf.predict(X_valid)\n",
    "print('Valid:')\n",
    "print('ACC:',accuracy_score(Y_valid,Y_pred))\n",
    "print('RECAL:',recall_score(Y_valid,Y_pred))\n",
    "print('FL:',f1_score(Y_valid,Y_pred))\n",
    "\n",
    "Y_pred = clf.predict(X_test)\n",
    "print('Test:')\n",
    "print('ACC:',accuracy_score(Y_test,Y_pred))\n",
    "print('RECAL:',recall_score(Y_test,Y_pred))\n",
    "print('FL:',f1_score(Y_test,Y_pred))"
   ]
  },
  {
   "cell_type": "code",
   "execution_count": 215,
   "metadata": {},
   "outputs": [
    {
     "name": "stdout",
     "output_type": "stream",
     "text": [
      "Train:\n",
      "ACC: 0.9576619624402711\n",
      "RECAL: 0.9095215537659876\n",
      "FL: 0.9097370291400142\n",
      "Valid:\n",
      "ACC: 0.9566666666666667\n",
      "RECAL: 0.9019607843137255\n",
      "FL: 0.9083215796897037\n",
      "Test:\n",
      "ACC: 0.9603333333333334\n",
      "RECAL: 0.9182305630026809\n",
      "FL: 0.9200805910006714\n"
     ]
    }
   ],
   "source": [
    "#SVM\n",
    "from sklearn.metrics import accuracy_score,recall_score,f1_score\n",
    "from sklearn.svm import SVC \n",
    "clf = SVC()\n",
    "clf.fit(X_train,Y_train)\n",
    "Y_pred = clf.predict(X_train)\n",
    "print('Train:')\n",
    "print('ACC:',accuracy_score(Y_train,Y_pred))\n",
    "print('RECAL:',recall_score(Y_train,Y_pred))\n",
    "print('FL:',f1_score(Y_train,Y_pred))\n",
    "\n",
    "Y_pred = clf.predict(X_valid)\n",
    "print('Valid:')\n",
    "print('ACC:',accuracy_score(Y_valid,Y_pred))\n",
    "print('RECAL:',recall_score(Y_valid,Y_pred))\n",
    "print('FL:',f1_score(Y_valid,Y_pred))\n",
    "\n",
    "Y_pred = clf.predict(X_test)\n",
    "print('Test:')\n",
    "print('ACC:',accuracy_score(Y_test,Y_pred))\n",
    "print('RECAL:',recall_score(Y_test,Y_pred))\n",
    "print('FL:',f1_score(Y_test,Y_pred))"
   ]
  },
  {
   "cell_type": "code",
   "execution_count": 220,
   "metadata": {},
   "outputs": [
    {
     "name": "stdout",
     "output_type": "stream",
     "text": [
      "Train:\n",
      "ACC: 1.0\n",
      "RECAL: 1.0\n",
      "FL: 1.0\n",
      "Valid:\n",
      "ACC: 0.9866666666666667\n",
      "RECAL: 0.9649859943977591\n",
      "FL: 0.9717912552891397\n",
      "Test:\n",
      "ACC: 0.9876666666666667\n",
      "RECAL: 0.9611260053619303\n",
      "FL: 0.974847042828008\n"
     ]
    }
   ],
   "source": [
    "#随机森林\n",
    "from sklearn.metrics import accuracy_score,recall_score,f1_score\n",
    "from sklearn.ensemble import RandomForestClassifier \n",
    "clf = RandomForestClassifier(max_features=None,bootstrap=True) #使用所有特征，并进行样本抽样\n",
    "clf.fit(X_train,Y_train)\n",
    "Y_pred = clf.predict(X_train)\n",
    "print('Train:')\n",
    "print('ACC:',accuracy_score(Y_train,Y_pred))\n",
    "print('RECAL:',recall_score(Y_train,Y_pred))\n",
    "print('FL:',f1_score(Y_train,Y_pred))\n",
    "\n",
    "Y_pred = clf.predict(X_valid)\n",
    "print('Valid:')\n",
    "print('ACC:',accuracy_score(Y_valid,Y_pred))\n",
    "print('RECAL:',recall_score(Y_valid,Y_pred))\n",
    "print('FL:',f1_score(Y_valid,Y_pred))\n",
    "\n",
    "Y_pred = clf.predict(X_test)\n",
    "print('Test:')\n",
    "print('ACC:',accuracy_score(Y_test,Y_pred))\n",
    "print('RECAL:',recall_score(Y_test,Y_pred))\n",
    "print('FL:',f1_score(Y_test,Y_pred))"
   ]
  },
  {
   "cell_type": "code",
   "execution_count": 224,
   "metadata": {},
   "outputs": [
    {
     "name": "stdout",
     "output_type": "stream",
     "text": [
      "Train:\n",
      "ACC: 0.76541837981998\n",
      "RECAL: 0.0\n",
      "FL: 0.0\n",
      "Valid:\n",
      "ACC: 0.762\n",
      "RECAL: 0.0\n",
      "FL: 0.0\n",
      "Test:\n",
      "ACC: 0.7513333333333333\n",
      "RECAL: 0.0\n",
      "FL: 0.0\n"
     ]
    }
   ],
   "source": [
    "#Adaboost\n",
    "from sklearn.metrics import accuracy_score,recall_score,f1_score\n",
    "from sklearn.ensemble import AdaBoostClassifier\n",
    "clf = AdaBoostClassifier(n_estimators=100,base_estimator=SVC(),algorithm='SAMME') \n",
    "clf.fit(X_train,Y_train)\n",
    "Y_pred = clf.predict(X_train)\n",
    "print('Train:')\n",
    "print('ACC:',accuracy_score(Y_train,Y_pred))\n",
    "print('RECAL:',recall_score(Y_train,Y_pred))\n",
    "print('FL:',f1_score(Y_train,Y_pred))\n",
    "\n",
    "Y_pred = clf.predict(X_valid)\n",
    "print('Valid:')\n",
    "print('ACC:',accuracy_score(Y_valid,Y_pred))\n",
    "print('RECAL:',recall_score(Y_valid,Y_pred))\n",
    "print('FL:',f1_score(Y_valid,Y_pred))\n",
    "\n",
    "Y_pred = clf.predict(X_test)\n",
    "print('Test:')\n",
    "print('ACC:',accuracy_score(Y_test,Y_pred))\n",
    "print('RECAL:',recall_score(Y_test,Y_pred))\n",
    "print('FL:',f1_score(Y_test,Y_pred))"
   ]
  },
  {
   "cell_type": "code",
   "execution_count": 228,
   "metadata": {},
   "outputs": [
    {
     "name": "stdout",
     "output_type": "stream",
     "text": [
      "Train:\n",
      "MSE: 0.2111345705078342\n",
      "Valid:\n",
      "MSE: 0.211\n",
      "Test:\n",
      "MSE: 0.21066666666666667\n"
     ]
    },
    {
     "name": "stderr",
     "output_type": "stream",
     "text": [
      "E:\\anaconda\\lib\\site-packages\\sklearn\\linear_model\\_sag.py:328: ConvergenceWarning: The max_iter was reached which means the coef_ did not converge\n",
      "  warnings.warn(\"The max_iter was reached which means \"\n"
     ]
    }
   ],
   "source": [
    "#回归分析\n",
    "from sklearn.metrics import accuracy_score,recall_score,f1_score,mean_squared_error\n",
    "from sklearn.linear_model import LinearRegression,LogisticRegression\n",
    "clf = LogisticRegression(solver='sag')\n",
    "clf.fit(X_train,Y_train)\n",
    "Y_pred = clf.predict(X_train)\n",
    "print('Train:')\n",
    "print('MSE:',mean_squared_error(Y_pred,Y_train))\n",
    "\n",
    "Y_pred = clf.predict(X_valid)\n",
    "print('Valid:')\n",
    "print('MSE:',mean_squared_error(Y_pred,Y_valid))\n",
    "\n",
    "\n",
    "Y_pred = clf.predict(X_test)\n",
    "print('Test:')\n",
    "print('MSE:',mean_squared_error(Y_pred,Y_test))\n"
   ]
  },
  {
   "cell_type": "code",
   "execution_count": 17,
   "metadata": {},
   "outputs": [
    {
     "name": "stderr",
     "output_type": "stream",
     "text": [
      "E:\\anaconda\\lib\\site-packages\\keras\\optimizer_v2\\optimizer_v2.py:355: UserWarning: The `lr` argument is deprecated, use `learning_rate` instead.\n",
      "  warnings.warn(\n"
     ]
    },
    {
     "name": "stdout",
     "output_type": "stream",
     "text": [
      "Epoch 1/100\n",
      "5/5 [==============================] - 0s 2ms/step - loss: 0.4046\n",
      "Epoch 2/100\n",
      "5/5 [==============================] - 0s 2ms/step - loss: 0.3476\n",
      "Epoch 3/100\n",
      "5/5 [==============================] - 0s 2ms/step - loss: 0.2988\n",
      "Epoch 4/100\n",
      "5/5 [==============================] - 0s 2ms/step - loss: 0.2624\n",
      "Epoch 5/100\n",
      "5/5 [==============================] - 0s 3ms/step - loss: 0.2371\n",
      "Epoch 6/100\n",
      "5/5 [==============================] - 0s 3ms/step - loss: 0.2202\n",
      "Epoch 7/100\n",
      "5/5 [==============================] - 0s 3ms/step - loss: 0.2091\n",
      "Epoch 8/100\n",
      "5/5 [==============================] - 0s 3ms/step - loss: 0.2017\n",
      "Epoch 9/100\n",
      "5/5 [==============================] - 0s 2ms/step - loss: 0.1966\n",
      "Epoch 10/100\n",
      "5/5 [==============================] - 0s 2ms/step - loss: 0.1930\n",
      "Epoch 11/100\n",
      "5/5 [==============================] - 0s 2ms/step - loss: 0.1904\n",
      "Epoch 12/100\n",
      "5/5 [==============================] - 0s 2ms/step - loss: 0.1886\n",
      "Epoch 13/100\n",
      "5/5 [==============================] - 0s 2ms/step - loss: 0.1872\n",
      "Epoch 14/100\n",
      "5/5 [==============================] - 0s 3ms/step - loss: 0.1861\n",
      "Epoch 15/100\n",
      "5/5 [==============================] - 0s 3ms/step - loss: 0.1853\n",
      "Epoch 16/100\n",
      "5/5 [==============================] - 0s 2ms/step - loss: 0.1846\n",
      "Epoch 17/100\n",
      "5/5 [==============================] - 0s 2ms/step - loss: 0.1841\n",
      "Epoch 18/100\n",
      "5/5 [==============================] - 0s 3ms/step - loss: 0.1837\n",
      "Epoch 19/100\n",
      "5/5 [==============================] - 0s 2ms/step - loss: 0.1833\n",
      "Epoch 20/100\n",
      "5/5 [==============================] - 0s 2ms/step - loss: 0.1830\n",
      "Epoch 21/100\n",
      "5/5 [==============================] - 0s 2ms/step - loss: 0.1827\n",
      "Epoch 22/100\n",
      "5/5 [==============================] - 0s 2ms/step - loss: 0.1825\n",
      "Epoch 23/100\n",
      "5/5 [==============================] - 0s 2ms/step - loss: 0.1823\n",
      "Epoch 24/100\n",
      "5/5 [==============================] - 0s 2ms/step - loss: 0.1821\n",
      "Epoch 25/100\n",
      "5/5 [==============================] - 0s 3ms/step - loss: 0.1819\n",
      "Epoch 26/100\n",
      "5/5 [==============================] - 0s 3ms/step - loss: 0.1818\n",
      "Epoch 27/100\n",
      "5/5 [==============================] - 0s 2ms/step - loss: 0.1816\n",
      "Epoch 28/100\n",
      "5/5 [==============================] - 0s 3ms/step - loss: 0.1815\n",
      "Epoch 29/100\n",
      "5/5 [==============================] - 0s 2ms/step - loss: 0.1814\n",
      "Epoch 30/100\n",
      "5/5 [==============================] - 0s 2ms/step - loss: 0.1812\n",
      "Epoch 31/100\n",
      "5/5 [==============================] - 0s 2ms/step - loss: 0.1811\n",
      "Epoch 32/100\n",
      "5/5 [==============================] - 0s 3ms/step - loss: 0.1810\n",
      "Epoch 33/100\n",
      "5/5 [==============================] - 0s 2ms/step - loss: 0.1809\n",
      "Epoch 34/100\n",
      "5/5 [==============================] - 0s 2ms/step - loss: 0.1807\n",
      "Epoch 35/100\n",
      "5/5 [==============================] - 0s 2ms/step - loss: 0.1806\n",
      "Epoch 36/100\n",
      "5/5 [==============================] - 0s 3ms/step - loss: 0.1805\n",
      "Epoch 37/100\n",
      "5/5 [==============================] - 0s 2ms/step - loss: 0.1804\n",
      "Epoch 38/100\n",
      "5/5 [==============================] - 0s 2ms/step - loss: 0.1803\n",
      "Epoch 39/100\n",
      "5/5 [==============================] - 0s 2ms/step - loss: 0.1802\n",
      "Epoch 40/100\n",
      "5/5 [==============================] - 0s 2ms/step - loss: 0.1801\n",
      "Epoch 41/100\n",
      "5/5 [==============================] - 0s 3ms/step - loss: 0.1800\n",
      "Epoch 42/100\n",
      "5/5 [==============================] - 0s 3ms/step - loss: 0.1799\n",
      "Epoch 43/100\n",
      "5/5 [==============================] - 0s 2ms/step - loss: 0.1797\n",
      "Epoch 44/100\n",
      "5/5 [==============================] - 0s 3ms/step - loss: 0.1796\n",
      "Epoch 45/100\n",
      "5/5 [==============================] - 0s 3ms/step - loss: 0.1795\n",
      "Epoch 46/100\n",
      "5/5 [==============================] - 0s 3ms/step - loss: 0.1794\n",
      "Epoch 47/100\n",
      "5/5 [==============================] - 0s 3ms/step - loss: 0.1793\n",
      "Epoch 48/100\n",
      "5/5 [==============================] - 0s 3ms/step - loss: 0.1792\n",
      "Epoch 49/100\n",
      "5/5 [==============================] - 0s 2ms/step - loss: 0.1791\n",
      "Epoch 50/100\n",
      "5/5 [==============================] - 0s 2ms/step - loss: 0.1790\n",
      "Epoch 51/100\n",
      "5/5 [==============================] - 0s 3ms/step - loss: 0.1789\n",
      "Epoch 52/100\n",
      "5/5 [==============================] - 0s 3ms/step - loss: 0.1788\n",
      "Epoch 53/100\n",
      "5/5 [==============================] - 0s 3ms/step - loss: 0.1787\n",
      "Epoch 54/100\n",
      "5/5 [==============================] - 0s 3ms/step - loss: 0.1786\n",
      "Epoch 55/100\n",
      "5/5 [==============================] - 0s 3ms/step - loss: 0.1785\n",
      "Epoch 56/100\n",
      "5/5 [==============================] - 0s 2ms/step - loss: 0.1784\n",
      "Epoch 57/100\n",
      "5/5 [==============================] - 0s 2ms/step - loss: 0.1783\n",
      "Epoch 58/100\n",
      "5/5 [==============================] - 0s 2ms/step - loss: 0.1782\n",
      "Epoch 59/100\n",
      "5/5 [==============================] - 0s 2ms/step - loss: 0.1781\n",
      "Epoch 60/100\n",
      "5/5 [==============================] - 0s 2ms/step - loss: 0.1780\n",
      "Epoch 61/100\n",
      "5/5 [==============================] - 0s 2ms/step - loss: 0.1779\n",
      "Epoch 62/100\n",
      "5/5 [==============================] - 0s 3ms/step - loss: 0.1778\n",
      "Epoch 63/100\n",
      "5/5 [==============================] - 0s 2ms/step - loss: 0.1777\n",
      "Epoch 64/100\n",
      "5/5 [==============================] - 0s 2ms/step - loss: 0.1776\n",
      "Epoch 65/100\n",
      "5/5 [==============================] - 0s 2ms/step - loss: 0.1775\n",
      "Epoch 66/100\n",
      "5/5 [==============================] - 0s 2ms/step - loss: 0.1774\n",
      "Epoch 67/100\n",
      "5/5 [==============================] - 0s 2ms/step - loss: 0.1773\n",
      "Epoch 68/100\n",
      "5/5 [==============================] - 0s 3ms/step - loss: 0.1771\n",
      "Epoch 69/100\n",
      "5/5 [==============================] - 0s 3ms/step - loss: 0.1770\n",
      "Epoch 70/100\n",
      "5/5 [==============================] - 0s 3ms/step - loss: 0.1769\n",
      "Epoch 71/100\n",
      "5/5 [==============================] - 0s 3ms/step - loss: 0.1768\n",
      "Epoch 72/100\n",
      "5/5 [==============================] - 0s 2ms/step - loss: 0.1767\n",
      "Epoch 73/100\n",
      "5/5 [==============================] - 0s 2ms/step - loss: 0.1766\n",
      "Epoch 74/100\n",
      "5/5 [==============================] - 0s 3ms/step - loss: 0.1765\n",
      "Epoch 75/100\n",
      "5/5 [==============================] - 0s 2ms/step - loss: 0.1764\n",
      "Epoch 76/100\n",
      "5/5 [==============================] - 0s 2ms/step - loss: 0.1763\n",
      "Epoch 77/100\n",
      "5/5 [==============================] - 0s 3ms/step - loss: 0.1762\n",
      "Epoch 78/100\n",
      "5/5 [==============================] - 0s 3ms/step - loss: 0.1761\n",
      "Epoch 79/100\n",
      "5/5 [==============================] - 0s 3ms/step - loss: 0.1760\n",
      "Epoch 80/100\n",
      "5/5 [==============================] - 0s 3ms/step - loss: 0.1759\n",
      "Epoch 81/100\n",
      "5/5 [==============================] - 0s 4ms/step - loss: 0.1758\n",
      "Epoch 82/100\n",
      "5/5 [==============================] - 0s 3ms/step - loss: 0.1757\n",
      "Epoch 83/100\n",
      "5/5 [==============================] - 0s 3ms/step - loss: 0.1756\n",
      "Epoch 84/100\n",
      "5/5 [==============================] - 0s 3ms/step - loss: 0.1755\n",
      "Epoch 85/100\n",
      "5/5 [==============================] - 0s 3ms/step - loss: 0.1754\n",
      "Epoch 86/100\n",
      "5/5 [==============================] - 0s 2ms/step - loss: 0.1753\n",
      "Epoch 87/100\n",
      "5/5 [==============================] - 0s 3ms/step - loss: 0.1752\n",
      "Epoch 88/100\n",
      "5/5 [==============================] - 0s 3ms/step - loss: 0.1752\n",
      "Epoch 89/100\n",
      "5/5 [==============================] - 0s 3ms/step - loss: 0.1751\n",
      "Epoch 90/100\n",
      "5/5 [==============================] - 0s 3ms/step - loss: 0.1750\n",
      "Epoch 91/100\n",
      "5/5 [==============================] - 0s 2ms/step - loss: 0.1749\n",
      "Epoch 92/100\n",
      "5/5 [==============================] - 0s 2ms/step - loss: 0.1748\n",
      "Epoch 93/100\n",
      "5/5 [==============================] - 0s 3ms/step - loss: 0.1747\n",
      "Epoch 94/100\n",
      "5/5 [==============================] - 0s 2ms/step - loss: 0.1746\n",
      "Epoch 95/100\n",
      "5/5 [==============================] - 0s 2ms/step - loss: 0.1745\n",
      "Epoch 96/100\n",
      "5/5 [==============================] - 0s 2ms/step - loss: 0.1744\n",
      "Epoch 97/100\n",
      "5/5 [==============================] - 0s 2ms/step - loss: 0.1743\n",
      "Epoch 98/100\n",
      "5/5 [==============================] - 0s 3ms/step - loss: 0.1742\n",
      "Epoch 99/100\n",
      "5/5 [==============================] - 0s 2ms/step - loss: 0.1741\n",
      "Epoch 100/100\n",
      "5/5 [==============================] - 0s 2ms/step - loss: 0.1740\n",
      "Train:\n"
     ]
    },
    {
     "ename": "ValueError",
     "evalue": "The truth value of an array with more than one element is ambiguous. Use a.any() or a.all()",
     "output_type": "error",
     "traceback": [
      "\u001b[1;31m---------------------------------------------------------------------------\u001b[0m",
      "\u001b[1;31mValueError\u001b[0m                                Traceback (most recent call last)",
      "\u001b[1;32m<ipython-input-17-6ee3b6df12be>\u001b[0m in \u001b[0;36m<module>\u001b[1;34m\u001b[0m\n\u001b[0;32m     15\u001b[0m \u001b[0mY_pred\u001b[0m \u001b[1;33m=\u001b[0m \u001b[0mmdl\u001b[0m\u001b[1;33m.\u001b[0m\u001b[0mpredict\u001b[0m\u001b[1;33m(\u001b[0m\u001b[0mX_train\u001b[0m\u001b[1;33m)\u001b[0m\u001b[1;33m\u001b[0m\u001b[1;33m\u001b[0m\u001b[0m\n\u001b[0;32m     16\u001b[0m \u001b[0mprint\u001b[0m\u001b[1;33m(\u001b[0m\u001b[1;34m'Train:'\u001b[0m\u001b[1;33m)\u001b[0m\u001b[1;33m\u001b[0m\u001b[1;33m\u001b[0m\u001b[0m\n\u001b[1;32m---> 17\u001b[1;33m \u001b[0mY_pred\u001b[0m \u001b[1;33m=\u001b[0m \u001b[1;33m[\u001b[0m\u001b[1;36m1\u001b[0m \u001b[1;32mif\u001b[0m \u001b[0mi\u001b[0m\u001b[1;33m==\u001b[0m\u001b[1;33m[\u001b[0m\u001b[1;36m0\u001b[0m\u001b[1;33m,\u001b[0m\u001b[1;36m1\u001b[0m\u001b[1;33m]\u001b[0m \u001b[1;32melse\u001b[0m \u001b[1;36m0\u001b[0m \u001b[1;32mfor\u001b[0m \u001b[0mi\u001b[0m \u001b[1;32min\u001b[0m \u001b[0mY_pred\u001b[0m\u001b[1;33m]\u001b[0m\u001b[1;33m\u001b[0m\u001b[1;33m\u001b[0m\u001b[0m\n\u001b[0m\u001b[0;32m     18\u001b[0m \u001b[0mprint\u001b[0m\u001b[1;33m(\u001b[0m\u001b[1;34m'ACC:'\u001b[0m\u001b[1;33m,\u001b[0m\u001b[0maccuracy_score\u001b[0m\u001b[1;33m(\u001b[0m\u001b[0mY_train\u001b[0m\u001b[1;33m,\u001b[0m\u001b[0mY_pred\u001b[0m\u001b[1;33m)\u001b[0m\u001b[1;33m)\u001b[0m\u001b[1;33m\u001b[0m\u001b[1;33m\u001b[0m\u001b[0m\n\u001b[0;32m     19\u001b[0m \u001b[0mprint\u001b[0m\u001b[1;33m(\u001b[0m\u001b[1;34m'RECAL:'\u001b[0m\u001b[1;33m,\u001b[0m\u001b[0mrecall_score\u001b[0m\u001b[1;33m(\u001b[0m\u001b[0mY_train\u001b[0m\u001b[1;33m,\u001b[0m\u001b[0mY_pred\u001b[0m\u001b[1;33m)\u001b[0m\u001b[1;33m)\u001b[0m\u001b[1;33m\u001b[0m\u001b[1;33m\u001b[0m\u001b[0m\n",
      "\u001b[1;32m<ipython-input-17-6ee3b6df12be>\u001b[0m in \u001b[0;36m<listcomp>\u001b[1;34m(.0)\u001b[0m\n\u001b[0;32m     15\u001b[0m \u001b[0mY_pred\u001b[0m \u001b[1;33m=\u001b[0m \u001b[0mmdl\u001b[0m\u001b[1;33m.\u001b[0m\u001b[0mpredict\u001b[0m\u001b[1;33m(\u001b[0m\u001b[0mX_train\u001b[0m\u001b[1;33m)\u001b[0m\u001b[1;33m\u001b[0m\u001b[1;33m\u001b[0m\u001b[0m\n\u001b[0;32m     16\u001b[0m \u001b[0mprint\u001b[0m\u001b[1;33m(\u001b[0m\u001b[1;34m'Train:'\u001b[0m\u001b[1;33m)\u001b[0m\u001b[1;33m\u001b[0m\u001b[1;33m\u001b[0m\u001b[0m\n\u001b[1;32m---> 17\u001b[1;33m \u001b[0mY_pred\u001b[0m \u001b[1;33m=\u001b[0m \u001b[1;33m[\u001b[0m\u001b[1;36m1\u001b[0m \u001b[1;32mif\u001b[0m \u001b[0mi\u001b[0m\u001b[1;33m==\u001b[0m\u001b[1;33m[\u001b[0m\u001b[1;36m0\u001b[0m\u001b[1;33m,\u001b[0m\u001b[1;36m1\u001b[0m\u001b[1;33m]\u001b[0m \u001b[1;32melse\u001b[0m \u001b[1;36m0\u001b[0m \u001b[1;32mfor\u001b[0m \u001b[0mi\u001b[0m \u001b[1;32min\u001b[0m \u001b[0mY_pred\u001b[0m\u001b[1;33m]\u001b[0m\u001b[1;33m\u001b[0m\u001b[1;33m\u001b[0m\u001b[0m\n\u001b[0m\u001b[0;32m     18\u001b[0m \u001b[0mprint\u001b[0m\u001b[1;33m(\u001b[0m\u001b[1;34m'ACC:'\u001b[0m\u001b[1;33m,\u001b[0m\u001b[0maccuracy_score\u001b[0m\u001b[1;33m(\u001b[0m\u001b[0mY_train\u001b[0m\u001b[1;33m,\u001b[0m\u001b[0mY_pred\u001b[0m\u001b[1;33m)\u001b[0m\u001b[1;33m)\u001b[0m\u001b[1;33m\u001b[0m\u001b[1;33m\u001b[0m\u001b[0m\n\u001b[0;32m     19\u001b[0m \u001b[0mprint\u001b[0m\u001b[1;33m(\u001b[0m\u001b[1;34m'RECAL:'\u001b[0m\u001b[1;33m,\u001b[0m\u001b[0mrecall_score\u001b[0m\u001b[1;33m(\u001b[0m\u001b[0mY_train\u001b[0m\u001b[1;33m,\u001b[0m\u001b[0mY_pred\u001b[0m\u001b[1;33m)\u001b[0m\u001b[1;33m)\u001b[0m\u001b[1;33m\u001b[0m\u001b[1;33m\u001b[0m\u001b[0m\n",
      "\u001b[1;31mValueError\u001b[0m: The truth value of an array with more than one element is ambiguous. Use a.any() or a.all()"
     ]
    }
   ],
   "source": [
    "#神经网络\n",
    "from sklearn.metrics import accuracy_score,recall_score,f1_score,mean_squared_error\n",
    "from keras.models import Sequential\n",
    "from keras.layers.core import Dense,Activation\n",
    "from tensorflow.keras.optimizers import SGD\n",
    "mdl = Sequential()\n",
    "mdl.add(Dense(50,input_dim=len(X_train[0])))#指定神经元个数，输入维度与原始数据等同\n",
    "mdl.add(Activation('sigmoid'))\n",
    "mdl.add(Dense(2))\n",
    "mdl.add(Activation('softmax'))\n",
    "sgd=SGD(lr=0.01)\n",
    "mdl.compile(loss='mse',optimizer=sgd)\n",
    "mdl.fit(X_train,np.array([[0,1] if i==1 else [1,0] for i in Y_train]),epochs=100,batch_size=2048) #标记变量转化为为0-1数组\n",
    "\n",
    "Y_pred = mdl.predict(X_train)\n",
    "print('Train:')\n",
    "Y_pred = [1 if i==[0,1] else 0 for i in Y_pred]\n",
    "print('ACC:',accuracy_score(Y_train,Y_pred))\n",
    "print('RECAL:',recall_score(Y_train,Y_pred))\n",
    "print('FL:',f1_score(Y_train,Y_pred))\n",
    "\n",
    "Y_pred = clf.predict(X_valid)\n",
    "print('Valid:')\n",
    "Y_pred = [1 if i==[0,1] else 0 for i in Y_pred]\n",
    "print('ACC:',accuracy_score(Y_valid,Y_pred))\n",
    "print('RECAL:',recall_score(Y_valid,Y_pred))\n",
    "print('FL:',f1_score(Y_valid,Y_pred))\n",
    "\n",
    "Y_pred = clf.predict(X_test)\n",
    "print('Test:')\n",
    "Y_pred = [1 if i==[0,1] else 0 for i in Y_pred]\n",
    "print('ACC:',accuracy_score(Y_test,Y_pred))\n",
    "print('RECAL:',recall_score(Y_test,Y_pred))\n",
    "print('FL:',f1_score(Y_test,Y_pred))"
   ]
  },
  {
   "cell_type": "code",
   "execution_count": 242,
   "metadata": {},
   "outputs": [
    {
     "data": {
      "text/plain": [
       "array([0, 0, 0, ..., 0, 0, 1], dtype=int64)"
      ]
     },
     "execution_count": 242,
     "metadata": {},
     "output_type": "execute_result"
    }
   ],
   "source": []
  },
  {
   "cell_type": "code",
   "execution_count": 243,
   "metadata": {},
   "outputs": [
    {
     "data": {
      "text/plain": [
       "array([[0, 1],\n",
       "       [0, 1],\n",
       "       [0, 1],\n",
       "       ...,\n",
       "       [0, 1],\n",
       "       [0, 1],\n",
       "       [0, 1]])"
      ]
     },
     "execution_count": 243,
     "metadata": {},
     "output_type": "execute_result"
    }
   ],
   "source": []
  },
  {
   "cell_type": "code",
   "execution_count": 26,
   "metadata": {},
   "outputs": [
    {
     "ename": "AttributeError",
     "evalue": "'tuple' object has no attribute 'res'",
     "output_type": "error",
     "traceback": [
      "\u001b[1;31m---------------------------------------------------------------------------\u001b[0m",
      "\u001b[1;31mAttributeError\u001b[0m                            Traceback (most recent call last)",
      "\u001b[1;32m<ipython-input-26-02d06e9bda1b>\u001b[0m in \u001b[0;36m<module>\u001b[1;34m\u001b[0m\n\u001b[0;32m     27\u001b[0m         \u001b[0mf\u001b[0m\u001b[1;33m.\u001b[0m\u001b[0madd_subplot\u001b[0m\u001b[1;33m(\u001b[0m\u001b[0mlen\u001b[0m\u001b[1;33m(\u001b[0m\u001b[0mmodels\u001b[0m\u001b[1;33m)\u001b[0m\u001b[1;33m,\u001b[0m\u001b[0mlen\u001b[0m\u001b[1;33m(\u001b[0m\u001b[0mdata\u001b[0m\u001b[1;33m)\u001b[0m\u001b[1;33m,\u001b[0m\u001b[0minx\u001b[0m\u001b[1;33m*\u001b[0m\u001b[0mlen\u001b[0m\u001b[1;33m(\u001b[0m\u001b[0mdata\u001b[0m\u001b[1;33m)\u001b[0m\u001b[1;33m+\u001b[0m\u001b[0mi\u001b[0m\u001b[1;33m+\u001b[0m\u001b[1;36m1\u001b[0m\u001b[1;33m)\u001b[0m\u001b[1;33m\u001b[0m\u001b[1;33m\u001b[0m\u001b[0m\n\u001b[0;32m     28\u001b[0m \u001b[1;33m\u001b[0m\u001b[0m\n\u001b[1;32m---> 29\u001b[1;33m         \u001b[1;33m[\u001b[0m\u001b[0mplt\u001b[0m\u001b[1;33m.\u001b[0m\u001b[0mscatter\u001b[0m\u001b[1;33m(\u001b[0m\u001b[0mX\u001b[0m\u001b[1;33m[\u001b[0m\u001b[0mp\u001b[0m\u001b[1;33m,\u001b[0m\u001b[1;36m0\u001b[0m\u001b[1;33m]\u001b[0m\u001b[1;33m,\u001b[0m\u001b[0mX\u001b[0m\u001b[1;33m[\u001b[0m\u001b[0mp\u001b[0m\u001b[1;33m,\u001b[0m\u001b[1;36m1\u001b[0m\u001b[1;33m]\u001b[0m\u001b[1;33m,\u001b[0m\u001b[0mcolors\u001b[0m\u001b[1;33m=\u001b[0m\u001b[0mcolors\u001b[0m\u001b[1;33m[\u001b[0m\u001b[0mclt\u001b[0m\u001b[1;33m.\u001b[0m\u001b[0mres\u001b[0m\u001b[1;33m[\u001b[0m\u001b[0mp\u001b[0m\u001b[1;33m]\u001b[0m\u001b[1;33m]\u001b[0m\u001b[1;33m)\u001b[0m \u001b[1;32mfor\u001b[0m \u001b[0mp\u001b[0m \u001b[1;32min\u001b[0m \u001b[0mrange\u001b[0m\u001b[1;33m(\u001b[0m\u001b[0mlen\u001b[0m\u001b[1;33m(\u001b[0m\u001b[0mX\u001b[0m\u001b[1;33m)\u001b[0m\u001b[1;33m)\u001b[0m\u001b[1;33m]\u001b[0m\u001b[1;33m\u001b[0m\u001b[1;33m\u001b[0m\u001b[0m\n\u001b[0m\u001b[0;32m     30\u001b[0m \u001b[0mplt\u001b[0m\u001b[1;33m.\u001b[0m\u001b[0mshow\u001b[0m\u001b[1;33m(\u001b[0m\u001b[1;33m)\u001b[0m\u001b[1;33m\u001b[0m\u001b[1;33m\u001b[0m\u001b[0m\n\u001b[0;32m     31\u001b[0m \u001b[1;33m\u001b[0m\u001b[0m\n",
      "\u001b[1;32m<ipython-input-26-02d06e9bda1b>\u001b[0m in \u001b[0;36m<listcomp>\u001b[1;34m(.0)\u001b[0m\n\u001b[0;32m     27\u001b[0m         \u001b[0mf\u001b[0m\u001b[1;33m.\u001b[0m\u001b[0madd_subplot\u001b[0m\u001b[1;33m(\u001b[0m\u001b[0mlen\u001b[0m\u001b[1;33m(\u001b[0m\u001b[0mmodels\u001b[0m\u001b[1;33m)\u001b[0m\u001b[1;33m,\u001b[0m\u001b[0mlen\u001b[0m\u001b[1;33m(\u001b[0m\u001b[0mdata\u001b[0m\u001b[1;33m)\u001b[0m\u001b[1;33m,\u001b[0m\u001b[0minx\u001b[0m\u001b[1;33m*\u001b[0m\u001b[0mlen\u001b[0m\u001b[1;33m(\u001b[0m\u001b[0mdata\u001b[0m\u001b[1;33m)\u001b[0m\u001b[1;33m+\u001b[0m\u001b[0mi\u001b[0m\u001b[1;33m+\u001b[0m\u001b[1;36m1\u001b[0m\u001b[1;33m)\u001b[0m\u001b[1;33m\u001b[0m\u001b[1;33m\u001b[0m\u001b[0m\n\u001b[0;32m     28\u001b[0m \u001b[1;33m\u001b[0m\u001b[0m\n\u001b[1;32m---> 29\u001b[1;33m         \u001b[1;33m[\u001b[0m\u001b[0mplt\u001b[0m\u001b[1;33m.\u001b[0m\u001b[0mscatter\u001b[0m\u001b[1;33m(\u001b[0m\u001b[0mX\u001b[0m\u001b[1;33m[\u001b[0m\u001b[0mp\u001b[0m\u001b[1;33m,\u001b[0m\u001b[1;36m0\u001b[0m\u001b[1;33m]\u001b[0m\u001b[1;33m,\u001b[0m\u001b[0mX\u001b[0m\u001b[1;33m[\u001b[0m\u001b[0mp\u001b[0m\u001b[1;33m,\u001b[0m\u001b[1;36m1\u001b[0m\u001b[1;33m]\u001b[0m\u001b[1;33m,\u001b[0m\u001b[0mcolors\u001b[0m\u001b[1;33m=\u001b[0m\u001b[0mcolors\u001b[0m\u001b[1;33m[\u001b[0m\u001b[0mclt\u001b[0m\u001b[1;33m.\u001b[0m\u001b[0mres\u001b[0m\u001b[1;33m[\u001b[0m\u001b[0mp\u001b[0m\u001b[1;33m]\u001b[0m\u001b[1;33m]\u001b[0m\u001b[1;33m)\u001b[0m \u001b[1;32mfor\u001b[0m \u001b[0mp\u001b[0m \u001b[1;32min\u001b[0m \u001b[0mrange\u001b[0m\u001b[1;33m(\u001b[0m\u001b[0mlen\u001b[0m\u001b[1;33m(\u001b[0m\u001b[0mX\u001b[0m\u001b[1;33m)\u001b[0m\u001b[1;33m)\u001b[0m\u001b[1;33m]\u001b[0m\u001b[1;33m\u001b[0m\u001b[1;33m\u001b[0m\u001b[0m\n\u001b[0m\u001b[0;32m     30\u001b[0m \u001b[0mplt\u001b[0m\u001b[1;33m.\u001b[0m\u001b[0mshow\u001b[0m\u001b[1;33m(\u001b[0m\u001b[1;33m)\u001b[0m\u001b[1;33m\u001b[0m\u001b[1;33m\u001b[0m\u001b[0m\n\u001b[0;32m     31\u001b[0m \u001b[1;33m\u001b[0m\u001b[0m\n",
      "\u001b[1;31mAttributeError\u001b[0m: 'tuple' object has no attribute 'res'"
     ]
    },
    {
     "data": {
      "image/png": "[encoded data removed]",
      "text/plain": [
       "<Figure size 432x288 with 1 Axes>"
      ]
     },
     "metadata": {
      "needs_background": "light"
     },
     "output_type": "display_data"
    }
   ],
   "source": [
    "#聚类算法\n",
    "import numpy\n",
    "import matplotlib.pyplot as plt\n",
    "from sklearn.datasets import make_circles,make_blobs,make_moons\n",
    "from sklearn.cluster import KMeans\n",
    "n_samples = 1000\n",
    "circles = make_circles(n_samples=n_samples,factor=0.5,noise=0.05)\n",
    "moons = make_moons(n_samples=n_samples,noise=0.05)\n",
    "blobs = make_blobs(n_samples=n_samples,random_state=8)\n",
    "random_data = np.random.rand(n_samples,2),None\n",
    "colors = 'bgrcmyk'\n",
    "data = [circles,moons,blobs,random_data]\n",
    "\n",
    "models = [('None',None),('Kmeas',KMeans(n_clusters=2))]\n",
    "\n",
    "\n",
    "f = plt.figure()\n",
    "for inx,clt in enumerate(models):\n",
    "    clt_name,clt_entity = clt\n",
    "    for i,datasets in enumerate(data):\n",
    "        X,Y = datasets\n",
    "        if not clt_entity:\n",
    "            clt_res =[0 for item in range(len(X))]\n",
    "        else:\n",
    "            clt_entity.fit(X)\n",
    "            clt_res = clt_entity.labels_.astype(np.int)\n",
    "        f.add_subplot(len(models),len(data),inx*len(data)+i+1)\n",
    "        \n",
    "        [plt.scatter(X[p,0],X[p,1],colors=colors[clt.res[p]]) for p in range(len(X))] \n",
    "plt.show()\n",
    "\n"
   ]
  },
  {
   "cell_type": "code",
   "execution_count": 30,
   "metadata": {},
   "outputs": [
    {
     "data": {
      "text/plain": [
       "'ewefwf'"
      ]
     },
     "execution_count": 30,
     "metadata": {},
     "output_type": "execute_result"
    }
   ],
   "source": [
    "string= 'fwfewe'\n",
    "string[::-1]"
   ]
  },
  {
   "cell_type": "code",
   "execution_count": 36,
   "metadata": {},
   "outputs": [],
   "source": [
    "#标签传播算法\n",
    "import numpy as np\n",
    "from sklearn import datasets\n"
   ]
  },
  {
   "cell_type": "code",
   "execution_count": 51,
   "metadata": {},
   "outputs": [
    {
     "name": "stdout",
     "output_type": "stream",
     "text": [
      "Unlabeled Number: 82\n"
     ]
    }
   ],
   "source": [
    "iris = datasets.load_iris()\n",
    "labels = np.copy(iris.target)\n",
    "random_unlabeled_points = np.random.rand(len(labels))\n",
    "#将随机数小于0.5的部分都设为未标记数据\n",
    "random_unlabeled_points=random_unlabeled_points <0.5\n",
    "Y = labels[random_unlabeled_points]\n",
    "labels[random_unlabeled_points] = -1\n",
    "print('Unlabeled Number:',list(labels).count(-1))"
   ]
  },
  {
   "cell_type": "code",
   "execution_count": 54,
   "metadata": {},
   "outputs": [
    {
     "name": "stdout",
     "output_type": "stream",
     "text": [
      "ACC: 0.975609756097561\n",
      "RECALL: 0.975609756097561\n",
      "F1: 0.975609756097561\n"
     ]
    }
   ],
   "source": [
    "from sklearn.semi_supervised import LabelPropagation\n",
    "from sklearn.metrics import accuracy_score,recall_score,f1_score\n",
    "label_model = LabelPropagation()\n",
    "label_model.fit(iris.data,labels)\n",
    "Y_pred = label_model.predict(iris.data[random_unlabeled_points])\n",
    "print('ACC:',accuracy_score(Y,Y_pred))\n",
    "print('RECALL:',recall_score(Y,Y_pred,average='micro'))\n",
    "print('F1:',f1_score(Y,Y_pred,average='micro'))"
   ]
  },
  {
   "cell_type": "code",
   "execution_count": null,
   "metadata": {},
   "outputs": [],
   "source": []
  }
 ],
 "metadata": {
  "kernelspec": {
   "display_name": "Python 3",
   "language": "python",
   "name": "python3"
  },
  "language_info": {
   "codemirror_mode": {
    "name": "ipython",
    "version": 3
   },
   "file_extension": ".py",
   "mimetype": "text/x-python",
   "name": "python",
   "nbconvert_exporter": "python",
   "pygments_lexer": "ipython3",
   "version": "3.8.5"
  }
 },
 "nbformat": 4,
 "nbformat_minor": 4
}
